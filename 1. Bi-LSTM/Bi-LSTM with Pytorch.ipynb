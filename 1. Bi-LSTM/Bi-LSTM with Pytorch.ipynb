{
 "cells": [
  {
   "cell_type": "code",
   "execution_count": 1,
   "id": "b51af78c-2dbc-4d4d-8901-9547cf4fed50",
   "metadata": {},
   "outputs": [
    {
     "name": "stderr",
     "output_type": "stream",
     "text": [
      "C:\\Users\\solom\\.conda\\envs\\nlp\\lib\\site-packages\\tqdm\\auto.py:22: TqdmWarning: IProgress not found. Please update jupyter and ipywidgets. See https://ipywidgets.readthedocs.io/en/stable/user_install.html\n",
      "  from .autonotebook import tqdm as notebook_tqdm\n"
     ]
    }
   ],
   "source": [
    "import re\n",
    "import nltk\n",
    "import spacy\n",
    "import gensim\n",
    "import itertools\n",
    "\n",
    "from nltk import ngrams\n",
    "import pandas as pd\n",
    "import numpy as np\n",
    "from sklearn.model_selection import train_test_split\n",
    "from sklearn.preprocessing import LabelBinarizer\n",
    "\n",
    "import torch\n",
    "import torch.nn as nn\n",
    "from torch.utils.data import TensorDataset, DataLoader, RandomSampler, SequentialSampler\n",
    "\n",
    "# Importing model architecture\n",
    "from bilstm_model_architecture import BiLSTMClassifier"
   ]
  },
  {
   "cell_type": "code",
   "execution_count": 2,
   "id": "57f2198d-668a-4669-b753-161b09db0f11",
   "metadata": {},
   "outputs": [
    {
     "data": {
      "text/plain": [
       "True"
      ]
     },
     "execution_count": 2,
     "metadata": {},
     "output_type": "execute_result"
    }
   ],
   "source": [
    "torch.cuda.is_available()"
   ]
  },
  {
   "cell_type": "code",
   "execution_count": 3,
   "id": "59e0af33-74d5-4c5a-abd2-6376bc59ace8",
   "metadata": {},
   "outputs": [],
   "source": [
    "# Cast to GPU if not it will be processed with CPU\n",
    "device = torch.device('cuda')"
   ]
  },
  {
   "cell_type": "code",
   "execution_count": 5,
   "id": "5a6ef912-e64e-4e29-932a-c37896d11fe6",
   "metadata": {},
   "outputs": [],
   "source": [
    "df = pd.read_csv('../0. Sample Datasets/spam_sample.csv')"
   ]
  },
  {
   "cell_type": "code",
   "execution_count": 6,
   "id": "ca0f32eb-b127-41dd-a6e4-848423917ae3",
   "metadata": {},
   "outputs": [
    {
     "data": {
      "text/html": [
       "<div>\n",
       "<style scoped>\n",
       "    .dataframe tbody tr th:only-of-type {\n",
       "        vertical-align: middle;\n",
       "    }\n",
       "\n",
       "    .dataframe tbody tr th {\n",
       "        vertical-align: top;\n",
       "    }\n",
       "\n",
       "    .dataframe thead th {\n",
       "        text-align: right;\n",
       "    }\n",
       "</style>\n",
       "<table border=\"1\" class=\"dataframe\">\n",
       "  <thead>\n",
       "    <tr style=\"text-align: right;\">\n",
       "      <th></th>\n",
       "      <th>v1</th>\n",
       "      <th>v2</th>\n",
       "    </tr>\n",
       "  </thead>\n",
       "  <tbody>\n",
       "    <tr>\n",
       "      <th>0</th>\n",
       "      <td>ham</td>\n",
       "      <td>Go until jurong point, crazy.. Available only ...</td>\n",
       "    </tr>\n",
       "    <tr>\n",
       "      <th>1</th>\n",
       "      <td>ham</td>\n",
       "      <td>Ok lar... Joking wif u oni...</td>\n",
       "    </tr>\n",
       "    <tr>\n",
       "      <th>2</th>\n",
       "      <td>spam</td>\n",
       "      <td>Free entry in 2 a wkly comp to win FA Cup fina...</td>\n",
       "    </tr>\n",
       "    <tr>\n",
       "      <th>3</th>\n",
       "      <td>ham</td>\n",
       "      <td>U dun say so early hor... U c already then say...</td>\n",
       "    </tr>\n",
       "    <tr>\n",
       "      <th>4</th>\n",
       "      <td>ham</td>\n",
       "      <td>Nah I don't think he goes to usf, he lives aro...</td>\n",
       "    </tr>\n",
       "  </tbody>\n",
       "</table>\n",
       "</div>"
      ],
      "text/plain": [
       "     v1                                                 v2\n",
       "0   ham  Go until jurong point, crazy.. Available only ...\n",
       "1   ham                      Ok lar... Joking wif u oni...\n",
       "2  spam  Free entry in 2 a wkly comp to win FA Cup fina...\n",
       "3   ham  U dun say so early hor... U c already then say...\n",
       "4   ham  Nah I don't think he goes to usf, he lives aro..."
      ]
     },
     "execution_count": 6,
     "metadata": {},
     "output_type": "execute_result"
    }
   ],
   "source": [
    "pd.set_option('display.max_column', None) \n",
    "df.head()"
   ]
  },
  {
   "cell_type": "code",
   "execution_count": 6,
   "id": "b623e051-dbaf-4dae-b43b-79575a8f2597",
   "metadata": {},
   "outputs": [
    {
     "name": "stdout",
     "output_type": "stream",
     "text": [
      "<class 'pandas.core.frame.DataFrame'>\n",
      "RangeIndex: 5572 entries, 0 to 5571\n",
      "Data columns (total 2 columns):\n",
      " #   Column  Non-Null Count  Dtype \n",
      "---  ------  --------------  ----- \n",
      " 0   v1      5572 non-null   object\n",
      " 1   v2      5572 non-null   object\n",
      "dtypes: object(2)\n",
      "memory usage: 87.2+ KB\n"
     ]
    }
   ],
   "source": [
    "df.info()"
   ]
  },
  {
   "cell_type": "code",
   "execution_count": 7,
   "id": "04daaa11-17f3-48b4-9bcd-c3968fe29b27",
   "metadata": {},
   "outputs": [
    {
     "data": {
      "text/plain": [
       "ham     4825\n",
       "spam     747\n",
       "Name: v1, dtype: int64"
      ]
     },
     "execution_count": 7,
     "metadata": {},
     "output_type": "execute_result"
    }
   ],
   "source": [
    "df.v1.value_counts()"
   ]
  },
  {
   "cell_type": "markdown",
   "id": "f7f3f1ec-39df-4a75-b61b-4d9b18b0aa72",
   "metadata": {},
   "source": [
    "## We will clean all data (regardless of test/val/train) with the same process before proceeding"
   ]
  },
  {
   "cell_type": "code",
   "execution_count": 8,
   "id": "f5296eac-1f16-45a3-88d2-f1783c45c259",
   "metadata": {
    "scrolled": true,
    "tags": []
   },
   "outputs": [],
   "source": [
    "lem = nltk.WordNetLemmatizer()\n",
    "\n",
    "stop_words = nltk.corpus.stopwords.words('english')\n",
    "\n",
    "def preprocessing(sentence):\n",
    "    sent = sentence.lower()\n",
    "    \n",
    "    # Removing selected symbols, keeping numbers\n",
    "    sent = re.sub(\"\\(|\\)|\\/|\\-|\\#|\\!|\\?|\\.|\\,|\\\"|\\'\", \"\", sent)\n",
    "    \n",
    "    # Removing emails\n",
    "    sent = re.sub(\"\\S*@\\S*\\s?\", \"\", sent)\n",
    "    \n",
    "    # Removing numbers\n",
    "    sent = re.sub(\"\\d+\", \"\", sent)\n",
    "    \n",
    "    sent = sent.split() # Splitting\n",
    "    \n",
    "    # Lemmatisation and stopword removal\n",
    "    sent = [lem.lemmatize(word) for word in sent if not word in stop_words]\n",
    "    sent = \" \".join(sent)\n",
    "    \n",
    "    return sent"
   ]
  },
  {
   "cell_type": "code",
   "execution_count": 9,
   "id": "c8d3c921-30aa-4ce2-ae33-eda0afff6c35",
   "metadata": {},
   "outputs": [
    {
     "name": "stdout",
     "output_type": "stream",
     "text": [
      "Go until jurong point, crazy.. Available only in bugis n great world la e buffet... Cine there got amore wat...\n"
     ]
    }
   ],
   "source": [
    "print('Go until jurong point, crazy.. Available only in bugis n great world la e buffet... Cine there got amore wat...')"
   ]
  },
  {
   "cell_type": "code",
   "execution_count": 10,
   "id": "762e1359-eebe-45d8-a665-2114e48ce36c",
   "metadata": {},
   "outputs": [
    {
     "data": {
      "text/plain": [
       "'go jurong point crazy available bugis n great world la e buffet cine got amore wat'"
      ]
     },
     "execution_count": 10,
     "metadata": {},
     "output_type": "execute_result"
    }
   ],
   "source": [
    "preprocessing('Go until jurong point, crazy.. Available only in bugis n great world la e buffet... Cine there got amore wat...')"
   ]
  },
  {
   "cell_type": "code",
   "execution_count": 11,
   "id": "db30bed9-074d-4c49-9117-873c2e79bf56",
   "metadata": {},
   "outputs": [
    {
     "data": {
      "text/plain": [
       "'ok lar joking wif u oni'"
      ]
     },
     "execution_count": 11,
     "metadata": {},
     "output_type": "execute_result"
    }
   ],
   "source": [
    "preprocessing('Ok lar... Joking wif u oni...')"
   ]
  },
  {
   "cell_type": "markdown",
   "id": "464f61e8-303b-43f3-9a56-8ec18797f98c",
   "metadata": {},
   "source": [
    "## Split data"
   ]
  },
  {
   "cell_type": "code",
   "execution_count": 12,
   "id": "6ec6a530-8795-4b78-a1dc-2afc731e7ed0",
   "metadata": {},
   "outputs": [],
   "source": [
    "X = df.v2\n",
    "y = df.v1"
   ]
  },
  {
   "cell_type": "code",
   "execution_count": 13,
   "id": "7437de69-2ec0-4ffc-9d08-544d1a07bcd4",
   "metadata": {},
   "outputs": [],
   "source": [
    "X_train, X_test, y_train, y_test = train_test_split(X, y, test_size=0.2, stratify=y)\n",
    "X_val, X_test, y_val, y_test = train_test_split(X_test, y_test, test_size=0.5, stratify=y_test)"
   ]
  },
  {
   "cell_type": "code",
   "execution_count": 14,
   "id": "1be7805e-d8f5-4514-bb28-13866dde7733",
   "metadata": {},
   "outputs": [
    {
     "data": {
      "text/plain": [
       "ham     3859\n",
       "spam     598\n",
       "Name: v1, dtype: int64"
      ]
     },
     "execution_count": 14,
     "metadata": {},
     "output_type": "execute_result"
    }
   ],
   "source": [
    "y_train.value_counts()"
   ]
  },
  {
   "cell_type": "code",
   "execution_count": 15,
   "id": "c14fa149-ac87-41b3-ba32-6efbef7a3ff6",
   "metadata": {},
   "outputs": [
    {
     "data": {
      "text/plain": [
       "ham     483\n",
       "spam     74\n",
       "Name: v1, dtype: int64"
      ]
     },
     "execution_count": 15,
     "metadata": {},
     "output_type": "execute_result"
    }
   ],
   "source": [
    "y_val.value_counts()"
   ]
  },
  {
   "cell_type": "code",
   "execution_count": 16,
   "id": "4dbb2bec-b2e3-4934-b07a-91afd250da73",
   "metadata": {},
   "outputs": [
    {
     "data": {
      "text/plain": [
       "ham     483\n",
       "spam     75\n",
       "Name: v1, dtype: int64"
      ]
     },
     "execution_count": 16,
     "metadata": {},
     "output_type": "execute_result"
    }
   ],
   "source": [
    "y_test.value_counts()"
   ]
  },
  {
   "cell_type": "code",
   "execution_count": 17,
   "id": "792c79b2-0841-435d-b524-ae2c3bd6dd87",
   "metadata": {},
   "outputs": [
    {
     "data": {
      "text/plain": [
       "2700    Feb  &lt;#&gt;  is \\I LOVE U\\\" day. Send dis t...\n",
       "4867    Watching cartoon, listening music &amp; at eve...\n",
       "669                                 Did u receive my msg?\n",
       "4958    What i mean was i left too early to check, cos...\n",
       "50      What you thinked about me. First time you saw ...\n",
       "Name: v2, dtype: object"
      ]
     },
     "execution_count": 17,
     "metadata": {},
     "output_type": "execute_result"
    }
   ],
   "source": [
    "X_train.head()"
   ]
  },
  {
   "cell_type": "code",
   "execution_count": 18,
   "id": "99770347-68ca-4b19-9398-8aefcef36754",
   "metadata": {},
   "outputs": [
    {
     "data": {
      "text/plain": [
       "2700    ham\n",
       "4867    ham\n",
       "669     ham\n",
       "4958    ham\n",
       "50      ham\n",
       "Name: v1, dtype: object"
      ]
     },
     "execution_count": 18,
     "metadata": {},
     "output_type": "execute_result"
    }
   ],
   "source": [
    "y_train.head()"
   ]
  },
  {
   "cell_type": "code",
   "execution_count": 19,
   "id": "96e2e94d-15a5-496c-b50a-2b5e95df1e95",
   "metadata": {},
   "outputs": [],
   "source": [
    "# Resetting indexes for subsequent processing (less confusing to tally)\n",
    "X_train.reset_index(drop=True, inplace=True)\n",
    "X_val.reset_index(drop=True, inplace=True)\n",
    "X_test.reset_index(drop=True, inplace=True)\n",
    "\n",
    "y_train.reset_index(drop=True, inplace=True)\n",
    "y_val.reset_index(drop=True, inplace=True)\n",
    "y_test.reset_index(drop=True, inplace=True)"
   ]
  },
  {
   "cell_type": "code",
   "execution_count": 20,
   "id": "6f47b584-b9f8-4b2c-806e-9317d0ff5780",
   "metadata": {},
   "outputs": [
    {
     "data": {
      "text/plain": [
       "0    Feb  &lt;#&gt;  is \\I LOVE U\\\" day. Send dis t...\n",
       "1    Watching cartoon, listening music &amp; at eve...\n",
       "2                                Did u receive my msg?\n",
       "3    What i mean was i left too early to check, cos...\n",
       "4    What you thinked about me. First time you saw ...\n",
       "Name: v2, dtype: object"
      ]
     },
     "execution_count": 20,
     "metadata": {},
     "output_type": "execute_result"
    }
   ],
   "source": [
    "X_train.head()"
   ]
  },
  {
   "cell_type": "code",
   "execution_count": 21,
   "id": "21ff4132-8715-4800-8e1e-6e2ac584efdb",
   "metadata": {},
   "outputs": [
    {
     "data": {
      "text/plain": [
       "0    ham\n",
       "1    ham\n",
       "2    ham\n",
       "3    ham\n",
       "4    ham\n",
       "Name: v1, dtype: object"
      ]
     },
     "execution_count": 21,
     "metadata": {},
     "output_type": "execute_result"
    }
   ],
   "source": [
    "y_train.head()"
   ]
  },
  {
   "cell_type": "markdown",
   "id": "61c0e68f-15cd-4a18-937f-b576d11709bd",
   "metadata": {},
   "source": [
    "## Binarising the targets"
   ]
  },
  {
   "cell_type": "code",
   "execution_count": 22,
   "id": "347ce483-582a-4811-8d92-831ccce515d4",
   "metadata": {},
   "outputs": [],
   "source": [
    "lb = LabelBinarizer()\n",
    "y_train_ohe = lb.fit_transform(y_train)\n",
    "y_val_ohe = lb.transform(y_val)\n",
    "y_test_ohe = lb.transform(y_test)"
   ]
  },
  {
   "cell_type": "code",
   "execution_count": 23,
   "id": "3fa6d2e9-be7b-4ff3-9a24-bc28f7215d0a",
   "metadata": {},
   "outputs": [
    {
     "data": {
      "text/plain": [
       "array(['ham', 'spam'], dtype='<U4')"
      ]
     },
     "execution_count": 23,
     "metadata": {},
     "output_type": "execute_result"
    }
   ],
   "source": [
    "lb.classes_"
   ]
  },
  {
   "cell_type": "code",
   "execution_count": 24,
   "id": "c3da9ed1-774e-47d7-b4ac-84eb92923cf2",
   "metadata": {},
   "outputs": [
    {
     "data": {
      "text/plain": [
       "0    ham\n",
       "1    ham\n",
       "2    ham\n",
       "3    ham\n",
       "4    ham\n",
       "Name: v1, dtype: object"
      ]
     },
     "execution_count": 24,
     "metadata": {},
     "output_type": "execute_result"
    }
   ],
   "source": [
    "y_train.head()"
   ]
  },
  {
   "cell_type": "code",
   "execution_count": 25,
   "id": "86360a41-f647-4316-aa97-4eb0e08e6250",
   "metadata": {},
   "outputs": [
    {
     "data": {
      "text/plain": [
       "array([[0],\n",
       "       [0],\n",
       "       [0],\n",
       "       [0],\n",
       "       [0]])"
      ]
     },
     "execution_count": 25,
     "metadata": {},
     "output_type": "execute_result"
    }
   ],
   "source": [
    "y_train_ohe[:5]"
   ]
  },
  {
   "cell_type": "markdown",
   "id": "f34d0f7e-94b0-44e5-8f3a-0205b0920187",
   "metadata": {},
   "source": [
    "## Preprocessing all input text data"
   ]
  },
  {
   "cell_type": "code",
   "execution_count": 26,
   "id": "554136b2-40b2-439f-8c46-cb2e4be08219",
   "metadata": {},
   "outputs": [],
   "source": [
    "X_train = [preprocessing(i) for i in X_train]\n",
    "X_val = [preprocessing(i) for i in X_val]\n",
    "X_test = [preprocessing(i) for i in X_test]"
   ]
  },
  {
   "cell_type": "code",
   "execution_count": 27,
   "id": "6248deef-e35c-4d50-bead-9524a397de34",
   "metadata": {},
   "outputs": [
    {
     "data": {
      "text/plain": [
       "['alright hooked guy', 'k k: sm chat']"
      ]
     },
     "execution_count": 27,
     "metadata": {},
     "output_type": "execute_result"
    }
   ],
   "source": [
    "X_test[:2]"
   ]
  },
  {
   "cell_type": "markdown",
   "id": "837c6fcb-8d6a-4066-83c6-0b411c953872",
   "metadata": {},
   "source": [
    "## Tokenising input text"
   ]
  },
  {
   "cell_type": "code",
   "execution_count": 28,
   "id": "44426730-f927-4106-8b0b-4390326578c4",
   "metadata": {},
   "outputs": [],
   "source": [
    "def tokenizer_padding(input_series, max_len, vocabulary=None, train=False):\n",
    "    \n",
    "    if type(input_series)!=list:\n",
    "        input_series = input_series.tolist()\n",
    "        \n",
    "    tokenized = [i.split() for i in input_series]\n",
    "    \n",
    "    if train:\n",
    "        # Building vocabulary\n",
    "        unique_words = ['<PAD>', '<UNK>'] + list(set(itertools.chain.from_iterable(tokenized)))\n",
    "        vocabulary = dict(zip(unique_words, range(len(unique_words))))\n",
    "        \n",
    "    assert vocabulary\n",
    "    \n",
    "    # Encoding and padding\n",
    "    document = []\n",
    "    \n",
    "    for i in tokenized:\n",
    "        tok_sent = [vocabulary[j] if j in vocabulary else 1 for j in i]\n",
    "        document.append(tok_sent)\n",
    "        \n",
    "    for i in range(len(document)):\n",
    "        if len(document[i])<=max_len:\n",
    "            document[i] = [0]*(max_len-len(document[i])) + document[i]\n",
    "        else:\n",
    "            document[i] = document[i][-max_len:]\n",
    "            \n",
    "    output = [np.array(i) for i in document]\n",
    "    \n",
    "    if train:\n",
    "        return np.vstack(output), vocabulary, len(vocabulary)\n",
    "    else:\n",
    "        return np.vstack(output)"
   ]
  },
  {
   "cell_type": "code",
   "execution_count": 29,
   "id": "617ffb95-0c9b-4135-867e-f86c0ae1c9ee",
   "metadata": {},
   "outputs": [],
   "source": [
    "# Defining parameters for modeling\n",
    "max_length = seq_len = n_units = 150\n",
    "d_features = 32"
   ]
  },
  {
   "cell_type": "code",
   "execution_count": 30,
   "id": "bb8e5723-ac24-4c58-858d-d166a29fdae4",
   "metadata": {},
   "outputs": [],
   "source": [
    "X_train_padded_doc, X_train_vocab, X_train_vocab_size = tokenizer_padding(X_train, max_len=max_length, train=True)\n",
    "X_val_padded_doc = tokenizer_padding(X_val, max_len=max_length, vocabulary=X_train_vocab)\n",
    "X_test_padded_doc = tokenizer_padding(X_test, max_len=max_length, vocabulary=X_train_vocab)"
   ]
  },
  {
   "cell_type": "code",
   "execution_count": 31,
   "id": "e0f5cee5-3891-42d6-a165-e6a6e5192259",
   "metadata": {},
   "outputs": [
    {
     "data": {
      "text/plain": [
       "array([[   0,    0,    0,    0,    0,    0,    0,    0,    0,    0,    0,\n",
       "           0,    0,    0,    0,    0,    0,    0,    0,    0,    0,    0,\n",
       "           0,    0,    0,    0,    0,    0,    0,    0,    0,    0,    0,\n",
       "           0,    0,    0,    0,    0,    0,    0,    0,    0,    0,    0,\n",
       "           0,    0,    0,    0,    0,    0,    0,    0,    0,    0,    0,\n",
       "           0,    0,    0,    0,    0,    0,    0,    0,    0,    0,    0,\n",
       "           0,    0,    0,    0,    0,    0,    0,    0,    0,    0,    0,\n",
       "           0,    0,    0,    0,    0,    0,    0,    0,    0,    0,    0,\n",
       "           0,    0,    0,    0,    0,    0,    0,    0,    0,    0,    0,\n",
       "           0,    0,    0,    0,    0,    0,    0,    0,    0,    0,    0,\n",
       "           0,    0,    0,    0,    0,    0,    0,    0,    0,    0,    0,\n",
       "           0, 5838, 1230, 3142, 5315, 2536, 1875, 6180, 6086,   81,  174,\n",
       "        4089, 2022,  702, 5722,  406, 4597, 4667, 3014, 7246,  461, 7246,\n",
       "        4919, 6086, 7246, 1648,   81,  461, 1822]])"
      ]
     },
     "execution_count": 31,
     "metadata": {},
     "output_type": "execute_result"
    }
   ],
   "source": [
    "X_train_padded_doc[:1]"
   ]
  },
  {
   "cell_type": "code",
   "execution_count": 32,
   "id": "ecdadd1d-666e-4320-8055-cb2ddd8b10d2",
   "metadata": {},
   "outputs": [
    {
     "data": {
      "text/plain": [
       "array([[   0,    0,    0,    0,    0,    0,    0,    0,    0,    0,    0,\n",
       "           0,    0,    0,    0,    0,    0,    0,    0,    0,    0,    0,\n",
       "           0,    0,    0,    0,    0,    0,    0,    0,    0,    0,    0,\n",
       "           0,    0,    0,    0,    0,    0,    0,    0,    0,    0,    0,\n",
       "           0,    0,    0,    0,    0,    0,    0,    0,    0,    0,    0,\n",
       "           0,    0,    0,    0,    0,    0,    0,    0,    0,    0,    0,\n",
       "           0,    0,    0,    0,    0,    0,    0,    0,    0,    0,    0,\n",
       "           0,    0,    0,    0,    0,    0,    0,    0,    0,    0,    0,\n",
       "           0,    0,    0,    0,    0,    0,    0,    0,    0,    0,    0,\n",
       "           0,    0,    0,    0,    0,    0,    0,    0,    0,    0,    0,\n",
       "           0,    0,    0,    0,    0,    0,    0,    0,    0,    0,    0,\n",
       "           0,    0,    0,    0,    0,    0,    0,    0,    0,    0,    0,\n",
       "           0,    0,    0,    0,    0,    0,    0,    0,    0,    0,    0,\n",
       "           0,    0,    0,    0, 6804,    1, 4621]])"
      ]
     },
     "execution_count": 32,
     "metadata": {},
     "output_type": "execute_result"
    }
   ],
   "source": [
    "X_test_padded_doc[:1]"
   ]
  },
  {
   "cell_type": "code",
   "execution_count": 33,
   "id": "5a36bae0-0f50-4ede-890b-062d62e0306b",
   "metadata": {},
   "outputs": [],
   "source": [
    "# Convert list to tensors\n",
    "train_X = torch.tensor(X_train_padded_doc)\n",
    "train_y = torch.tensor(y_train_ohe.astype(float))\n",
    "\n",
    "test_X = torch.tensor(X_test_padded_doc)\n",
    "test_y = torch.tensor(y_test_ohe.astype(float))\n",
    "\n",
    "val_X = torch.tensor(X_val_padded_doc)\n",
    "val_y = torch.tensor(y_val_ohe.astype(float))"
   ]
  },
  {
   "cell_type": "markdown",
   "id": "206e7598-9dbf-4125-afc0-ff423af880fd",
   "metadata": {},
   "source": [
    "## Preparing data for training"
   ]
  },
  {
   "cell_type": "code",
   "execution_count": 34,
   "id": "5f702a50-5879-4023-b80d-1a6a04006ab8",
   "metadata": {},
   "outputs": [],
   "source": [
    "# Define batch size\n",
    "batch_size = 16\n",
    "\n",
    "# FOR TRAINING\n",
    "# Wrap tensors\n",
    "train_data = TensorDataset(train_X, train_y)\n",
    "\n",
    "# Sampler for sampling the data during training\n",
    "train_sampler = RandomSampler(train_data)\n",
    "\n",
    "# Dataloader for train set\n",
    "train_dataloader = DataLoader(train_data, sampler=train_sampler, batch_size=batch_size)\n",
    "\n",
    "\n",
    "\n",
    "# FOR VALIDATING\n",
    "# Wrap tensors\n",
    "val_data = TensorDataset(val_X, val_y)\n",
    "\n",
    "# Sampler for sampling the data during validation for training\n",
    "val_sampler = SequentialSampler(val_data)\n",
    "\n",
    "# Dataloader for val set\n",
    "val_dataloader = DataLoader(val_data, sampler=val_sampler, batch_size=batch_size)"
   ]
  },
  {
   "cell_type": "markdown",
   "id": "8e7b1cb6-c9f8-4b08-a0f7-dfd89b21d529",
   "metadata": {},
   "source": [
    "## Modeling without class balancing?"
   ]
  },
  {
   "cell_type": "code",
   "execution_count": 35,
   "id": "44809e9d-8b45-4335-ba38-9728abce95f4",
   "metadata": {},
   "outputs": [],
   "source": [
    "w2v_model = gensim.models.KeyedVectors.load_word2vec_format('D:\\DSAI\\Pre-Trained Models\\word2vec\\GoogleNews-vectors-negative300.bin.gz', binary=True)"
   ]
  },
  {
   "cell_type": "code",
   "execution_count": 36,
   "id": "9b8ad58c-7abc-4243-bc4e-ce6cc609ae55",
   "metadata": {},
   "outputs": [
    {
     "data": {
      "text/plain": [
       "(7454, 300)"
      ]
     },
     "execution_count": 36,
     "metadata": {},
     "output_type": "execute_result"
    }
   ],
   "source": [
    "# Getting embedding matrix for pre-trained Word2Vec model\n",
    "embeddings_index = dict()\n",
    "\n",
    "# We will populate the embeddings_index dictionary with all the key<->vector pairs in the Word2Vec model\n",
    "for line in range(len(w2v_model.index_to_key)):\n",
    "    embeddings_index[w2v_model.index_to_key[line]] = w2v_model.get_vector(w2v_model.index_to_key[line])\n",
    "    \n",
    "# Create a weight matrix for words in training docs\n",
    "embedding_matrix = np.zeros((X_train_vocab_size, 300)) # Change X_train_vocab_size\n",
    "for word, i in X_train_vocab.items():\n",
    "    embedding_vector = embeddings_index.get(word)\n",
    "    if embedding_vector is not None:\n",
    "        embedding_matrix[i] = embedding_vector\n",
    "        \n",
    "embedding_matrix.shape"
   ]
  },
  {
   "cell_type": "code",
   "execution_count": 37,
   "id": "94e12c2f-a438-4000-9d75-64aa93f574ad",
   "metadata": {},
   "outputs": [
    {
     "data": {
      "text/plain": [
       "7454"
      ]
     },
     "execution_count": 37,
     "metadata": {},
     "output_type": "execute_result"
    }
   ],
   "source": [
    "X_train_vocab_size"
   ]
  },
  {
   "cell_type": "markdown",
   "id": "11f340e3-7d7f-49bc-abda-131f19872c9d",
   "metadata": {},
   "source": [
    "## Defining model"
   ]
  },
  {
   "cell_type": "code",
   "execution_count": 38,
   "id": "14458d9e-6d28-40e9-8164-e1c08647d7fd",
   "metadata": {},
   "outputs": [
    {
     "name": "stderr",
     "output_type": "stream",
     "text": [
      "C:\\Users\\solom\\.conda\\envs\\nlp\\lib\\site-packages\\torch\\nn\\modules\\rnn.py:67: UserWarning: dropout option adds dropout after all but last recurrent layer, so non-zero dropout expects num_layers greater than 1, but got dropout=0.2 and num_layers=1\n",
      "  warnings.warn(\"dropout option adds dropout after all but last \"\n"
     ]
    }
   ],
   "source": [
    "model = BiLSTMClassifier(d_features=embedding_matrix.shape[1], embedding_matrix=embedding_matrix, vocab_size=X_train_vocab_size)"
   ]
  },
  {
   "cell_type": "code",
   "execution_count": 39,
   "id": "cc94bd0e-e825-42a7-aaf0-fad38af83853",
   "metadata": {},
   "outputs": [],
   "source": [
    "model = model.to(device)"
   ]
  },
  {
   "cell_type": "code",
   "execution_count": 40,
   "id": "5df455a4-2aa1-4a11-976f-f62889ccb5e4",
   "metadata": {},
   "outputs": [
    {
     "name": "stdout",
     "output_type": "stream",
     "text": [
      "BiLSTMClassifier(\n",
      "  (embedding): Embedding(7454, 300, padding_idx=0)\n",
      "  (lstm): LSTM(300, 300, batch_first=True, dropout=0.2, bidirectional=True)\n",
      "  (dense1): Linear(in_features=600, out_features=100, bias=True)\n",
      "  (dense2): Linear(in_features=100, out_features=20, bias=True)\n",
      "  (dense3): Linear(in_features=20, out_features=1, bias=True)\n",
      "  (dropout): Dropout(p=0.2, inplace=False)\n",
      "  (tanh1): Tanh()\n",
      "  (tanh2): Tanh()\n",
      ")\n"
     ]
    }
   ],
   "source": [
    "print (model)"
   ]
  },
  {
   "cell_type": "code",
   "execution_count": 41,
   "id": "7755502c-5bb1-4324-847a-12e22a422474",
   "metadata": {},
   "outputs": [],
   "source": [
    "from torch.optim import AdamW\n",
    "\n",
    "# Define optimiser\n",
    "optimizer = AdamW(model.parameters(), lr=2e-5)"
   ]
  },
  {
   "cell_type": "code",
   "execution_count": 42,
   "id": "3f5996bc-6e69-4553-978b-254b880946a0",
   "metadata": {},
   "outputs": [
    {
     "data": {
      "text/plain": [
       "ham     3859\n",
       "spam     598\n",
       "Name: v1, dtype: int64"
      ]
     },
     "execution_count": 42,
     "metadata": {},
     "output_type": "execute_result"
    }
   ],
   "source": [
    "y_train.value_counts()"
   ]
  },
  {
   "cell_type": "code",
   "execution_count": 43,
   "id": "4e990af1-d90f-4924-8c76-d149bd14a405",
   "metadata": {},
   "outputs": [],
   "source": [
    "weight = np.array(y_train.value_counts()[0]/y_train.value_counts()[1])"
   ]
  },
  {
   "cell_type": "code",
   "execution_count": 44,
   "id": "90370690-f103-4397-b396-48a3a157f3dc",
   "metadata": {},
   "outputs": [
    {
     "data": {
      "text/plain": [
       "array(6.45317726)"
      ]
     },
     "execution_count": 44,
     "metadata": {},
     "output_type": "execute_result"
    }
   ],
   "source": [
    "weight"
   ]
  },
  {
   "cell_type": "code",
   "execution_count": 45,
   "id": "21b856e2-6e96-4881-9b9f-e4ebccb516a3",
   "metadata": {},
   "outputs": [],
   "source": [
    "# Converting list of class weights to a tensor\n",
    "weights = torch.tensor(weight, dtype=torch.float)\n",
    "\n",
    "# Push weights to GPU\n",
    "weights = weights.to(device)\n",
    "\n",
    "# Define loss function\n",
    "cross_entropy = nn.BCEWithLogitsLoss(pos_weight=weights)\n",
    "\n",
    "# No of training epochs\n",
    "epochs = 30"
   ]
  },
  {
   "cell_type": "markdown",
   "id": "120f86bc-0865-405d-b731-c0bd97bfda4c",
   "metadata": {},
   "source": [
    "## Define Training & Evaluation Functions"
   ]
  },
  {
   "cell_type": "code",
   "execution_count": 46,
   "id": "5335f967-58f1-4c7c-b6cb-6006a810d536",
   "metadata": {},
   "outputs": [],
   "source": [
    "def train():\n",
    "    model.train()\n",
    "    \n",
    "    total_loss, total_accuracy = 0, 0\n",
    "    \n",
    "    # Empty list to save model predictions\n",
    "    total_preds = []\n",
    "    \n",
    "    # Iterate over batches\n",
    "    for step, batch in enumerate(train_dataloader):\n",
    "        # Progress update for every 50 batches\n",
    "        if step%50==0 and not step==0:\n",
    "            print ('Batch {:>5,} of {:>5,}.'.format(step, len(train_dataloader)))\n",
    "            \n",
    "        # Push batch to GPU\n",
    "        batch = [r.to(device) for r in batch]\n",
    "        \n",
    "        sent_id, labels = batch\n",
    "        \n",
    "        # Clear previously calculated gradients\n",
    "        model.zero_grad()\n",
    "        \n",
    "        # Get model predictions for the current batch\n",
    "        preds = model(sent_id)\n",
    "        \n",
    "        # Compute loss between actual and predicted values\n",
    "        loss = cross_entropy(preds, labels)\n",
    "        \n",
    "        # Add on to the total loss\n",
    "        total_loss = total_loss + loss.item()\n",
    "        \n",
    "        # Backward pass to calculate gradients\n",
    "        loss.backward()\n",
    "        \n",
    "        # Clip gradients to 1.0. It helps in preventing exploding gradient problem\n",
    "        torch.nn.utils.clip_grad_norm(model.parameters(), 1.0)\n",
    "        \n",
    "        # Update parameters\n",
    "        optimizer.step()\n",
    "        \n",
    "        # Model predictions are stored on GPU, so push it to CPU\n",
    "        preds = preds.detach().cpu().numpy()\n",
    "        \n",
    "        # Append model predictions\n",
    "        total_preds.append(preds)\n",
    "        \n",
    "    # Compute training loss of the epoch\n",
    "    avg_loss = total_loss / len(train_dataloader)\n",
    "    \n",
    "    # Predictions are in the form of (no. of batches, size of batch, no of classes)\n",
    "    # Reshape the prediction in form of (no of samples, no of classes)\n",
    "    total_preds = np.concatenate(total_preds, axis=0)\n",
    "    \n",
    "    return avg_loss, total_preds"
   ]
  },
  {
   "cell_type": "code",
   "execution_count": 47,
   "id": "e427105c-c0d4-453a-afb5-a216a290789f",
   "metadata": {},
   "outputs": [],
   "source": [
    "def evaluate():\n",
    "    print ('\\nEvaluating...')\n",
    "    \n",
    "    # Deactivate dropout layers\n",
    "    model.eval()\n",
    "    \n",
    "    total_loss, total_accuracy = 0, 0\n",
    "    \n",
    "    # Empty list to save model predictions\n",
    "    total_preds = []\n",
    "    \n",
    "    # Iterate over batches\n",
    "    for step, batch in enumerate(val_dataloader):\n",
    "        # Progress update for every 50 batches\n",
    "        if step%50==0 and not step==0:\n",
    "            print ('Batch {:>5,} of {:>5,}.'.format(step, len(val_dataloader)))\n",
    "            \n",
    "        # Push batch to GPU\n",
    "        batch = [t.to(device) for t in batch]\n",
    "        \n",
    "        sent_id, labels = batch\n",
    "        \n",
    "        # Deactivate autograd()\n",
    "        with torch.no_grad():\n",
    "            \n",
    "            # Model predictions\n",
    "            preds = model(sent_id)\n",
    "            \n",
    "            # Compute the validation loss between actual and predicted values\n",
    "            loss = cross_entropy(preds, labels)\n",
    "            \n",
    "            total_loss = total_loss + loss.item()\n",
    "            \n",
    "            preds = preds.detach().cpu().numpy()\n",
    "            \n",
    "            total_preds.append(preds)\n",
    "            \n",
    "    # Compute the validation loss of the epoch\n",
    "    avg_loss = total_loss / len(val_dataloader)\n",
    "    \n",
    "    # Reshape the predictions in form of (no of samples, no of classes)\n",
    "    total_preds = np.concatenate(total_preds, axis=0)\n",
    "    \n",
    "    return avg_loss, total_preds"
   ]
  },
  {
   "cell_type": "markdown",
   "id": "39c32aba-e27d-4e1e-bf44-c5c84b631779",
   "metadata": {},
   "source": [
    "## Iterate through training loop"
   ]
  },
  {
   "cell_type": "code",
   "execution_count": 48,
   "id": "f416d8ca-97f6-4ce9-865a-5fcd8af8c9d4",
   "metadata": {
    "scrolled": true,
    "tags": []
   },
   "outputs": [
    {
     "name": "stdout",
     "output_type": "stream",
     "text": [
      "\n",
      "Epoch 1/ 30\n"
     ]
    },
    {
     "name": "stderr",
     "output_type": "stream",
     "text": [
      "C:\\Users\\solom\\AppData\\Local\\Temp\\ipykernel_6912\\3618230079.py:36: UserWarning: torch.nn.utils.clip_grad_norm is now deprecated in favor of torch.nn.utils.clip_grad_norm_.\n",
      "  torch.nn.utils.clip_grad_norm(model.parameters(), 1.0)\n"
     ]
    },
    {
     "name": "stdout",
     "output_type": "stream",
     "text": [
      "Batch    50 of   279.\n",
      "Batch   100 of   279.\n",
      "Batch   150 of   279.\n",
      "Batch   200 of   279.\n",
      "Batch   250 of   279.\n",
      "\n",
      "Evaluating...\n",
      "\n",
      "Training Loss: 1.19163\n",
      "Validation Loss: 1.17150\n",
      "\n",
      "Epoch 2/ 30\n",
      "Batch    50 of   279.\n",
      "Batch   100 of   279.\n",
      "Batch   150 of   279.\n",
      "Batch   200 of   279.\n",
      "Batch   250 of   279.\n",
      "\n",
      "Evaluating...\n",
      "\n",
      "Training Loss: 1.03747\n",
      "Validation Loss: 0.79682\n",
      "\n",
      "Epoch 3/ 30\n",
      "Batch    50 of   279.\n",
      "Batch   100 of   279.\n",
      "Batch   150 of   279.\n",
      "Batch   200 of   279.\n",
      "Batch   250 of   279.\n",
      "\n",
      "Evaluating...\n",
      "\n",
      "Training Loss: 0.85407\n",
      "Validation Loss: 0.69211\n",
      "\n",
      "Epoch 4/ 30\n",
      "Batch    50 of   279.\n",
      "Batch   100 of   279.\n",
      "Batch   150 of   279.\n",
      "Batch   200 of   279.\n",
      "Batch   250 of   279.\n",
      "\n",
      "Evaluating...\n",
      "\n",
      "Training Loss: 0.69479\n",
      "Validation Loss: 0.62545\n",
      "\n",
      "Epoch 5/ 30\n",
      "Batch    50 of   279.\n",
      "Batch   100 of   279.\n",
      "Batch   150 of   279.\n",
      "Batch   200 of   279.\n",
      "Batch   250 of   279.\n",
      "\n",
      "Evaluating...\n",
      "\n",
      "Training Loss: 0.66612\n",
      "Validation Loss: 0.73107\n",
      "\n",
      "Epoch 6/ 30\n",
      "Batch    50 of   279.\n",
      "Batch   100 of   279.\n",
      "Batch   150 of   279.\n",
      "Batch   200 of   279.\n",
      "Batch   250 of   279.\n",
      "\n",
      "Evaluating...\n",
      "\n",
      "Training Loss: 0.58780\n",
      "Validation Loss: 0.49332\n",
      "\n",
      "Epoch 7/ 30\n",
      "Batch    50 of   279.\n",
      "Batch   100 of   279.\n",
      "Batch   150 of   279.\n",
      "Batch   200 of   279.\n",
      "Batch   250 of   279.\n",
      "\n",
      "Evaluating...\n",
      "\n",
      "Training Loss: 0.58398\n",
      "Validation Loss: 0.46239\n",
      "\n",
      "Epoch 8/ 30\n",
      "Batch    50 of   279.\n",
      "Batch   100 of   279.\n",
      "Batch   150 of   279.\n",
      "Batch   200 of   279.\n",
      "Batch   250 of   279.\n",
      "\n",
      "Evaluating...\n",
      "\n",
      "Training Loss: 0.49296\n",
      "Validation Loss: 0.43542\n",
      "\n",
      "Epoch 9/ 30\n",
      "Batch    50 of   279.\n",
      "Batch   100 of   279.\n",
      "Batch   150 of   279.\n",
      "Batch   200 of   279.\n",
      "Batch   250 of   279.\n",
      "\n",
      "Evaluating...\n",
      "\n",
      "Training Loss: 0.46396\n",
      "Validation Loss: 0.46580\n",
      "\n",
      "Epoch 10/ 30\n",
      "Batch    50 of   279.\n",
      "Batch   100 of   279.\n",
      "Batch   150 of   279.\n",
      "Batch   200 of   279.\n",
      "Batch   250 of   279.\n",
      "\n",
      "Evaluating...\n",
      "\n",
      "Training Loss: 0.43839\n",
      "Validation Loss: 0.39991\n",
      "\n",
      "Epoch 11/ 30\n",
      "Batch    50 of   279.\n",
      "Batch   100 of   279.\n",
      "Batch   150 of   279.\n",
      "Batch   200 of   279.\n",
      "Batch   250 of   279.\n",
      "\n",
      "Evaluating...\n",
      "\n",
      "Training Loss: 0.41057\n",
      "Validation Loss: 0.39456\n",
      "\n",
      "Epoch 12/ 30\n",
      "Batch    50 of   279.\n",
      "Batch   100 of   279.\n",
      "Batch   150 of   279.\n",
      "Batch   200 of   279.\n",
      "Batch   250 of   279.\n",
      "\n",
      "Evaluating...\n",
      "\n",
      "Training Loss: 0.41197\n",
      "Validation Loss: 0.39667\n",
      "\n",
      "Epoch 13/ 30\n",
      "Batch    50 of   279.\n",
      "Batch   100 of   279.\n",
      "Batch   150 of   279.\n",
      "Batch   200 of   279.\n",
      "Batch   250 of   279.\n",
      "\n",
      "Evaluating...\n",
      "\n",
      "Training Loss: 0.40510\n",
      "Validation Loss: 0.41206\n",
      "\n",
      "Epoch 14/ 30\n",
      "Batch    50 of   279.\n",
      "Batch   100 of   279.\n",
      "Batch   150 of   279.\n",
      "Batch   200 of   279.\n",
      "Batch   250 of   279.\n",
      "\n",
      "Evaluating...\n",
      "\n",
      "Training Loss: 0.36143\n",
      "Validation Loss: 0.39597\n",
      "\n",
      "Epoch 15/ 30\n",
      "Batch    50 of   279.\n",
      "Batch   100 of   279.\n",
      "Batch   150 of   279.\n",
      "Batch   200 of   279.\n",
      "Batch   250 of   279.\n",
      "\n",
      "Evaluating...\n",
      "\n",
      "Training Loss: 0.35250\n",
      "Validation Loss: 0.38604\n",
      "\n",
      "Epoch 16/ 30\n",
      "Batch    50 of   279.\n",
      "Batch   100 of   279.\n",
      "Batch   150 of   279.\n",
      "Batch   200 of   279.\n",
      "Batch   250 of   279.\n",
      "\n",
      "Evaluating...\n",
      "\n",
      "Training Loss: 0.34326\n",
      "Validation Loss: 0.36386\n",
      "\n",
      "Epoch 17/ 30\n",
      "Batch    50 of   279.\n",
      "Batch   100 of   279.\n",
      "Batch   150 of   279.\n",
      "Batch   200 of   279.\n",
      "Batch   250 of   279.\n",
      "\n",
      "Evaluating...\n",
      "\n",
      "Training Loss: 0.32732\n",
      "Validation Loss: 0.39893\n",
      "\n",
      "Epoch 18/ 30\n",
      "Batch    50 of   279.\n",
      "Batch   100 of   279.\n",
      "Batch   150 of   279.\n",
      "Batch   200 of   279.\n",
      "Batch   250 of   279.\n",
      "\n",
      "Evaluating...\n",
      "\n",
      "Training Loss: 0.32693\n",
      "Validation Loss: 0.50744\n",
      "\n",
      "Epoch 19/ 30\n",
      "Batch    50 of   279.\n",
      "Batch   100 of   279.\n",
      "Batch   150 of   279.\n",
      "Batch   200 of   279.\n",
      "Batch   250 of   279.\n",
      "\n",
      "Evaluating...\n",
      "\n",
      "Training Loss: 0.31638\n",
      "Validation Loss: 0.41268\n",
      "\n",
      "Epoch 20/ 30\n",
      "Batch    50 of   279.\n",
      "Batch   100 of   279.\n",
      "Batch   150 of   279.\n",
      "Batch   200 of   279.\n",
      "Batch   250 of   279.\n",
      "\n",
      "Evaluating...\n",
      "\n",
      "Training Loss: 0.30352\n",
      "Validation Loss: 0.41879\n",
      "\n",
      "Epoch 21/ 30\n",
      "Batch    50 of   279.\n",
      "Batch   100 of   279.\n",
      "Batch   150 of   279.\n",
      "Batch   200 of   279.\n",
      "Batch   250 of   279.\n",
      "\n",
      "Evaluating...\n",
      "\n",
      "Training Loss: 0.29973\n",
      "Validation Loss: 0.37717\n",
      "\n",
      "Epoch 22/ 30\n",
      "Batch    50 of   279.\n",
      "Batch   100 of   279.\n",
      "Batch   150 of   279.\n",
      "Batch   200 of   279.\n",
      "Batch   250 of   279.\n",
      "\n",
      "Evaluating...\n",
      "\n",
      "Training Loss: 0.29923\n",
      "Validation Loss: 0.36110\n",
      "\n",
      "Epoch 23/ 30\n",
      "Batch    50 of   279.\n",
      "Batch   100 of   279.\n",
      "Batch   150 of   279.\n",
      "Batch   200 of   279.\n",
      "Batch   250 of   279.\n",
      "\n",
      "Evaluating...\n",
      "\n",
      "Training Loss: 0.29198\n",
      "Validation Loss: 0.37917\n",
      "\n",
      "Epoch 24/ 30\n",
      "Batch    50 of   279.\n",
      "Batch   100 of   279.\n",
      "Batch   150 of   279.\n",
      "Batch   200 of   279.\n",
      "Batch   250 of   279.\n",
      "\n",
      "Evaluating...\n",
      "\n",
      "Training Loss: 0.28420\n",
      "Validation Loss: 0.35893\n",
      "\n",
      "Epoch 25/ 30\n",
      "Batch    50 of   279.\n",
      "Batch   100 of   279.\n",
      "Batch   150 of   279.\n",
      "Batch   200 of   279.\n",
      "Batch   250 of   279.\n",
      "\n",
      "Evaluating...\n",
      "\n",
      "Training Loss: 0.26673\n",
      "Validation Loss: 0.35106\n",
      "\n",
      "Epoch 26/ 30\n",
      "Batch    50 of   279.\n",
      "Batch   100 of   279.\n",
      "Batch   150 of   279.\n",
      "Batch   200 of   279.\n",
      "Batch   250 of   279.\n",
      "\n",
      "Evaluating...\n",
      "\n",
      "Training Loss: 0.26130\n",
      "Validation Loss: 0.35666\n",
      "\n",
      "Epoch 27/ 30\n",
      "Batch    50 of   279.\n",
      "Batch   100 of   279.\n",
      "Batch   150 of   279.\n",
      "Batch   200 of   279.\n",
      "Batch   250 of   279.\n",
      "\n",
      "Evaluating...\n",
      "\n",
      "Training Loss: 0.27695\n",
      "Validation Loss: 0.36195\n",
      "\n",
      "Epoch 28/ 30\n",
      "Batch    50 of   279.\n",
      "Batch   100 of   279.\n",
      "Batch   150 of   279.\n",
      "Batch   200 of   279.\n",
      "Batch   250 of   279.\n",
      "\n",
      "Evaluating...\n",
      "\n",
      "Training Loss: 0.25627\n",
      "Validation Loss: 0.34923\n",
      "\n",
      "Epoch 29/ 30\n",
      "Batch    50 of   279.\n",
      "Batch   100 of   279.\n",
      "Batch   150 of   279.\n",
      "Batch   200 of   279.\n",
      "Batch   250 of   279.\n",
      "\n",
      "Evaluating...\n",
      "\n",
      "Training Loss: 0.25384\n",
      "Validation Loss: 0.35169\n",
      "\n",
      "Epoch 30/ 30\n",
      "Batch    50 of   279.\n",
      "Batch   100 of   279.\n",
      "Batch   150 of   279.\n",
      "Batch   200 of   279.\n",
      "Batch   250 of   279.\n",
      "\n",
      "Evaluating...\n",
      "\n",
      "Training Loss: 0.25417\n",
      "Validation Loss: 0.35232\n"
     ]
    }
   ],
   "source": [
    "# Set initial loss to infinite\n",
    "best_valid_loss = float('inf')\n",
    "\n",
    "# Empty lists to store training and validation loss of each epoch\n",
    "train_losses = []\n",
    "valid_losses = []\n",
    "\n",
    "# For each epoch\n",
    "for epoch in range(epochs):\n",
    "    print ('\\nEpoch {:}/ {:}'.format(epoch+1, epochs))\n",
    "    \n",
    "    # Train model\n",
    "    train_loss, _ = train()\n",
    "    \n",
    "    # Evaluate model\n",
    "    valid_loss, _ = evaluate()\n",
    "    \n",
    "    # Save the best model\n",
    "    if valid_loss<best_valid_loss:\n",
    "        best_valid_loss = valid_loss\n",
    "        torch.save(model.state_dict(), 'saved_model_weights/pytorch_bilstm.pt')\n",
    "        \n",
    "    train_losses.append(train_loss)\n",
    "    valid_losses.append(valid_loss)\n",
    "    \n",
    "    print (f\"\\nTraining Loss: {train_loss:.5f}\")\n",
    "    print (f\"Validation Loss: {valid_loss:.5f}\")"
   ]
  },
  {
   "cell_type": "markdown",
   "id": "6b496953-263f-49c8-8d0a-9cfd8751b8a5",
   "metadata": {},
   "source": [
    "## Visualise training and validation loss"
   ]
  },
  {
   "cell_type": "code",
   "execution_count": 49,
   "id": "dba1a685-bfe1-49ca-9d8f-30ffef744a92",
   "metadata": {},
   "outputs": [
    {
     "data": {
      "text/plain": [
       "[<matplotlib.lines.Line2D at 0x18551c042e0>,\n",
       " <matplotlib.lines.Line2D at 0x18551c04310>]"
      ]
     },
     "execution_count": 49,
     "metadata": {},
     "output_type": "execute_result"
    },
    {
     "data": {
      "image/png": "[encoded data removed]",
      "text/plain": [
       "<Figure size 640x480 with 1 Axes>"
      ]
     },
     "metadata": {},
     "output_type": "display_data"
    }
   ],
   "source": [
    "import matplotlib.pyplot as plt\n",
    "plt.plot(train_losses, 'g', valid_losses, 'r')"
   ]
  },
  {
   "cell_type": "markdown",
   "id": "e618a484-e3b9-4c6a-aad1-8ef9f2c0457a",
   "metadata": {},
   "source": [
    "## Model evaluation"
   ]
  },
  {
   "cell_type": "code",
   "execution_count": 50,
   "id": "2897c2ca-d76a-46f2-b38c-cc51344eca5e",
   "metadata": {},
   "outputs": [],
   "source": [
    "from sklearn.metrics import classification_report, roc_auc_score, accuracy_score"
   ]
  },
  {
   "cell_type": "code",
   "execution_count": 51,
   "id": "99351955-13d5-4ee7-ab6a-f4fc1950d935",
   "metadata": {},
   "outputs": [
    {
     "data": {
      "text/plain": [
       "<All keys matched successfully>"
      ]
     },
     "execution_count": 51,
     "metadata": {},
     "output_type": "execute_result"
    }
   ],
   "source": [
    "model_path = 'saved_model_weights/pytorch_bilstm.pt'\n",
    "\n",
    "model.load_state_dict(torch.load(model_path))"
   ]
  },
  {
   "cell_type": "code",
   "execution_count": 52,
   "id": "b4756cd8-28b0-4ee1-b3da-8efc9c663e8e",
   "metadata": {},
   "outputs": [],
   "source": [
    "y_preds = model(test_X.to(device))"
   ]
  },
  {
   "cell_type": "code",
   "execution_count": 53,
   "id": "face7818-cc0a-4ba7-bb41-f0146402d74f",
   "metadata": {},
   "outputs": [
    {
     "name": "stderr",
     "output_type": "stream",
     "text": [
      "C:\\Users\\solom\\.conda\\envs\\nlp\\lib\\site-packages\\torch\\nn\\functional.py:1967: UserWarning: nn.functional.sigmoid is deprecated. Use torch.sigmoid instead.\n",
      "  warnings.warn(\"nn.functional.sigmoid is deprecated. Use torch.sigmoid instead.\")\n"
     ]
    }
   ],
   "source": [
    "# Apply sigmoid function to outputs (sigmoid was auto applied by the loss function during training but the model architecture outputs predictions pre-sigmoid application)\n",
    "y_preds = nn.functional.sigmoid(y_preds)"
   ]
  },
  {
   "cell_type": "code",
   "execution_count": 54,
   "id": "ab0e183f-92ee-4646-9544-e35bf16cb41f",
   "metadata": {},
   "outputs": [],
   "source": [
    "y_preds = y_preds.detach().cpu().numpy()"
   ]
  },
  {
   "cell_type": "code",
   "execution_count": 55,
   "id": "c5146f06-e90c-4409-b025-7a07f7dde9d5",
   "metadata": {},
   "outputs": [
    {
     "data": {
      "text/plain": [
       "array([[0.03455034],\n",
       "       [0.04532771],\n",
       "       [0.97059387],\n",
       "       [0.03998303],\n",
       "       [0.0350887 ]], dtype=float32)"
      ]
     },
     "execution_count": 55,
     "metadata": {},
     "output_type": "execute_result"
    }
   ],
   "source": [
    "y_preds[:5]"
   ]
  },
  {
   "cell_type": "code",
   "execution_count": 56,
   "id": "d4463bb5-6817-4f5e-9147-0e1d1cf7ae4b",
   "metadata": {},
   "outputs": [],
   "source": [
    "# Change probabilities above to 1 for probabilities above 0.5\n",
    "y_hat = (y_preds>=0.5).astype(int)"
   ]
  },
  {
   "cell_type": "code",
   "execution_count": 57,
   "id": "e0ebed47-68f7-4947-ad8c-a9ac2e0bc67b",
   "metadata": {},
   "outputs": [
    {
     "name": "stdout",
     "output_type": "stream",
     "text": [
      "              precision    recall  f1-score   support\n",
      "\n",
      "         ham       0.98      0.98      0.98       483\n",
      "        spam       0.89      0.88      0.89        75\n",
      "\n",
      "    accuracy                           0.97       558\n",
      "   macro avg       0.94      0.93      0.93       558\n",
      "weighted avg       0.97      0.97      0.97       558\n",
      "\n"
     ]
    }
   ],
   "source": [
    "print (classification_report(y_test_ohe, y_hat, target_names=lb.classes_))"
   ]
  },
  {
   "cell_type": "code",
   "execution_count": 58,
   "id": "6320a7e0-41ab-49ac-85e4-e6e921804d23",
   "metadata": {},
   "outputs": [
    {
     "data": {
      "text/plain": [
       "0.9317184265010352"
      ]
     },
     "execution_count": 58,
     "metadata": {},
     "output_type": "execute_result"
    }
   ],
   "source": [
    "roc_auc_score(y_test_ohe, y_hat)"
   ]
  },
  {
   "cell_type": "code",
   "execution_count": 59,
   "id": "979b13ea-9f91-4aee-be2b-49438543fed8",
   "metadata": {},
   "outputs": [
    {
     "data": {
      "text/plain": [
       "0.9695340501792115"
      ]
     },
     "execution_count": 59,
     "metadata": {},
     "output_type": "execute_result"
    }
   ],
   "source": [
    "accuracy_score(y_test_ohe, y_hat)"
   ]
  }
 ],
 "metadata": {
  "kernelspec": {
   "display_name": "nlp",
   "language": "python",
   "name": "nlp"
  },
  "language_info": {
   "codemirror_mode": {
    "name": "ipython",
    "version": 3
   },
   "file_extension": ".py",
   "mimetype": "text/x-python",
   "name": "python",
   "nbconvert_exporter": "python",
   "pygments_lexer": "ipython3",
   "version": "3.10.9"
  }
 },
 "nbformat": 4,
 "nbformat_minor": 5
}
