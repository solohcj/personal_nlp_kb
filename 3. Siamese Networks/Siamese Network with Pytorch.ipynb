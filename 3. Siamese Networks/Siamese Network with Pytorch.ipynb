{
 "cells": [
  {
   "cell_type": "code",
   "execution_count": 1,
   "id": "b51af78c-2dbc-4d4d-8901-9547cf4fed50",
   "metadata": {},
   "outputs": [
    {
     "name": "stderr",
     "output_type": "stream",
     "text": [
      "C:\\Users\\solom\\.conda\\envs\\nlp\\lib\\site-packages\\tqdm\\auto.py:22: TqdmWarning: IProgress not found. Please update jupyter and ipywidgets. See https://ipywidgets.readthedocs.io/en/stable/user_install.html\n",
      "  from .autonotebook import tqdm as notebook_tqdm\n"
     ]
    }
   ],
   "source": [
    "import re\n",
    "import nltk\n",
    "import spacy\n",
    "import gensim\n",
    "import itertools\n",
    "\n",
    "from nltk import ngrams\n",
    "import pandas as pd\n",
    "import numpy as np\n",
    "from sklearn.model_selection import train_test_split\n",
    "from sklearn.preprocessing import LabelBinarizer\n",
    "\n",
    "import torch\n",
    "import torch.nn as nn\n",
    "from torch.utils.data import TensorDataset, DataLoader, RandomSampler, SequentialSampler\n",
    "\n",
    "# Importing model architecture\n",
    "from siamese_network_model_architecture import Encoder, SiameseNetwork"
   ]
  },
  {
   "cell_type": "code",
   "execution_count": 2,
   "id": "57f2198d-668a-4669-b753-161b09db0f11",
   "metadata": {},
   "outputs": [
    {
     "data": {
      "text/plain": [
       "True"
      ]
     },
     "execution_count": 2,
     "metadata": {},
     "output_type": "execute_result"
    }
   ],
   "source": [
    "torch.cuda.is_available()"
   ]
  },
  {
   "cell_type": "code",
   "execution_count": 3,
   "id": "59e0af33-74d5-4c5a-abd2-6376bc59ace8",
   "metadata": {},
   "outputs": [],
   "source": [
    "# Cast to GPU if not it will be processed with CPU\n",
    "device = torch.device('cuda')"
   ]
  },
  {
   "cell_type": "code",
   "execution_count": 4,
   "id": "5a6ef912-e64e-4e29-932a-c37896d11fe6",
   "metadata": {},
   "outputs": [
    {
     "name": "stderr",
     "output_type": "stream",
     "text": [
      "C:\\Users\\solom\\AppData\\Local\\Temp\\ipykernel_1900\\858636.py:1: DtypeWarning: Columns (3,4) have mixed types. Specify dtype option on import or set low_memory=False.\n",
      "  df = pd.read_csv('../0. Sample Datasets/quora_question_pair_sample.csv')\n"
     ]
    }
   ],
   "source": [
    "df = pd.read_csv('../0. Sample Datasets/quora_question_pair_sample.csv')"
   ]
  },
  {
   "cell_type": "code",
   "execution_count": 5,
   "id": "ca0f32eb-b127-41dd-a6e4-848423917ae3",
   "metadata": {},
   "outputs": [
    {
     "data": {
      "text/html": [
       "<div>\n",
       "<style scoped>\n",
       "    .dataframe tbody tr th:only-of-type {\n",
       "        vertical-align: middle;\n",
       "    }\n",
       "\n",
       "    .dataframe tbody tr th {\n",
       "        vertical-align: top;\n",
       "    }\n",
       "\n",
       "    .dataframe thead th {\n",
       "        text-align: right;\n",
       "    }\n",
       "</style>\n",
       "<table border=\"1\" class=\"dataframe\">\n",
       "  <thead>\n",
       "    <tr style=\"text-align: right;\">\n",
       "      <th></th>\n",
       "      <th>id</th>\n",
       "      <th>qid1</th>\n",
       "      <th>qid2</th>\n",
       "      <th>question1</th>\n",
       "      <th>question2</th>\n",
       "      <th>is_duplicate</th>\n",
       "    </tr>\n",
       "  </thead>\n",
       "  <tbody>\n",
       "    <tr>\n",
       "      <th>0</th>\n",
       "      <td>0.0</td>\n",
       "      <td>1.0</td>\n",
       "      <td>2.0</td>\n",
       "      <td>What is the step by step guide to invest in sh...</td>\n",
       "      <td>What is the step by step guide to invest in sh...</td>\n",
       "      <td>0.0</td>\n",
       "    </tr>\n",
       "    <tr>\n",
       "      <th>1</th>\n",
       "      <td>1.0</td>\n",
       "      <td>3.0</td>\n",
       "      <td>4.0</td>\n",
       "      <td>What is the story of Kohinoor (Koh-i-Noor) Dia...</td>\n",
       "      <td>What would happen if the Indian government sto...</td>\n",
       "      <td>0.0</td>\n",
       "    </tr>\n",
       "    <tr>\n",
       "      <th>2</th>\n",
       "      <td>2.0</td>\n",
       "      <td>5.0</td>\n",
       "      <td>6.0</td>\n",
       "      <td>How can I increase the speed of my internet co...</td>\n",
       "      <td>How can Internet speed be increased by hacking...</td>\n",
       "      <td>0.0</td>\n",
       "    </tr>\n",
       "    <tr>\n",
       "      <th>3</th>\n",
       "      <td>3.0</td>\n",
       "      <td>7.0</td>\n",
       "      <td>8.0</td>\n",
       "      <td>Why am I mentally very lonely? How can I solve...</td>\n",
       "      <td>Find the remainder when [math]23^{24}[/math] i...</td>\n",
       "      <td>0.0</td>\n",
       "    </tr>\n",
       "    <tr>\n",
       "      <th>4</th>\n",
       "      <td>4.0</td>\n",
       "      <td>9.0</td>\n",
       "      <td>10.0</td>\n",
       "      <td>Which one dissolve in water quikly sugar, salt...</td>\n",
       "      <td>Which fish would survive in salt water?</td>\n",
       "      <td>0.0</td>\n",
       "    </tr>\n",
       "  </tbody>\n",
       "</table>\n",
       "</div>"
      ],
      "text/plain": [
       "    id  qid1  qid2                                          question1  \\\n",
       "0  0.0   1.0   2.0  What is the step by step guide to invest in sh...   \n",
       "1  1.0   3.0   4.0  What is the story of Kohinoor (Koh-i-Noor) Dia...   \n",
       "2  2.0   5.0   6.0  How can I increase the speed of my internet co...   \n",
       "3  3.0   7.0   8.0  Why am I mentally very lonely? How can I solve...   \n",
       "4  4.0   9.0  10.0  Which one dissolve in water quikly sugar, salt...   \n",
       "\n",
       "                                           question2  is_duplicate  \n",
       "0  What is the step by step guide to invest in sh...           0.0  \n",
       "1  What would happen if the Indian government sto...           0.0  \n",
       "2  How can Internet speed be increased by hacking...           0.0  \n",
       "3  Find the remainder when [math]23^{24}[/math] i...           0.0  \n",
       "4            Which fish would survive in salt water?           0.0  "
      ]
     },
     "execution_count": 5,
     "metadata": {},
     "output_type": "execute_result"
    }
   ],
   "source": [
    "pd.set_option('display.max_column', None) \n",
    "df.head()"
   ]
  },
  {
   "cell_type": "markdown",
   "id": "5654540b-a710-4d53-866e-9b03cc3a2197",
   "metadata": {},
   "source": [
    "---\n",
    "For CosineSimilarity, similar tensors are closer to 1 while dissimilar tensors are closer to -1. See \"Pytorch CosineSimilarity Score Range.ipnyb\" for demonstration.\n",
    "\n",
    "As such, we need to change the target y from 0 to -1 for dissimilar _(i.e. not(is_duplicate))_ labels.\n",
    "\n",
    "---"
   ]
  },
  {
   "cell_type": "code",
   "execution_count": 6,
   "id": "8962130f-f4f9-4ad0-8c54-3947971717d6",
   "metadata": {},
   "outputs": [],
   "source": [
    "# Using CosineSimilarityLoss() -> need to change to [-1, 1] range\n",
    "df.is_duplicate = [-1 if i==0 else i for i in df.is_duplicate]"
   ]
  },
  {
   "cell_type": "code",
   "execution_count": 7,
   "id": "b623e051-dbaf-4dae-b43b-79575a8f2597",
   "metadata": {},
   "outputs": [
    {
     "name": "stdout",
     "output_type": "stream",
     "text": [
      "<class 'pandas.core.frame.DataFrame'>\n",
      "RangeIndex: 364932 entries, 0 to 364931\n",
      "Data columns (total 6 columns):\n",
      " #   Column        Non-Null Count   Dtype  \n",
      "---  ------        --------------   -----  \n",
      " 0   id            100001 non-null  float64\n",
      " 1   qid1          100001 non-null  float64\n",
      " 2   qid2          100001 non-null  float64\n",
      " 3   question1     100001 non-null  object \n",
      " 4   question2     100001 non-null  object \n",
      " 5   is_duplicate  100001 non-null  float64\n",
      "dtypes: float64(4), object(2)\n",
      "memory usage: 16.7+ MB\n"
     ]
    }
   ],
   "source": [
    "df.info()"
   ]
  },
  {
   "cell_type": "code",
   "execution_count": 8,
   "id": "9e17fedc-be20-49f2-9e49-891a18061674",
   "metadata": {},
   "outputs": [
    {
     "data": {
      "text/html": [
       "<div>\n",
       "<style scoped>\n",
       "    .dataframe tbody tr th:only-of-type {\n",
       "        vertical-align: middle;\n",
       "    }\n",
       "\n",
       "    .dataframe tbody tr th {\n",
       "        vertical-align: top;\n",
       "    }\n",
       "\n",
       "    .dataframe thead th {\n",
       "        text-align: right;\n",
       "    }\n",
       "</style>\n",
       "<table border=\"1\" class=\"dataframe\">\n",
       "  <thead>\n",
       "    <tr style=\"text-align: right;\">\n",
       "      <th></th>\n",
       "      <th>id</th>\n",
       "      <th>qid1</th>\n",
       "      <th>qid2</th>\n",
       "      <th>question1</th>\n",
       "      <th>question2</th>\n",
       "      <th>is_duplicate</th>\n",
       "    </tr>\n",
       "  </thead>\n",
       "  <tbody>\n",
       "    <tr>\n",
       "      <th>100001</th>\n",
       "      <td>NaN</td>\n",
       "      <td>NaN</td>\n",
       "      <td>NaN</td>\n",
       "      <td>NaN</td>\n",
       "      <td>NaN</td>\n",
       "      <td>NaN</td>\n",
       "    </tr>\n",
       "    <tr>\n",
       "      <th>100002</th>\n",
       "      <td>NaN</td>\n",
       "      <td>NaN</td>\n",
       "      <td>NaN</td>\n",
       "      <td>NaN</td>\n",
       "      <td>NaN</td>\n",
       "      <td>NaN</td>\n",
       "    </tr>\n",
       "    <tr>\n",
       "      <th>100003</th>\n",
       "      <td>NaN</td>\n",
       "      <td>NaN</td>\n",
       "      <td>NaN</td>\n",
       "      <td>NaN</td>\n",
       "      <td>NaN</td>\n",
       "      <td>NaN</td>\n",
       "    </tr>\n",
       "    <tr>\n",
       "      <th>100004</th>\n",
       "      <td>NaN</td>\n",
       "      <td>NaN</td>\n",
       "      <td>NaN</td>\n",
       "      <td>NaN</td>\n",
       "      <td>NaN</td>\n",
       "      <td>NaN</td>\n",
       "    </tr>\n",
       "    <tr>\n",
       "      <th>100005</th>\n",
       "      <td>NaN</td>\n",
       "      <td>NaN</td>\n",
       "      <td>NaN</td>\n",
       "      <td>NaN</td>\n",
       "      <td>NaN</td>\n",
       "      <td>NaN</td>\n",
       "    </tr>\n",
       "  </tbody>\n",
       "</table>\n",
       "</div>"
      ],
      "text/plain": [
       "        id  qid1  qid2 question1 question2  is_duplicate\n",
       "100001 NaN   NaN   NaN       NaN       NaN           NaN\n",
       "100002 NaN   NaN   NaN       NaN       NaN           NaN\n",
       "100003 NaN   NaN   NaN       NaN       NaN           NaN\n",
       "100004 NaN   NaN   NaN       NaN       NaN           NaN\n",
       "100005 NaN   NaN   NaN       NaN       NaN           NaN"
      ]
     },
     "execution_count": 8,
     "metadata": {},
     "output_type": "execute_result"
    }
   ],
   "source": [
    "df[df.question1.isnull()].head()"
   ]
  },
  {
   "cell_type": "code",
   "execution_count": 9,
   "id": "64277f18-b8fd-4256-bc37-6a35292cbcca",
   "metadata": {},
   "outputs": [
    {
     "data": {
      "text/html": [
       "<div>\n",
       "<style scoped>\n",
       "    .dataframe tbody tr th:only-of-type {\n",
       "        vertical-align: middle;\n",
       "    }\n",
       "\n",
       "    .dataframe tbody tr th {\n",
       "        vertical-align: top;\n",
       "    }\n",
       "\n",
       "    .dataframe thead th {\n",
       "        text-align: right;\n",
       "    }\n",
       "</style>\n",
       "<table border=\"1\" class=\"dataframe\">\n",
       "  <thead>\n",
       "    <tr style=\"text-align: right;\">\n",
       "      <th></th>\n",
       "      <th>id</th>\n",
       "      <th>qid1</th>\n",
       "      <th>qid2</th>\n",
       "      <th>question1</th>\n",
       "      <th>question2</th>\n",
       "      <th>is_duplicate</th>\n",
       "    </tr>\n",
       "  </thead>\n",
       "  <tbody>\n",
       "    <tr>\n",
       "      <th>100001</th>\n",
       "      <td>NaN</td>\n",
       "      <td>NaN</td>\n",
       "      <td>NaN</td>\n",
       "      <td>NaN</td>\n",
       "      <td>NaN</td>\n",
       "      <td>NaN</td>\n",
       "    </tr>\n",
       "    <tr>\n",
       "      <th>100002</th>\n",
       "      <td>NaN</td>\n",
       "      <td>NaN</td>\n",
       "      <td>NaN</td>\n",
       "      <td>NaN</td>\n",
       "      <td>NaN</td>\n",
       "      <td>NaN</td>\n",
       "    </tr>\n",
       "    <tr>\n",
       "      <th>100003</th>\n",
       "      <td>NaN</td>\n",
       "      <td>NaN</td>\n",
       "      <td>NaN</td>\n",
       "      <td>NaN</td>\n",
       "      <td>NaN</td>\n",
       "      <td>NaN</td>\n",
       "    </tr>\n",
       "    <tr>\n",
       "      <th>100004</th>\n",
       "      <td>NaN</td>\n",
       "      <td>NaN</td>\n",
       "      <td>NaN</td>\n",
       "      <td>NaN</td>\n",
       "      <td>NaN</td>\n",
       "      <td>NaN</td>\n",
       "    </tr>\n",
       "    <tr>\n",
       "      <th>100005</th>\n",
       "      <td>NaN</td>\n",
       "      <td>NaN</td>\n",
       "      <td>NaN</td>\n",
       "      <td>NaN</td>\n",
       "      <td>NaN</td>\n",
       "      <td>NaN</td>\n",
       "    </tr>\n",
       "  </tbody>\n",
       "</table>\n",
       "</div>"
      ],
      "text/plain": [
       "        id  qid1  qid2 question1 question2  is_duplicate\n",
       "100001 NaN   NaN   NaN       NaN       NaN           NaN\n",
       "100002 NaN   NaN   NaN       NaN       NaN           NaN\n",
       "100003 NaN   NaN   NaN       NaN       NaN           NaN\n",
       "100004 NaN   NaN   NaN       NaN       NaN           NaN\n",
       "100005 NaN   NaN   NaN       NaN       NaN           NaN"
      ]
     },
     "execution_count": 9,
     "metadata": {},
     "output_type": "execute_result"
    }
   ],
   "source": [
    "df[df.question2.isnull()].head()"
   ]
  },
  {
   "cell_type": "code",
   "execution_count": 10,
   "id": "899863c9-2014-4f82-8c39-ff8bfdf16056",
   "metadata": {},
   "outputs": [],
   "source": [
    "df.dropna(axis=0, how='any', inplace=True)"
   ]
  },
  {
   "cell_type": "code",
   "execution_count": 11,
   "id": "6c66941a-f58d-4201-8610-1108d1576782",
   "metadata": {},
   "outputs": [
    {
     "name": "stdout",
     "output_type": "stream",
     "text": [
      "<class 'pandas.core.frame.DataFrame'>\n",
      "Int64Index: 100001 entries, 0 to 100000\n",
      "Data columns (total 6 columns):\n",
      " #   Column        Non-Null Count   Dtype  \n",
      "---  ------        --------------   -----  \n",
      " 0   id            100001 non-null  float64\n",
      " 1   qid1          100001 non-null  float64\n",
      " 2   qid2          100001 non-null  float64\n",
      " 3   question1     100001 non-null  object \n",
      " 4   question2     100001 non-null  object \n",
      " 5   is_duplicate  100001 non-null  float64\n",
      "dtypes: float64(4), object(2)\n",
      "memory usage: 5.3+ MB\n"
     ]
    }
   ],
   "source": [
    "df.info()"
   ]
  },
  {
   "cell_type": "code",
   "execution_count": 12,
   "id": "ba8c1cbe-708b-4e80-b74b-32276b4e29f6",
   "metadata": {},
   "outputs": [
    {
     "data": {
      "text/plain": [
       "-1.0    62747\n",
       " 1.0    37254\n",
       "Name: is_duplicate, dtype: int64"
      ]
     },
     "execution_count": 12,
     "metadata": {},
     "output_type": "execute_result"
    }
   ],
   "source": [
    "df.is_duplicate.value_counts()"
   ]
  },
  {
   "cell_type": "markdown",
   "id": "f7f3f1ec-39df-4a75-b61b-4d9b18b0aa72",
   "metadata": {},
   "source": [
    "## We will clean all data (regardless of test/val/train) with the same process before proceeding\n",
    "\n",
    "**_Will not be removing stopwords as stop words like \"how\"/\"what\", etc is important in differentiating the nature of the question_**"
   ]
  },
  {
   "cell_type": "code",
   "execution_count": 13,
   "id": "f5296eac-1f16-45a3-88d2-f1783c45c259",
   "metadata": {
    "scrolled": true,
    "tags": []
   },
   "outputs": [],
   "source": [
    "lem = nltk.WordNetLemmatizer()\n",
    "\n",
    "def preprocessing(sentence):\n",
    "    sent = sentence.lower()\n",
    "    \n",
    "    # Removing selected symbols, keeping numbers\n",
    "    sent = re.sub(\"\\(|\\)|\\/|\\-|\\#|\\!|\\?|\\.|\\,|\\\"|\\'|\\*|\\[|\\]|\\{|\\}|\\$\", \"\", sent)\n",
    "    \n",
    "    # Removing emails\n",
    "    sent = re.sub(\"\\S*@\\S*\\s?\", \"\", sent)\n",
    "    \n",
    "    # Removing numbers\n",
    "    sent = re.sub(\"\\d+\", \"\", sent)\n",
    "    \n",
    "    return sent"
   ]
  },
  {
   "cell_type": "code",
   "execution_count": 14,
   "id": "c8d3c921-30aa-4ce2-ae33-eda0afff6c35",
   "metadata": {},
   "outputs": [
    {
     "name": "stdout",
     "output_type": "stream",
     "text": [
      "What is the step by step guide to invest in share market in india?\n"
     ]
    }
   ],
   "source": [
    "print('What is the step by step guide to invest in share market in india?')"
   ]
  },
  {
   "cell_type": "code",
   "execution_count": 15,
   "id": "762e1359-eebe-45d8-a665-2114e48ce36c",
   "metadata": {},
   "outputs": [
    {
     "data": {
      "text/plain": [
       "'what is the step by step guide to invest in share market in india'"
      ]
     },
     "execution_count": 15,
     "metadata": {},
     "output_type": "execute_result"
    }
   ],
   "source": [
    "preprocessing('What is the step by step guide to invest in share market in india?')"
   ]
  },
  {
   "cell_type": "code",
   "execution_count": 16,
   "id": "db30bed9-074d-4c49-9117-873c2e79bf56",
   "metadata": {},
   "outputs": [
    {
     "data": {
      "text/plain": [
       "'how can i know who logged in to my gmail account by telling his ip address or device name'"
      ]
     },
     "execution_count": 16,
     "metadata": {},
     "output_type": "execute_result"
    }
   ],
   "source": [
    "preprocessing('How can I know who logged in to my Gmail account? (by telling his IP address or device name)?')"
   ]
  },
  {
   "cell_type": "code",
   "execution_count": 17,
   "id": "77bd56ac-77be-44e4-af84-5c3f4173ff61",
   "metadata": {},
   "outputs": [
    {
     "data": {
      "text/plain": [
       "'how do i log out of my gmail account on my friends phone'"
      ]
     },
     "execution_count": 17,
     "metadata": {},
     "output_type": "execute_result"
    }
   ],
   "source": [
    "preprocessing(\"How do I log out of my Gmail account on my friend's phone?\")"
   ]
  },
  {
   "cell_type": "markdown",
   "id": "464f61e8-303b-43f3-9a56-8ec18797f98c",
   "metadata": {},
   "source": [
    "## Split data"
   ]
  },
  {
   "cell_type": "code",
   "execution_count": 18,
   "id": "6ec6a530-8795-4b78-a1dc-2afc731e7ed0",
   "metadata": {},
   "outputs": [],
   "source": [
    "X = df.drop('is_duplicate', axis=1)\n",
    "y = df.is_duplicate"
   ]
  },
  {
   "cell_type": "code",
   "execution_count": 19,
   "id": "7d59141e-9f7f-4e28-84fd-544521312bb9",
   "metadata": {},
   "outputs": [
    {
     "data": {
      "text/html": [
       "<div>\n",
       "<style scoped>\n",
       "    .dataframe tbody tr th:only-of-type {\n",
       "        vertical-align: middle;\n",
       "    }\n",
       "\n",
       "    .dataframe tbody tr th {\n",
       "        vertical-align: top;\n",
       "    }\n",
       "\n",
       "    .dataframe thead th {\n",
       "        text-align: right;\n",
       "    }\n",
       "</style>\n",
       "<table border=\"1\" class=\"dataframe\">\n",
       "  <thead>\n",
       "    <tr style=\"text-align: right;\">\n",
       "      <th></th>\n",
       "      <th>id</th>\n",
       "      <th>qid1</th>\n",
       "      <th>qid2</th>\n",
       "      <th>question1</th>\n",
       "      <th>question2</th>\n",
       "    </tr>\n",
       "  </thead>\n",
       "  <tbody>\n",
       "    <tr>\n",
       "      <th>0</th>\n",
       "      <td>0.0</td>\n",
       "      <td>1.0</td>\n",
       "      <td>2.0</td>\n",
       "      <td>What is the step by step guide to invest in sh...</td>\n",
       "      <td>What is the step by step guide to invest in sh...</td>\n",
       "    </tr>\n",
       "    <tr>\n",
       "      <th>1</th>\n",
       "      <td>1.0</td>\n",
       "      <td>3.0</td>\n",
       "      <td>4.0</td>\n",
       "      <td>What is the story of Kohinoor (Koh-i-Noor) Dia...</td>\n",
       "      <td>What would happen if the Indian government sto...</td>\n",
       "    </tr>\n",
       "    <tr>\n",
       "      <th>2</th>\n",
       "      <td>2.0</td>\n",
       "      <td>5.0</td>\n",
       "      <td>6.0</td>\n",
       "      <td>How can I increase the speed of my internet co...</td>\n",
       "      <td>How can Internet speed be increased by hacking...</td>\n",
       "    </tr>\n",
       "    <tr>\n",
       "      <th>3</th>\n",
       "      <td>3.0</td>\n",
       "      <td>7.0</td>\n",
       "      <td>8.0</td>\n",
       "      <td>Why am I mentally very lonely? How can I solve...</td>\n",
       "      <td>Find the remainder when [math]23^{24}[/math] i...</td>\n",
       "    </tr>\n",
       "    <tr>\n",
       "      <th>4</th>\n",
       "      <td>4.0</td>\n",
       "      <td>9.0</td>\n",
       "      <td>10.0</td>\n",
       "      <td>Which one dissolve in water quikly sugar, salt...</td>\n",
       "      <td>Which fish would survive in salt water?</td>\n",
       "    </tr>\n",
       "  </tbody>\n",
       "</table>\n",
       "</div>"
      ],
      "text/plain": [
       "    id  qid1  qid2                                          question1  \\\n",
       "0  0.0   1.0   2.0  What is the step by step guide to invest in sh...   \n",
       "1  1.0   3.0   4.0  What is the story of Kohinoor (Koh-i-Noor) Dia...   \n",
       "2  2.0   5.0   6.0  How can I increase the speed of my internet co...   \n",
       "3  3.0   7.0   8.0  Why am I mentally very lonely? How can I solve...   \n",
       "4  4.0   9.0  10.0  Which one dissolve in water quikly sugar, salt...   \n",
       "\n",
       "                                           question2  \n",
       "0  What is the step by step guide to invest in sh...  \n",
       "1  What would happen if the Indian government sto...  \n",
       "2  How can Internet speed be increased by hacking...  \n",
       "3  Find the remainder when [math]23^{24}[/math] i...  \n",
       "4            Which fish would survive in salt water?  "
      ]
     },
     "execution_count": 19,
     "metadata": {},
     "output_type": "execute_result"
    }
   ],
   "source": [
    "X.head()"
   ]
  },
  {
   "cell_type": "code",
   "execution_count": 20,
   "id": "638a246f-26cd-4c13-9d5b-41aae361b22f",
   "metadata": {},
   "outputs": [
    {
     "data": {
      "text/plain": [
       "0   -1.0\n",
       "1   -1.0\n",
       "2   -1.0\n",
       "3   -1.0\n",
       "4   -1.0\n",
       "Name: is_duplicate, dtype: float64"
      ]
     },
     "execution_count": 20,
     "metadata": {},
     "output_type": "execute_result"
    }
   ],
   "source": [
    "y.head()"
   ]
  },
  {
   "cell_type": "code",
   "execution_count": 21,
   "id": "7437de69-2ec0-4ffc-9d08-544d1a07bcd4",
   "metadata": {},
   "outputs": [],
   "source": [
    "X_train, X_test, y_train, y_test = train_test_split(X, y, test_size=0.2, stratify=y)\n",
    "X_val, X_test, y_val, y_test = train_test_split(X_test, y_test, test_size=0.5, stratify=y_test)"
   ]
  },
  {
   "cell_type": "code",
   "execution_count": 22,
   "id": "1be7805e-d8f5-4514-bb28-13866dde7733",
   "metadata": {},
   "outputs": [
    {
     "data": {
      "text/plain": [
       "-1.0    50197\n",
       " 1.0    29803\n",
       "Name: is_duplicate, dtype: int64"
      ]
     },
     "execution_count": 22,
     "metadata": {},
     "output_type": "execute_result"
    }
   ],
   "source": [
    "y_train.value_counts()"
   ]
  },
  {
   "cell_type": "code",
   "execution_count": 23,
   "id": "c14fa149-ac87-41b3-ba32-6efbef7a3ff6",
   "metadata": {},
   "outputs": [
    {
     "data": {
      "text/plain": [
       "-1.0    6275\n",
       " 1.0    3725\n",
       "Name: is_duplicate, dtype: int64"
      ]
     },
     "execution_count": 23,
     "metadata": {},
     "output_type": "execute_result"
    }
   ],
   "source": [
    "y_val.value_counts()"
   ]
  },
  {
   "cell_type": "code",
   "execution_count": 24,
   "id": "4dbb2bec-b2e3-4934-b07a-91afd250da73",
   "metadata": {},
   "outputs": [
    {
     "data": {
      "text/plain": [
       "-1.0    6275\n",
       " 1.0    3726\n",
       "Name: is_duplicate, dtype: int64"
      ]
     },
     "execution_count": 24,
     "metadata": {},
     "output_type": "execute_result"
    }
   ],
   "source": [
    "y_test.value_counts()"
   ]
  },
  {
   "cell_type": "code",
   "execution_count": 25,
   "id": "792c79b2-0841-435d-b524-ae2c3bd6dd87",
   "metadata": {},
   "outputs": [
    {
     "data": {
      "text/html": [
       "<div>\n",
       "<style scoped>\n",
       "    .dataframe tbody tr th:only-of-type {\n",
       "        vertical-align: middle;\n",
       "    }\n",
       "\n",
       "    .dataframe tbody tr th {\n",
       "        vertical-align: top;\n",
       "    }\n",
       "\n",
       "    .dataframe thead th {\n",
       "        text-align: right;\n",
       "    }\n",
       "</style>\n",
       "<table border=\"1\" class=\"dataframe\">\n",
       "  <thead>\n",
       "    <tr style=\"text-align: right;\">\n",
       "      <th></th>\n",
       "      <th>id</th>\n",
       "      <th>qid1</th>\n",
       "      <th>qid2</th>\n",
       "      <th>question1</th>\n",
       "      <th>question2</th>\n",
       "    </tr>\n",
       "  </thead>\n",
       "  <tbody>\n",
       "    <tr>\n",
       "      <th>24603</th>\n",
       "      <td>24603.0</td>\n",
       "      <td>45943.0</td>\n",
       "      <td>45944.0</td>\n",
       "      <td>What does it mean when a girl says \"why you ask?\"</td>\n",
       "      <td>What does it mean when you ask a girl out and ...</td>\n",
       "    </tr>\n",
       "    <tr>\n",
       "      <th>62561</th>\n",
       "      <td>62561.0</td>\n",
       "      <td>109019.0</td>\n",
       "      <td>109020.0</td>\n",
       "      <td>Will they ban alcohol in Germany because of Mu...</td>\n",
       "      <td>Will Germany ban alcohol because of Muslims?</td>\n",
       "    </tr>\n",
       "    <tr>\n",
       "      <th>31533</th>\n",
       "      <td>31533.0</td>\n",
       "      <td>7999.0</td>\n",
       "      <td>58130.0</td>\n",
       "      <td>What are the Black Friday deals for 2016?</td>\n",
       "      <td>What are the free Black Friday deals of 2016?</td>\n",
       "    </tr>\n",
       "    <tr>\n",
       "      <th>28977</th>\n",
       "      <td>28977.0</td>\n",
       "      <td>53663.0</td>\n",
       "      <td>53664.0</td>\n",
       "      <td>What do nutritionists do?</td>\n",
       "      <td>What do nutritionists eat?</td>\n",
       "    </tr>\n",
       "    <tr>\n",
       "      <th>78357</th>\n",
       "      <td>78357.0</td>\n",
       "      <td>133629.0</td>\n",
       "      <td>93468.0</td>\n",
       "      <td>Do people get paid to write answers on Quora?</td>\n",
       "      <td>Is it true you get paid to answer Quora Questi...</td>\n",
       "    </tr>\n",
       "  </tbody>\n",
       "</table>\n",
       "</div>"
      ],
      "text/plain": [
       "            id      qid1      qid2  \\\n",
       "24603  24603.0   45943.0   45944.0   \n",
       "62561  62561.0  109019.0  109020.0   \n",
       "31533  31533.0    7999.0   58130.0   \n",
       "28977  28977.0   53663.0   53664.0   \n",
       "78357  78357.0  133629.0   93468.0   \n",
       "\n",
       "                                               question1  \\\n",
       "24603  What does it mean when a girl says \"why you ask?\"   \n",
       "62561  Will they ban alcohol in Germany because of Mu...   \n",
       "31533          What are the Black Friday deals for 2016?   \n",
       "28977                          What do nutritionists do?   \n",
       "78357      Do people get paid to write answers on Quora?   \n",
       "\n",
       "                                               question2  \n",
       "24603  What does it mean when you ask a girl out and ...  \n",
       "62561       Will Germany ban alcohol because of Muslims?  \n",
       "31533      What are the free Black Friday deals of 2016?  \n",
       "28977                         What do nutritionists eat?  \n",
       "78357  Is it true you get paid to answer Quora Questi...  "
      ]
     },
     "execution_count": 25,
     "metadata": {},
     "output_type": "execute_result"
    }
   ],
   "source": [
    "X_train.head()"
   ]
  },
  {
   "cell_type": "code",
   "execution_count": 26,
   "id": "99770347-68ca-4b19-9398-8aefcef36754",
   "metadata": {},
   "outputs": [
    {
     "data": {
      "text/plain": [
       "24603   -1.0\n",
       "62561    1.0\n",
       "31533    1.0\n",
       "28977   -1.0\n",
       "78357    1.0\n",
       "Name: is_duplicate, dtype: float64"
      ]
     },
     "execution_count": 26,
     "metadata": {},
     "output_type": "execute_result"
    }
   ],
   "source": [
    "y_train.head()"
   ]
  },
  {
   "cell_type": "code",
   "execution_count": 27,
   "id": "96e2e94d-15a5-496c-b50a-2b5e95df1e95",
   "metadata": {},
   "outputs": [],
   "source": [
    "# Resetting indexes for subsequent processing (less confusing to tally)\n",
    "X_train.reset_index(drop=True, inplace=True)\n",
    "X_val.reset_index(drop=True, inplace=True)\n",
    "X_test.reset_index(drop=True, inplace=True)\n",
    "\n",
    "y_train.reset_index(drop=True, inplace=True)\n",
    "y_val.reset_index(drop=True, inplace=True)\n",
    "y_test.reset_index(drop=True, inplace=True)"
   ]
  },
  {
   "cell_type": "code",
   "execution_count": 28,
   "id": "6f47b584-b9f8-4b2c-806e-9317d0ff5780",
   "metadata": {},
   "outputs": [
    {
     "data": {
      "text/html": [
       "<div>\n",
       "<style scoped>\n",
       "    .dataframe tbody tr th:only-of-type {\n",
       "        vertical-align: middle;\n",
       "    }\n",
       "\n",
       "    .dataframe tbody tr th {\n",
       "        vertical-align: top;\n",
       "    }\n",
       "\n",
       "    .dataframe thead th {\n",
       "        text-align: right;\n",
       "    }\n",
       "</style>\n",
       "<table border=\"1\" class=\"dataframe\">\n",
       "  <thead>\n",
       "    <tr style=\"text-align: right;\">\n",
       "      <th></th>\n",
       "      <th>id</th>\n",
       "      <th>qid1</th>\n",
       "      <th>qid2</th>\n",
       "      <th>question1</th>\n",
       "      <th>question2</th>\n",
       "    </tr>\n",
       "  </thead>\n",
       "  <tbody>\n",
       "    <tr>\n",
       "      <th>0</th>\n",
       "      <td>24603.0</td>\n",
       "      <td>45943.0</td>\n",
       "      <td>45944.0</td>\n",
       "      <td>What does it mean when a girl says \"why you ask?\"</td>\n",
       "      <td>What does it mean when you ask a girl out and ...</td>\n",
       "    </tr>\n",
       "    <tr>\n",
       "      <th>1</th>\n",
       "      <td>62561.0</td>\n",
       "      <td>109019.0</td>\n",
       "      <td>109020.0</td>\n",
       "      <td>Will they ban alcohol in Germany because of Mu...</td>\n",
       "      <td>Will Germany ban alcohol because of Muslims?</td>\n",
       "    </tr>\n",
       "    <tr>\n",
       "      <th>2</th>\n",
       "      <td>31533.0</td>\n",
       "      <td>7999.0</td>\n",
       "      <td>58130.0</td>\n",
       "      <td>What are the Black Friday deals for 2016?</td>\n",
       "      <td>What are the free Black Friday deals of 2016?</td>\n",
       "    </tr>\n",
       "    <tr>\n",
       "      <th>3</th>\n",
       "      <td>28977.0</td>\n",
       "      <td>53663.0</td>\n",
       "      <td>53664.0</td>\n",
       "      <td>What do nutritionists do?</td>\n",
       "      <td>What do nutritionists eat?</td>\n",
       "    </tr>\n",
       "    <tr>\n",
       "      <th>4</th>\n",
       "      <td>78357.0</td>\n",
       "      <td>133629.0</td>\n",
       "      <td>93468.0</td>\n",
       "      <td>Do people get paid to write answers on Quora?</td>\n",
       "      <td>Is it true you get paid to answer Quora Questi...</td>\n",
       "    </tr>\n",
       "  </tbody>\n",
       "</table>\n",
       "</div>"
      ],
      "text/plain": [
       "        id      qid1      qid2  \\\n",
       "0  24603.0   45943.0   45944.0   \n",
       "1  62561.0  109019.0  109020.0   \n",
       "2  31533.0    7999.0   58130.0   \n",
       "3  28977.0   53663.0   53664.0   \n",
       "4  78357.0  133629.0   93468.0   \n",
       "\n",
       "                                           question1  \\\n",
       "0  What does it mean when a girl says \"why you ask?\"   \n",
       "1  Will they ban alcohol in Germany because of Mu...   \n",
       "2          What are the Black Friday deals for 2016?   \n",
       "3                          What do nutritionists do?   \n",
       "4      Do people get paid to write answers on Quora?   \n",
       "\n",
       "                                           question2  \n",
       "0  What does it mean when you ask a girl out and ...  \n",
       "1       Will Germany ban alcohol because of Muslims?  \n",
       "2      What are the free Black Friday deals of 2016?  \n",
       "3                         What do nutritionists eat?  \n",
       "4  Is it true you get paid to answer Quora Questi...  "
      ]
     },
     "execution_count": 28,
     "metadata": {},
     "output_type": "execute_result"
    }
   ],
   "source": [
    "X_train.head()"
   ]
  },
  {
   "cell_type": "code",
   "execution_count": 29,
   "id": "21ff4132-8715-4800-8e1e-6e2ac584efdb",
   "metadata": {},
   "outputs": [
    {
     "data": {
      "text/plain": [
       "0   -1.0\n",
       "1    1.0\n",
       "2    1.0\n",
       "3   -1.0\n",
       "4    1.0\n",
       "Name: is_duplicate, dtype: float64"
      ]
     },
     "execution_count": 29,
     "metadata": {},
     "output_type": "execute_result"
    }
   ],
   "source": [
    "y_train.head()"
   ]
  },
  {
   "cell_type": "markdown",
   "id": "f34d0f7e-94b0-44e5-8f3a-0205b0920187",
   "metadata": {},
   "source": [
    "## Preprocessing all input text data"
   ]
  },
  {
   "cell_type": "code",
   "execution_count": 30,
   "id": "554136b2-40b2-439f-8c46-cb2e4be08219",
   "metadata": {},
   "outputs": [],
   "source": [
    "X_train['q1_preprocessed'] = [preprocessing(i) for i in X_train.question1]\n",
    "X_val['q1_preprocessed'] = [preprocessing(i) for i in X_val.question1]\n",
    "X_test['q1_preprocessed'] = [preprocessing(i) for i in X_test.question1]\n",
    "\n",
    "X_train['q2_preprocessed'] = [preprocessing(i) for i in X_train.question2]\n",
    "X_val['q2_preprocessed'] = [preprocessing(i) for i in X_val.question2]\n",
    "X_test['q2_preprocessed'] = [preprocessing(i) for i in X_test.question2]"
   ]
  },
  {
   "cell_type": "code",
   "execution_count": 31,
   "id": "6248deef-e35c-4d50-bead-9524a397de34",
   "metadata": {},
   "outputs": [
    {
     "data": {
      "text/html": [
       "<div>\n",
       "<style scoped>\n",
       "    .dataframe tbody tr th:only-of-type {\n",
       "        vertical-align: middle;\n",
       "    }\n",
       "\n",
       "    .dataframe tbody tr th {\n",
       "        vertical-align: top;\n",
       "    }\n",
       "\n",
       "    .dataframe thead th {\n",
       "        text-align: right;\n",
       "    }\n",
       "</style>\n",
       "<table border=\"1\" class=\"dataframe\">\n",
       "  <thead>\n",
       "    <tr style=\"text-align: right;\">\n",
       "      <th></th>\n",
       "      <th>id</th>\n",
       "      <th>qid1</th>\n",
       "      <th>qid2</th>\n",
       "      <th>question1</th>\n",
       "      <th>question2</th>\n",
       "      <th>q1_preprocessed</th>\n",
       "      <th>q2_preprocessed</th>\n",
       "    </tr>\n",
       "  </thead>\n",
       "  <tbody>\n",
       "    <tr>\n",
       "      <th>0</th>\n",
       "      <td>46109.0</td>\n",
       "      <td>82512.0</td>\n",
       "      <td>24241.0</td>\n",
       "      <td>How do I learn how to do kickboxing?</td>\n",
       "      <td>How can I learn to do kickboxing?</td>\n",
       "      <td>how do i learn how to do kickboxing</td>\n",
       "      <td>how can i learn to do kickboxing</td>\n",
       "    </tr>\n",
       "    <tr>\n",
       "      <th>1</th>\n",
       "      <td>44931.0</td>\n",
       "      <td>80586.0</td>\n",
       "      <td>80587.0</td>\n",
       "      <td>Why do helium gas balloons rise up in the air?</td>\n",
       "      <td>Why does a balloon rise and burst?</td>\n",
       "      <td>why do helium gas balloons rise up in the air</td>\n",
       "      <td>why does a balloon rise and burst</td>\n",
       "    </tr>\n",
       "    <tr>\n",
       "      <th>2</th>\n",
       "      <td>14852.0</td>\n",
       "      <td>28413.0</td>\n",
       "      <td>28414.0</td>\n",
       "      <td>How do I transfer a PF account using UAN?</td>\n",
       "      <td>Is there any way to use my old PF account?</td>\n",
       "      <td>how do i transfer a pf account using uan</td>\n",
       "      <td>is there any way to use my old pf account</td>\n",
       "    </tr>\n",
       "    <tr>\n",
       "      <th>3</th>\n",
       "      <td>20409.0</td>\n",
       "      <td>38503.0</td>\n",
       "      <td>9025.0</td>\n",
       "      <td>What is the best beginner coding language?</td>\n",
       "      <td>Which coding language is best to start with?</td>\n",
       "      <td>what is the best beginner coding language</td>\n",
       "      <td>which coding language is best to start with</td>\n",
       "    </tr>\n",
       "    <tr>\n",
       "      <th>4</th>\n",
       "      <td>71814.0</td>\n",
       "      <td>123520.0</td>\n",
       "      <td>123521.0</td>\n",
       "      <td>People don't feel tipped sideways when they tr...</td>\n",
       "      <td>What is the best way to prove the things right...</td>\n",
       "      <td>people dont feel tipped sideways when they tra...</td>\n",
       "      <td>what is the best way to prove the things right...</td>\n",
       "    </tr>\n",
       "  </tbody>\n",
       "</table>\n",
       "</div>"
      ],
      "text/plain": [
       "        id      qid1      qid2  \\\n",
       "0  46109.0   82512.0   24241.0   \n",
       "1  44931.0   80586.0   80587.0   \n",
       "2  14852.0   28413.0   28414.0   \n",
       "3  20409.0   38503.0    9025.0   \n",
       "4  71814.0  123520.0  123521.0   \n",
       "\n",
       "                                           question1  \\\n",
       "0               How do I learn how to do kickboxing?   \n",
       "1     Why do helium gas balloons rise up in the air?   \n",
       "2          How do I transfer a PF account using UAN?   \n",
       "3         What is the best beginner coding language?   \n",
       "4  People don't feel tipped sideways when they tr...   \n",
       "\n",
       "                                           question2  \\\n",
       "0                  How can I learn to do kickboxing?   \n",
       "1                 Why does a balloon rise and burst?   \n",
       "2         Is there any way to use my old PF account?   \n",
       "3       Which coding language is best to start with?   \n",
       "4  What is the best way to prove the things right...   \n",
       "\n",
       "                                     q1_preprocessed  \\\n",
       "0                how do i learn how to do kickboxing   \n",
       "1      why do helium gas balloons rise up in the air   \n",
       "2           how do i transfer a pf account using uan   \n",
       "3          what is the best beginner coding language   \n",
       "4  people dont feel tipped sideways when they tra...   \n",
       "\n",
       "                                     q2_preprocessed  \n",
       "0                   how can i learn to do kickboxing  \n",
       "1                  why does a balloon rise and burst  \n",
       "2          is there any way to use my old pf account  \n",
       "3        which coding language is best to start with  \n",
       "4  what is the best way to prove the things right...  "
      ]
     },
     "execution_count": 31,
     "metadata": {},
     "output_type": "execute_result"
    }
   ],
   "source": [
    "X_test.head()"
   ]
  },
  {
   "cell_type": "code",
   "execution_count": 32,
   "id": "e7aed506-3471-4c3f-bb00-40556dfc7e24",
   "metadata": {},
   "outputs": [],
   "source": [
    "# Dropping columns which are no longer needed\n",
    "X_train.drop(['qid1', 'qid2', 'question1', 'question2'], axis=1, inplace=True)\n",
    "X_val.drop(['qid1', 'qid2', 'question1', 'question2'], axis=1, inplace=True)\n",
    "X_test.drop(['qid1', 'qid2', 'question1', 'question2'], axis=1, inplace=True)"
   ]
  },
  {
   "cell_type": "code",
   "execution_count": 33,
   "id": "5de0f6f3-30db-45c8-b6cb-d9942a917465",
   "metadata": {},
   "outputs": [
    {
     "data": {
      "text/html": [
       "<div>\n",
       "<style scoped>\n",
       "    .dataframe tbody tr th:only-of-type {\n",
       "        vertical-align: middle;\n",
       "    }\n",
       "\n",
       "    .dataframe tbody tr th {\n",
       "        vertical-align: top;\n",
       "    }\n",
       "\n",
       "    .dataframe thead th {\n",
       "        text-align: right;\n",
       "    }\n",
       "</style>\n",
       "<table border=\"1\" class=\"dataframe\">\n",
       "  <thead>\n",
       "    <tr style=\"text-align: right;\">\n",
       "      <th></th>\n",
       "      <th>id</th>\n",
       "      <th>q1_preprocessed</th>\n",
       "      <th>q2_preprocessed</th>\n",
       "    </tr>\n",
       "  </thead>\n",
       "  <tbody>\n",
       "    <tr>\n",
       "      <th>0</th>\n",
       "      <td>24603.0</td>\n",
       "      <td>what does it mean when a girl says why you ask</td>\n",
       "      <td>what does it mean when you ask a girl out and ...</td>\n",
       "    </tr>\n",
       "    <tr>\n",
       "      <th>1</th>\n",
       "      <td>62561.0</td>\n",
       "      <td>will they ban alcohol in germany because of mu...</td>\n",
       "      <td>will germany ban alcohol because of muslims</td>\n",
       "    </tr>\n",
       "    <tr>\n",
       "      <th>2</th>\n",
       "      <td>31533.0</td>\n",
       "      <td>what are the black friday deals for</td>\n",
       "      <td>what are the free black friday deals of</td>\n",
       "    </tr>\n",
       "    <tr>\n",
       "      <th>3</th>\n",
       "      <td>28977.0</td>\n",
       "      <td>what do nutritionists do</td>\n",
       "      <td>what do nutritionists eat</td>\n",
       "    </tr>\n",
       "    <tr>\n",
       "      <th>4</th>\n",
       "      <td>78357.0</td>\n",
       "      <td>do people get paid to write answers on quora</td>\n",
       "      <td>is it true you get paid to answer quora questions</td>\n",
       "    </tr>\n",
       "  </tbody>\n",
       "</table>\n",
       "</div>"
      ],
      "text/plain": [
       "        id                                    q1_preprocessed  \\\n",
       "0  24603.0     what does it mean when a girl says why you ask   \n",
       "1  62561.0  will they ban alcohol in germany because of mu...   \n",
       "2  31533.0               what are the black friday deals for    \n",
       "3  28977.0                           what do nutritionists do   \n",
       "4  78357.0       do people get paid to write answers on quora   \n",
       "\n",
       "                                     q2_preprocessed  \n",
       "0  what does it mean when you ask a girl out and ...  \n",
       "1        will germany ban alcohol because of muslims  \n",
       "2           what are the free black friday deals of   \n",
       "3                          what do nutritionists eat  \n",
       "4  is it true you get paid to answer quora questions  "
      ]
     },
     "execution_count": 33,
     "metadata": {},
     "output_type": "execute_result"
    }
   ],
   "source": [
    "X_train.head()"
   ]
  },
  {
   "cell_type": "markdown",
   "id": "837c6fcb-8d6a-4066-83c6-0b411c953872",
   "metadata": {},
   "source": [
    "## Tokenising input text"
   ]
  },
  {
   "cell_type": "code",
   "execution_count": 34,
   "id": "44426730-f927-4106-8b0b-4390326578c4",
   "metadata": {},
   "outputs": [],
   "source": [
    "def building_vocab(df, columns=None):\n",
    "    \n",
    "    assert columns\n",
    "    \n",
    "    input_series = []\n",
    "    \n",
    "    for column in columns:\n",
    "        input_series += df[column].tolist()\n",
    "        \n",
    "    tokenized = [i.split() for i in input_series]\n",
    "        \n",
    "    # Building vocabulary\n",
    "    unique_words = ['<PAD>', '<UNK>'] + list(set(itertools.chain.from_iterable(tokenized)))\n",
    "    vocabulary = dict(zip(unique_words, range(len(unique_words))))\n",
    "\n",
    "    return vocabulary, len(vocabulary)"
   ]
  },
  {
   "cell_type": "code",
   "execution_count": 35,
   "id": "103461c1-cdba-45cc-9cfb-53eaf8cc2c8c",
   "metadata": {},
   "outputs": [],
   "source": [
    "def tokenizer_padding(input_series, max_len, vocabulary=None):\n",
    "\n",
    "    assert vocabulary\n",
    "    \n",
    "    if type(input_series)!=list:\n",
    "        try:\n",
    "            input_series = input_series.tolist()\n",
    "        except:\n",
    "            print (\"input_series must be list or of type which can be converter to list\")\n",
    "    \n",
    "    tokenized = [i.split() for i in input_series]\n",
    "    \n",
    "    # Encoding and padding\n",
    "    document = []\n",
    "    \n",
    "    for i in tokenized:\n",
    "        tok_sent = [vocabulary[j] if j in vocabulary else 1 for j in i]\n",
    "        document.append(tok_sent)\n",
    "        \n",
    "    for i in range(len(document)):\n",
    "        if len(document[i])<=max_len:\n",
    "            document[i] = [0]*(max_len-len(document[i])) + document[i]\n",
    "        else:\n",
    "            document[i] = document[i][-max_len:]\n",
    "            \n",
    "    output = [np.array(i) for i in document]\n",
    "\n",
    "    return np.vstack(output)"
   ]
  },
  {
   "cell_type": "code",
   "execution_count": 36,
   "id": "617ffb95-0c9b-4135-867e-f86c0ae1c9ee",
   "metadata": {},
   "outputs": [],
   "source": [
    "# Defining parameters for modeling\n",
    "max_length = seq_len = n_units = 50"
   ]
  },
  {
   "cell_type": "code",
   "execution_count": 37,
   "id": "df54689e-01fd-4304-b721-b5c924eb0a49",
   "metadata": {},
   "outputs": [],
   "source": [
    "# Building vocabulary\n",
    "X_train_vocab, X_train_vocab_size = building_vocab(X_train, columns=['q1_preprocessed', 'q2_preprocessed'])"
   ]
  },
  {
   "cell_type": "code",
   "execution_count": 38,
   "id": "4b0216b9-8d60-4b90-a08c-3db225b03ca7",
   "metadata": {
    "scrolled": true,
    "tags": []
   },
   "outputs": [
    {
     "data": {
      "text/plain": [
       "{'<PAD>': 0,\n",
       " '<UNK>': 1,\n",
       " 'novato': 2,\n",
       " 'democracies': 3,\n",
       " 'qed': 4,\n",
       " 'frictionless': 5,\n",
       " 'anid': 6,\n",
       " 'zapatas': 7,\n",
       " 'hendrix:': 8,\n",
       " 'contributors': 9,\n",
       " 'ascii': 10,\n",
       " 'multibillionaire': 11,\n",
       " 'preppy': 12,\n",
       " 'uric': 13,\n",
       " '∩': 14,\n",
       " 'esophagal': 15,\n",
       " 'emerged': 16,\n",
       " 'avatar:': 17,\n",
       " 'graphically': 18,\n",
       " 'lxde': 19,\n",
       " 'rebilling': 20,\n",
       " 'upenn': 21,\n",
       " 'etender': 22,\n",
       " 'importers': 23,\n",
       " 'shines': 24,\n",
       " 'infinite': 25,\n",
       " 'geophysical': 26,\n",
       " 'housewives': 27,\n",
       " 'censorship”jz': 28,\n",
       " 'javas': 29,\n",
       " 'site': 30,\n",
       " 'aquarii': 31,\n",
       " 'jungles': 32,\n",
       " 'in”': 33,\n",
       " 'injection<h>': 34,\n",
       " 'linger': 35,\n",
       " 'hadhave': 36,\n",
       " 'revive': 37,\n",
       " 'aventador': 38,\n",
       " 'jingoism': 39,\n",
       " 'protienx': 40,\n",
       " 'ayurved': 41,\n",
       " 'bail': 42,\n",
       " 'laguna': 43,\n",
       " 'yelp': 44,\n",
       " 'basque': 45,\n",
       " 'xyplane': 46,\n",
       " 'annual': 47,\n",
       " 'npat': 48,\n",
       " 'iasips': 49,\n",
       " 'inuit': 50,\n",
       " 'layne': 51,\n",
       " 'disabling': 52,\n",
       " 'chianti': 53,\n",
       " 'magicbless': 54,\n",
       " 'flv': 55,\n",
       " 'leapure': 56,\n",
       " 'martyn': 57,\n",
       " 'nonschengen': 58,\n",
       " 'nixon': 59,\n",
       " 'only”': 60,\n",
       " 'hygienic': 61,\n",
       " 'factorize': 62,\n",
       " 'talkie': 63,\n",
       " 'lenses': 64,\n",
       " 'costing': 65,\n",
       " 'labcorp': 66,\n",
       " 'snobbish': 67,\n",
       " 'hebdo': 68,\n",
       " 'who’s': 69,\n",
       " 'cervix': 70,\n",
       " 'traveller': 71,\n",
       " 'slapped': 72,\n",
       " 'salvatores': 73,\n",
       " 'leukemia': 74,\n",
       " 'labours': 75,\n",
       " 'highvoltage': 76,\n",
       " '=x+ymath': 77,\n",
       " 'nutrilite': 78,\n",
       " 'leo': 79,\n",
       " 'benter': 80,\n",
       " 'portals': 81,\n",
       " 'pret': 82,\n",
       " 'barbiturates': 83,\n",
       " 'sajid': 84,\n",
       " 'bum': 85,\n",
       " 'propagandize': 86,\n",
       " 'delhileh': 87,\n",
       " 'proteins': 88,\n",
       " 'infertility': 89,\n",
       " 'nerve': 90,\n",
       " 'productservice': 91,\n",
       " 'shahid': 92,\n",
       " 'seas': 93,\n",
       " 'ubi': 94,\n",
       " 'fear': 95,\n",
       " 'notifying': 96,\n",
       " 'jamshedpur': 97,\n",
       " 'tasted': 98,\n",
       " 'consequences': 99,\n",
       " 'shippers': 100,\n",
       " 'hyperactive': 101,\n",
       " 'maternal': 102,\n",
       " 'roundchat': 103,\n",
       " 'udp': 104,\n",
       " 'urbanedgenycom': 105,\n",
       " 'audioholicscom': 106,\n",
       " 'waterfall': 107,\n",
       " 'complains': 108,\n",
       " 'rectangles': 109,\n",
       " 'biomass': 110,\n",
       " 'yup': 111,\n",
       " 'subtitle': 112,\n",
       " 'overdoses': 113,\n",
       " 'anthropomorphic': 114,\n",
       " 'gannareddy': 115,\n",
       " 'pickled': 116,\n",
       " 'baloachistan': 117,\n",
       " 'jayalaitha': 118,\n",
       " 'univeristy': 119,\n",
       " 'plastic': 120,\n",
       " 'riverside': 121,\n",
       " 'simply': 122,\n",
       " 'sosh': 123,\n",
       " 'detect': 124,\n",
       " 'megasese': 125,\n",
       " 'siet': 126,\n",
       " 'makers': 127,\n",
       " 'aquaponics': 128,\n",
       " 'workstation': 129,\n",
       " 'follow': 130,\n",
       " 'polysaccharides': 131,\n",
       " 'agentbroker': 132,\n",
       " 'broil': 133,\n",
       " 'granite': 134,\n",
       " 'number': 135,\n",
       " 'crosshatching': 136,\n",
       " 'earlier': 137,\n",
       " 'windu': 138,\n",
       " 'bollywoods': 139,\n",
       " 'groupscommunities': 140,\n",
       " 'gump': 141,\n",
       " 'longboard': 142,\n",
       " 'multiarmed': 143,\n",
       " 'mitcoe': 144,\n",
       " 'conflicts:': 145,\n",
       " 'biomes': 146,\n",
       " 'zocdoc': 147,\n",
       " 'mis': 148,\n",
       " 'whenever': 149,\n",
       " 'shrugs': 150,\n",
       " 'dumba': 151,\n",
       " 'straightened': 152,\n",
       " 'slokas': 153,\n",
       " 'fests': 154,\n",
       " 'empathy': 155,\n",
       " 'albertas': 156,\n",
       " 'integrity': 157,\n",
       " 'torpedoes': 158,\n",
       " 'timings': 159,\n",
       " 'ideasthings': 160,\n",
       " 'occurring': 161,\n",
       " 'racial': 162,\n",
       " 'rt': 163,\n",
       " '“rogue': 164,\n",
       " 'thalapathy': 165,\n",
       " 'modem': 166,\n",
       " 'athletes': 167,\n",
       " 'iia': 168,\n",
       " 'regcure': 169,\n",
       " 'woes': 170,\n",
       " 'eloy': 171,\n",
       " 'emancipated': 172,\n",
       " 'examcollection': 173,\n",
       " 'openalpr': 174,\n",
       " 'sooftware': 175,\n",
       " 'crosslegged': 176,\n",
       " 'extroverted': 177,\n",
       " 'friendliest': 178,\n",
       " 'famous': 179,\n",
       " 'minutest': 180,\n",
       " 'climate': 181,\n",
       " 'breathingwhat': 182,\n",
       " 'threads': 183,\n",
       " 'systemdnspawn': 184,\n",
       " 'gimbal': 185,\n",
       " 'psychologistpsychiatrist': 186,\n",
       " 'heartburnstomach': 187,\n",
       " 'panchkula': 188,\n",
       " 'inegrated': 189,\n",
       " 'hush': 190,\n",
       " 'qualcom': 191,\n",
       " 'hoosiers': 192,\n",
       " 'host': 193,\n",
       " 'investigation': 194,\n",
       " 'cnyinr': 195,\n",
       " 'hardon': 196,\n",
       " 'subduction': 197,\n",
       " 'extremist': 198,\n",
       " 'luckily': 199,\n",
       " 'chicagos': 200,\n",
       " 'indifferent': 201,\n",
       " 'overdramatic': 202,\n",
       " 'cima': 203,\n",
       " 'ebaycom': 204,\n",
       " 'vans': 205,\n",
       " 'marketeer': 206,\n",
       " 'purge': 207,\n",
       " 'parentssiblingsfriendsrelatives': 208,\n",
       " 'squared': 209,\n",
       " 'reformed': 210,\n",
       " 'bowl': 211,\n",
       " '+gn': 212,\n",
       " 'buddhistshindus': 213,\n",
       " 'eaten”': 214,\n",
       " 'ballb': 215,\n",
       " 'bengaluru': 216,\n",
       " 'goodwell': 217,\n",
       " 'pelvis': 218,\n",
       " 'kabbadi': 219,\n",
       " 'contradicting': 220,\n",
       " 'spectator': 221,\n",
       " 'goods:': 222,\n",
       " 'hdp': 223,\n",
       " 'sawtolo': 224,\n",
       " '|x|^': 225,\n",
       " 'symbian': 226,\n",
       " 'visa': 227,\n",
       " 'unveiled': 228,\n",
       " 'enacted': 229,\n",
       " 'museums': 230,\n",
       " 'preached': 231,\n",
       " 'elijah': 232,\n",
       " 'andersons': 233,\n",
       " 'subscribers': 234,\n",
       " 'mharashtra': 235,\n",
       " 'pick:': 236,\n",
       " 'entrycanada': 237,\n",
       " 'occurs': 238,\n",
       " 'applicationproduction': 239,\n",
       " 'saxon': 240,\n",
       " 'downvoted': 241,\n",
       " 'christianity': 242,\n",
       " 'rodrigo': 243,\n",
       " 'repositories': 244,\n",
       " 'categorize': 245,\n",
       " 'c:': 246,\n",
       " 'circumference': 247,\n",
       " 'shoes': 248,\n",
       " 'raavan': 249,\n",
       " 'posted': 250,\n",
       " 'enriched': 251,\n",
       " 'horticulture': 252,\n",
       " 'horlogerie': 253,\n",
       " 'maintain': 254,\n",
       " 'dubizzle': 255,\n",
       " 'sscw': 256,\n",
       " 'russias': 257,\n",
       " 'voldemorts': 258,\n",
       " 'stator': 259,\n",
       " 'groom': 260,\n",
       " 'just': 261,\n",
       " 'algentis': 262,\n",
       " 'disrobing': 263,\n",
       " 'empathize': 264,\n",
       " 'nabors': 265,\n",
       " 'torrzzan': 266,\n",
       " 'mathcmath': 267,\n",
       " 'increasedecrease': 268,\n",
       " 'glim': 269,\n",
       " 'military': 270,\n",
       " 'thc': 271,\n",
       " 'twinkle': 272,\n",
       " 'nus': 273,\n",
       " 'portal:': 274,\n",
       " 'usd': 275,\n",
       " 'inadmissible': 276,\n",
       " 'pavilion': 277,\n",
       " 'drass': 278,\n",
       " 'volte': 279,\n",
       " 'compose': 280,\n",
       " 'grammarlycom': 281,\n",
       " 'saybucks': 282,\n",
       " 'temerity': 283,\n",
       " 'demobilization': 284,\n",
       " 'gumby': 285,\n",
       " 'rptcm': 286,\n",
       " '“alexa”': 287,\n",
       " 'adaptable': 288,\n",
       " 'animationgamingmultimedia': 289,\n",
       " 'wedge': 290,\n",
       " 'timely': 291,\n",
       " 'osbn®': 292,\n",
       " 'massage': 293,\n",
       " 'rider': 294,\n",
       " 'spandrel': 295,\n",
       " 'woocommerce': 296,\n",
       " 'expanditure': 297,\n",
       " 'pachasa': 298,\n",
       " 'wise': 299,\n",
       " 'worth': 300,\n",
       " 'otp': 301,\n",
       " 'rechargeable': 302,\n",
       " 'materialistically': 303,\n",
       " 'googling': 304,\n",
       " 'dale': 305,\n",
       " 'belkin': 306,\n",
       " 'serie': 307,\n",
       " 'website': 308,\n",
       " 'posing': 309,\n",
       " 'badges': 310,\n",
       " 'madhapurr': 311,\n",
       " 'jeddah': 312,\n",
       " 'laq': 313,\n",
       " 'mileage': 314,\n",
       " 'benadryl': 315,\n",
       " 'lifelong': 316,\n",
       " 'hotmail': 317,\n",
       " 'oitnb': 318,\n",
       " 'mask': 319,\n",
       " 'assistmarketcom': 320,\n",
       " 'cold': 321,\n",
       " 'ijazat': 322,\n",
       " 'biological': 323,\n",
       " 'dimple': 324,\n",
       " 'mushiking:': 325,\n",
       " 'denver': 326,\n",
       " 'victims': 327,\n",
       " 'showsfilms': 328,\n",
       " 'crises': 329,\n",
       " 'toning': 330,\n",
       " 'presidential': 331,\n",
       " '“power”': 332,\n",
       " 'madeleines': 333,\n",
       " 'telepathic': 334,\n",
       " 'screenedrenterscom': 335,\n",
       " 'tickets': 336,\n",
       " 'blabbermouth': 337,\n",
       " 'configure': 338,\n",
       " 'weightlifter': 339,\n",
       " 'yeatss': 340,\n",
       " 'overfitting': 341,\n",
       " 'lincoln': 342,\n",
       " 'changing': 343,\n",
       " 'villa': 344,\n",
       " 'crores': 345,\n",
       " 'countrylanguage': 346,\n",
       " 'sdf': 347,\n",
       " 'sphincter': 348,\n",
       " 'recording': 349,\n",
       " 'colonisation': 350,\n",
       " 'prayam': 351,\n",
       " 'schrödingers': 352,\n",
       " 'participate': 353,\n",
       " 'tilma': 354,\n",
       " 'respiration': 355,\n",
       " 'taare': 356,\n",
       " 'olds': 357,\n",
       " 'samuel': 358,\n",
       " 'haitis': 359,\n",
       " 'uncollapse': 360,\n",
       " 'tempting': 361,\n",
       " 'spotted': 362,\n",
       " 'egi': 363,\n",
       " 'putins': 364,\n",
       " 'selfidentity': 365,\n",
       " 'dialogue': 366,\n",
       " 'meridian': 367,\n",
       " 'infant': 368,\n",
       " 'punctuation': 369,\n",
       " 'reconstructions': 370,\n",
       " 'lifecan': 371,\n",
       " 'gamete': 372,\n",
       " 'volkawagon': 373,\n",
       " 'melodious': 374,\n",
       " 'tasters': 375,\n",
       " 'phi': 376,\n",
       " 'qpoliticalcom': 377,\n",
       " 'abortion:': 378,\n",
       " 'riddler': 379,\n",
       " 'annexure': 380,\n",
       " 'math\\\\frac\\\\sin': 381,\n",
       " 'duet': 382,\n",
       " 'overdue': 383,\n",
       " 'tattered': 384,\n",
       " 'prakash': 385,\n",
       " 'despised': 386,\n",
       " 'bachelor’s': 387,\n",
       " 'tiwari': 388,\n",
       " 'resourcestechnologies': 389,\n",
       " 'retreive': 390,\n",
       " 'employee': 391,\n",
       " 'cologneperfume': 392,\n",
       " 'republics': 393,\n",
       " 'saturdays': 394,\n",
       " 'mindnumbingly': 395,\n",
       " 'nonhindu’s': 396,\n",
       " 'pulsing': 397,\n",
       " 'aicte': 398,\n",
       " 'dharmalaya': 399,\n",
       " 'paradoxes': 400,\n",
       " 'richest': 401,\n",
       " 'hadnt': 402,\n",
       " 'xweeks': 403,\n",
       " 'cfa': 404,\n",
       " 'cataflam': 405,\n",
       " 'xxmath': 406,\n",
       " 'unbanned': 407,\n",
       " 'moto': 408,\n",
       " 'trimmers': 409,\n",
       " 'triune': 410,\n",
       " 'exgirlfriend': 411,\n",
       " 'yaos': 412,\n",
       " 'instinct': 413,\n",
       " 'colonized': 414,\n",
       " 'dismiss': 415,\n",
       " 'medicaid': 416,\n",
       " '“decanting”': 417,\n",
       " 'pheasant': 418,\n",
       " 'herzog': 419,\n",
       " 'krampus': 420,\n",
       " 'fab': 421,\n",
       " 'dish': 422,\n",
       " 'iifq': 423,\n",
       " 'westmoreland': 424,\n",
       " 'ble': 425,\n",
       " 'blooded': 426,\n",
       " 'rr': 427,\n",
       " 'peripherals:': 428,\n",
       " 'yales': 429,\n",
       " 'qamishli': 430,\n",
       " 'heartfelt': 431,\n",
       " 'sunroof': 432,\n",
       " 'responsibly': 433,\n",
       " 'turks': 434,\n",
       " 'emotion': 435,\n",
       " 'cerber': 436,\n",
       " 'himachal': 437,\n",
       " 'r+': 438,\n",
       " 'vacuumed': 439,\n",
       " 'itr': 440,\n",
       " 'cowl': 441,\n",
       " 'koran': 442,\n",
       " 'fevikwiks': 443,\n",
       " 'paaji': 444,\n",
       " 'cvn': 445,\n",
       " 'polarizing': 446,\n",
       " 'promo': 447,\n",
       " 'trader': 448,\n",
       " 'panda': 449,\n",
       " 'enlarge': 450,\n",
       " 'depressed': 451,\n",
       " 'boxup': 452,\n",
       " 'bike': 453,\n",
       " 'elsinore': 454,\n",
       " 'wikianswerscom': 455,\n",
       " 'nectar': 456,\n",
       " 'pantene': 457,\n",
       " 'rung': 458,\n",
       " 'victorias': 459,\n",
       " 'payoneer': 460,\n",
       " 'woodrose': 461,\n",
       " 'interacting': 462,\n",
       " 'clots': 463,\n",
       " 'flipkart': 464,\n",
       " 'pclassic': 465,\n",
       " 'ntpc': 466,\n",
       " 'kissinger': 467,\n",
       " 'insurgent': 468,\n",
       " 'lymphadenopathy': 469,\n",
       " 'nyctophobic': 470,\n",
       " 'fries': 471,\n",
       " 'line': 472,\n",
       " 'boxerblack': 473,\n",
       " 'likeable:': 474,\n",
       " 'energizer': 475,\n",
       " 'colors;': 476,\n",
       " 'surah': 477,\n",
       " 'taarak': 478,\n",
       " 'membranes': 479,\n",
       " 'bubble': 480,\n",
       " 'drdo': 481,\n",
       " 'malayali': 482,\n",
       " 'zero': 483,\n",
       " 'tcps': 484,\n",
       " 'devdutt': 485,\n",
       " 'quit': 486,\n",
       " 'scientology:': 487,\n",
       " 'steps': 488,\n",
       " 'shortterm': 489,\n",
       " 'behaves': 490,\n",
       " 'schools': 491,\n",
       " 'binatone': 492,\n",
       " 'hamstrings': 493,\n",
       " 'payable': 494,\n",
       " 'jinns': 495,\n",
       " 'sacrifices': 496,\n",
       " 'tasty': 497,\n",
       " 'hitchhiking': 498,\n",
       " 'afcat': 499,\n",
       " 'den': 500,\n",
       " 'phosphorylation': 501,\n",
       " 'entrepreneurship:': 502,\n",
       " 'violative': 503,\n",
       " 'bantu': 504,\n",
       " 'unbalanced': 505,\n",
       " 'interests': 506,\n",
       " 'vizianagarm': 507,\n",
       " 'upschow': 508,\n",
       " 'independence:': 509,\n",
       " 'mdes': 510,\n",
       " 'syl': 511,\n",
       " 'deserves': 512,\n",
       " 'heart': 513,\n",
       " 'பெறவேண்டும்': 514,\n",
       " 'supporting': 515,\n",
       " 'uconn': 516,\n",
       " 'mortality': 517,\n",
       " 'twisting': 518,\n",
       " 'brit': 519,\n",
       " 'copyright': 520,\n",
       " 'dvd': 521,\n",
       " 'bedwetting': 522,\n",
       " 'ekart': 523,\n",
       " 'frpm': 524,\n",
       " 'seeingeye': 525,\n",
       " 'detectors': 526,\n",
       " 'aches': 527,\n",
       " 'wearing': 528,\n",
       " 'cnbc': 529,\n",
       " 'oneday': 530,\n",
       " 'dahyaji': 531,\n",
       " 'immigrating': 532,\n",
       " 'cancel': 533,\n",
       " 'astra': 534,\n",
       " 'stuck': 535,\n",
       " 'bud': 536,\n",
       " 'javascriptbased': 537,\n",
       " 'filled': 538,\n",
       " 'eliminated': 539,\n",
       " 'blackouts': 540,\n",
       " 'lumiansky': 541,\n",
       " 'pushy': 542,\n",
       " 'whrs': 543,\n",
       " 'youthful': 544,\n",
       " 'fujifilm': 545,\n",
       " 'threatened': 546,\n",
       " 'textbooks': 547,\n",
       " 'attract': 548,\n",
       " 'tethering': 549,\n",
       " 'stephen': 550,\n",
       " 'persistent': 551,\n",
       " 'msg': 552,\n",
       " 'cheats': 553,\n",
       " 'aps': 554,\n",
       " 'uhg': 555,\n",
       " 'entrer': 556,\n",
       " 'nr': 557,\n",
       " 'rwhalebait': 558,\n",
       " 'hyphenating': 559,\n",
       " 'nonarabic': 560,\n",
       " 'shaka': 561,\n",
       " 'assam': 562,\n",
       " 'kalel': 563,\n",
       " 'merchandising': 564,\n",
       " 'emulsifier': 565,\n",
       " 'darjeeling': 566,\n",
       " 'two': 567,\n",
       " 'naming': 568,\n",
       " 'conform': 569,\n",
       " 'oldermarried': 570,\n",
       " 'snow': 571,\n",
       " 'burgundy': 572,\n",
       " 'controlling': 573,\n",
       " 'suffocated': 574,\n",
       " 'programing': 575,\n",
       " 'jobdelhi': 576,\n",
       " 'db': 577,\n",
       " 'modifies': 578,\n",
       " 'fractionations': 579,\n",
       " 'jst': 580,\n",
       " 'friv': 581,\n",
       " 'supranational': 582,\n",
       " '“terrorist': 583,\n",
       " 'quasicontract': 584,\n",
       " 'submission': 585,\n",
       " 'pups': 586,\n",
       " 'lowprofile': 587,\n",
       " 'swallowed': 588,\n",
       " 'stepson': 589,\n",
       " 'subscription': 590,\n",
       " 'sliced': 591,\n",
       " 'mulayam': 592,\n",
       " 'unsuccesfull': 593,\n",
       " 'subquantic': 594,\n",
       " 'rubeus': 595,\n",
       " 'poppingcrackling': 596,\n",
       " 'welfare': 597,\n",
       " 'multinational': 598,\n",
       " 'emergence': 599,\n",
       " 'instance': 600,\n",
       " 'uwash': 601,\n",
       " 'clients:': 602,\n",
       " 'okamoto': 603,\n",
       " 'ssid': 604,\n",
       " 'ethyl': 605,\n",
       " 'terrifyingspookiest': 606,\n",
       " 'evginia': 607,\n",
       " 'groupon': 608,\n",
       " 'domino': 609,\n",
       " 'men:': 610,\n",
       " 'cracks': 611,\n",
       " 'memos': 612,\n",
       " 'porter': 613,\n",
       " 'nonsmooth': 614,\n",
       " 'bake': 615,\n",
       " 'manifest': 616,\n",
       " 'thicken': 617,\n",
       " 'paratrooper': 618,\n",
       " 'romcom': 619,\n",
       " 'chaturdashi': 620,\n",
       " 'زب': 621,\n",
       " 'dedicate': 622,\n",
       " 'azmi': 623,\n",
       " 'blatty': 624,\n",
       " 'demo': 625,\n",
       " 'montserrat': 626,\n",
       " 'caliph': 627,\n",
       " 'monument': 628,\n",
       " 'uninvited': 629,\n",
       " 'consumerism': 630,\n",
       " 'panel': 631,\n",
       " 'constitution:': 632,\n",
       " 'oic': 633,\n",
       " 'connectivity': 634,\n",
       " 'running': 635,\n",
       " 'votes': 636,\n",
       " 'texas': 637,\n",
       " 'logarithms': 638,\n",
       " 'karimnagar': 639,\n",
       " 'cherished': 640,\n",
       " 'funds': 641,\n",
       " 'shovel': 642,\n",
       " 'shoulderchest': 643,\n",
       " 'thursday': 644,\n",
       " 'sourashtrians': 645,\n",
       " 'nicely': 646,\n",
       " 'infocus': 647,\n",
       " 'lampang': 648,\n",
       " 'suffixes': 649,\n",
       " 'alamo': 650,\n",
       " 'bin': 651,\n",
       " 'srcc': 652,\n",
       " 'encyclopedia': 653,\n",
       " 'consonant': 654,\n",
       " 'statuses': 655,\n",
       " 'network+': 656,\n",
       " 'obsessions': 657,\n",
       " 'backyards': 658,\n",
       " 'medalist': 659,\n",
       " 'whistles': 660,\n",
       " 'comman': 661,\n",
       " 'costochondritis': 662,\n",
       " 'madagascar': 663,\n",
       " 'pronoia': 664,\n",
       " 'paralympics': 665,\n",
       " 'pst': 666,\n",
       " 'phileas': 667,\n",
       " 'creamed': 668,\n",
       " 'cognizant': 669,\n",
       " 'dredlocks': 670,\n",
       " 'domains': 671,\n",
       " 'probes': 672,\n",
       " 'apa': 673,\n",
       " 'radiant': 674,\n",
       " 'concerns': 675,\n",
       " 'into': 676,\n",
       " 'entrepreneurial': 677,\n",
       " 'lamictal': 678,\n",
       " 'gets': 679,\n",
       " 'inhabited': 680,\n",
       " 'wolfman': 681,\n",
       " 'implement': 682,\n",
       " 'nash': 683,\n",
       " 'comparing': 684,\n",
       " 'radio': 685,\n",
       " 'spruce': 686,\n",
       " 'bandhavgarh': 687,\n",
       " 'many': 688,\n",
       " 'zoom': 689,\n",
       " 'tests': 690,\n",
       " 'arcview': 691,\n",
       " 'integrators': 692,\n",
       " 'inverse_friendship': 693,\n",
       " 'rural': 694,\n",
       " 'karna': 695,\n",
       " 'tracks': 696,\n",
       " 'tmfly': 697,\n",
       " 'evaluating': 698,\n",
       " 'oggy': 699,\n",
       " 'planus': 700,\n",
       " 'davies’s': 701,\n",
       " 'r&aw': 702,\n",
       " 'businessesstartups': 703,\n",
       " 'categorizing': 704,\n",
       " 'mixture': 705,\n",
       " 'subtraction': 706,\n",
       " 'internmatchcom': 707,\n",
       " 'intellectuals': 708,\n",
       " 'spends': 709,\n",
       " 'pondicherry': 710,\n",
       " 'tiresome': 711,\n",
       " 'bugzilla': 712,\n",
       " 'spicy': 713,\n",
       " 'winded': 714,\n",
       " 'clitoris': 715,\n",
       " 'ufo': 716,\n",
       " 'insist': 717,\n",
       " 'completely': 718,\n",
       " 'sopranos': 719,\n",
       " 'mesopotamia': 720,\n",
       " 'latasya': 721,\n",
       " 'opportunistic': 722,\n",
       " 'vacations': 723,\n",
       " 'cepa': 724,\n",
       " 'joint': 725,\n",
       " 'turbo': 726,\n",
       " 'testabliss': 727,\n",
       " 'kalams': 728,\n",
       " 'flight': 729,\n",
       " 'dragging': 730,\n",
       " 'conroy': 731,\n",
       " 'commercefield': 732,\n",
       " 'intimations': 733,\n",
       " 'karavaev': 734,\n",
       " 'tactless': 735,\n",
       " 'seeking': 736,\n",
       " 'shelby': 737,\n",
       " 'narasimha': 738,\n",
       " 'attempting': 739,\n",
       " 'ufos': 740,\n",
       " 'songsmusic': 741,\n",
       " 'interrupted': 742,\n",
       " 'steptophyta': 743,\n",
       " 'lompoc': 744,\n",
       " 'myasthenia': 745,\n",
       " 'provoking': 746,\n",
       " 'gangotri': 747,\n",
       " 'nonmarket': 748,\n",
       " 'endemic': 749,\n",
       " 'newbie': 750,\n",
       " 'vfork': 751,\n",
       " 'heroincocaine': 752,\n",
       " 'goog': 753,\n",
       " 'central': 754,\n",
       " 'hl': 755,\n",
       " 'trilogy': 756,\n",
       " 'engineeringdev': 757,\n",
       " 'clonazepam': 758,\n",
       " 'decathlon': 759,\n",
       " 'drawn': 760,\n",
       " 'canfy': 761,\n",
       " 'bunking': 762,\n",
       " 'begun': 763,\n",
       " 'sulawesi': 764,\n",
       " 'cape': 765,\n",
       " 'calamansi': 766,\n",
       " 'furniture': 767,\n",
       " 'paul': 768,\n",
       " 'shillong': 769,\n",
       " 'cynical': 770,\n",
       " 'ruler': 771,\n",
       " 'jog': 772,\n",
       " 'lts': 773,\n",
       " 'evenings': 774,\n",
       " 'cracking': 775,\n",
       " 'brunei': 776,\n",
       " 'cherubim': 777,\n",
       " 'supreme': 778,\n",
       " 'ideology': 779,\n",
       " 'openly': 780,\n",
       " 'transport': 781,\n",
       " '=pq': 782,\n",
       " 'soccerfootball': 783,\n",
       " 'imperialist': 784,\n",
       " 'franciscos': 785,\n",
       " 'gal': 786,\n",
       " 'road': 787,\n",
       " 'ndes': 788,\n",
       " 'catalytic': 789,\n",
       " 'control:': 790,\n",
       " 'federation': 791,\n",
       " 'preemphasis': 792,\n",
       " 'specter': 793,\n",
       " 'idiom': 794,\n",
       " 'igf': 795,\n",
       " 'zooqlecom': 796,\n",
       " 'adiabatic': 797,\n",
       " 'malayalis': 798,\n",
       " 'ledger': 799,\n",
       " 'charlie': 800,\n",
       " 'gaddar': 801,\n",
       " 'caia': 802,\n",
       " 'pogchamp': 803,\n",
       " 'plywood': 804,\n",
       " 'healthstream': 805,\n",
       " 'soundcloud': 806,\n",
       " 'sathya': 807,\n",
       " 'asantes': 808,\n",
       " 'staten': 809,\n",
       " 'weightmuscle': 810,\n",
       " 'zane': 811,\n",
       " '”uncollapse”': 812,\n",
       " 'chữ': 813,\n",
       " 'formerly': 814,\n",
       " 'jvoicexml': 815,\n",
       " 'shirley': 816,\n",
       " 'tera': 817,\n",
       " 'rsus': 818,\n",
       " 'math\\\\cos\\\\alpha': 819,\n",
       " 'freehostingcom': 820,\n",
       " 'sponsorship': 821,\n",
       " 'obediently': 822,\n",
       " 'knees': 823,\n",
       " 'trimmer': 824,\n",
       " 'curves': 825,\n",
       " 'thompson': 826,\n",
       " 'onenight': 827,\n",
       " 'freeopen': 828,\n",
       " 'inferiors': 829,\n",
       " 'gilligans': 830,\n",
       " 'bulging': 831,\n",
       " 'radcliff': 832,\n",
       " 'sutter': 833,\n",
       " 'numerical': 834,\n",
       " 'logins:': 835,\n",
       " 'proclaiming': 836,\n",
       " 'wings': 837,\n",
       " 'payoda': 838,\n",
       " 'ducit': 839,\n",
       " 'turtles': 840,\n",
       " 'alcatel': 841,\n",
       " 'monocoque': 842,\n",
       " 'depp': 843,\n",
       " 'cu': 844,\n",
       " 'tïesto': 845,\n",
       " 'lateral': 846,\n",
       " 'fipb': 847,\n",
       " 'ia': 848,\n",
       " 'ayam': 849,\n",
       " 'cif': 850,\n",
       " 'cooking': 851,\n",
       " 'one': 852,\n",
       " 'solving': 853,\n",
       " 'joaquin': 854,\n",
       " 'tanksspgs': 855,\n",
       " 'toefl': 856,\n",
       " 'cocroaches': 857,\n",
       " 'subminals': 858,\n",
       " 'abstaining': 859,\n",
       " 'evaporation': 860,\n",
       " 'evenpolicy': 861,\n",
       " 'jock': 862,\n",
       " 'minoxidil': 863,\n",
       " 'anarchist': 864,\n",
       " 'yd+': 865,\n",
       " 'enemy': 866,\n",
       " 'massacres': 867,\n",
       " 'prannay': 868,\n",
       " 'darkvacuum': 869,\n",
       " 'simplicity:': 870,\n",
       " 'praising': 871,\n",
       " 'businessmarketing': 872,\n",
       " 'convincing': 873,\n",
       " 'savage': 874,\n",
       " 'utnapishtim': 875,\n",
       " 'replaces': 876,\n",
       " 'clips': 877,\n",
       " 'collegesuniversities': 878,\n",
       " 'engagedwhat': 879,\n",
       " 'costbenefit': 880,\n",
       " 'stinson': 881,\n",
       " 'diesel': 882,\n",
       " 'vas': 883,\n",
       " 'occured': 884,\n",
       " 'asteriods': 885,\n",
       " 'happens': 886,\n",
       " 'agape': 887,\n",
       " 'radioheads': 888,\n",
       " 'refrence': 889,\n",
       " 'wistful': 890,\n",
       " 'fax': 891,\n",
       " 'areata': 892,\n",
       " 'lengthy': 893,\n",
       " 'expansion…': 894,\n",
       " 'quarts': 895,\n",
       " 'grammarly': 896,\n",
       " 'simlink': 897,\n",
       " 'abort': 898,\n",
       " 'tops': 899,\n",
       " 'vahan': 900,\n",
       " 'serversent': 901,\n",
       " 'middistance': 902,\n",
       " 'nests': 903,\n",
       " 'rhythmic': 904,\n",
       " 'socials': 905,\n",
       " 'havingowning': 906,\n",
       " '学校の運動会': 907,\n",
       " 'zomato': 908,\n",
       " 'todd': 909,\n",
       " 'module': 910,\n",
       " 'herzegovina': 911,\n",
       " 'using': 912,\n",
       " 'coloring': 913,\n",
       " 'hanover': 914,\n",
       " 'नाम': 915,\n",
       " 'hydrants': 916,\n",
       " 'devovi': 917,\n",
       " 'maths:': 918,\n",
       " 'mci': 919,\n",
       " 'historical': 920,\n",
       " 'slanting': 921,\n",
       " 'nickel': 922,\n",
       " 'benzoate': 923,\n",
       " 'plastering': 924,\n",
       " 'keepsafe': 925,\n",
       " 'january': 926,\n",
       " 'split': 927,\n",
       " 'reversed': 928,\n",
       " 'course': 929,\n",
       " 'ruining': 930,\n",
       " 'grains': 931,\n",
       " 'firearms': 932,\n",
       " 'hadron': 933,\n",
       " 'strapon': 934,\n",
       " 'noodles': 935,\n",
       " 'iitnitany': 936,\n",
       " 'endangered': 937,\n",
       " 'ruined': 938,\n",
       " 'tinyletter:': 939,\n",
       " 'bathing': 940,\n",
       " 'router:': 941,\n",
       " 'vodka': 942,\n",
       " 'umami': 943,\n",
       " 'purity': 944,\n",
       " '=pi': 945,\n",
       " 'selfrighteous': 946,\n",
       " 'puffing': 947,\n",
       " 'babysitting': 948,\n",
       " 'fanart': 949,\n",
       " 'tutor': 950,\n",
       " 'reds': 951,\n",
       " 'hormones': 952,\n",
       " 'herbivores': 953,\n",
       " 'plaement': 954,\n",
       " 'lasat': 955,\n",
       " 'neither': 956,\n",
       " 'mcat': 957,\n",
       " 'tulips': 958,\n",
       " 'nearly': 959,\n",
       " 'conception': 960,\n",
       " 'powerlifter': 961,\n",
       " '“average': 962,\n",
       " 'eachother': 963,\n",
       " 'overlead': 964,\n",
       " 'harassed': 965,\n",
       " 'neapolitan': 966,\n",
       " 'moula': 967,\n",
       " 'tires:': 968,\n",
       " 'ghosts': 969,\n",
       " 'jayalalithas': 970,\n",
       " 'wildly': 971,\n",
       " 'unsureness': 972,\n",
       " 'me;': 973,\n",
       " 'broth;': 974,\n",
       " 'chick': 975,\n",
       " 'cat%': 976,\n",
       " 'jewelley': 977,\n",
       " 'edutech': 978,\n",
       " 'sugars': 979,\n",
       " 'xtype': 980,\n",
       " 'villainous': 981,\n",
       " 'pedophilia”': 982,\n",
       " 'paracetamol': 983,\n",
       " 'spires': 984,\n",
       " 'sbi:': 985,\n",
       " 'pkcs': 986,\n",
       " 'loophole': 987,\n",
       " 'afroamericans': 988,\n",
       " 'nivea': 989,\n",
       " 'care': 990,\n",
       " 'kasparov': 991,\n",
       " 'resonate': 992,\n",
       " 'fancies': 993,\n",
       " 'surfthechannelcom': 994,\n",
       " 'pushoverwimp': 995,\n",
       " 'colliding': 996,\n",
       " 'mcgregor': 997,\n",
       " 'neighborhood': 998,\n",
       " 'gainers': 999,\n",
       " ...}"
      ]
     },
     "execution_count": 38,
     "metadata": {},
     "output_type": "execute_result"
    }
   ],
   "source": [
    "X_train_vocab"
   ]
  },
  {
   "cell_type": "code",
   "execution_count": 39,
   "id": "bb8e5723-ac24-4c58-858d-d166a29fdae4",
   "metadata": {},
   "outputs": [],
   "source": [
    "X_train_anchor_padded_doc= tokenizer_padding(X_train.q1_preprocessed, max_len=max_length, vocabulary=X_train_vocab)\n",
    "X_val_anchor_padded_doc = tokenizer_padding(X_val.q1_preprocessed, max_len=max_length, vocabulary=X_train_vocab)\n",
    "X_test_anchor_padded_doc = tokenizer_padding(X_test.q1_preprocessed, max_len=max_length, vocabulary=X_train_vocab)\n",
    "\n",
    "X_train_comparison_padded_doc= tokenizer_padding(X_train.q2_preprocessed, max_len=max_length, vocabulary=X_train_vocab)\n",
    "X_val_comparison_padded_doc = tokenizer_padding(X_val.q2_preprocessed, max_len=max_length, vocabulary=X_train_vocab)\n",
    "X_test_comparison_padded_doc = tokenizer_padding(X_test.q2_preprocessed, max_len=max_length, vocabulary=X_train_vocab)"
   ]
  },
  {
   "cell_type": "markdown",
   "id": "d6e73bd8-dcf8-425d-9c4d-d8dc56f98ca6",
   "metadata": {},
   "source": [
    "### Validating data sequence and pairs"
   ]
  },
  {
   "cell_type": "code",
   "execution_count": 40,
   "id": "e0f5cee5-3891-42d6-a165-e6a6e5192259",
   "metadata": {},
   "outputs": [
    {
     "data": {
      "text/plain": [
       "array([[    0,     0,     0,     0,     0,     0,     0,     0,     0,\n",
       "            0,     0,     0,     0,     0,     0,     0,     0,     0,\n",
       "            0,     0,     0,     0,     0,     0,     0,     0,     0,\n",
       "            0,     0,     0,     0,     0,     0,     0,     0,     0,\n",
       "            0,     0,     0, 35018, 16876, 26112, 11053, 29960, 17612,\n",
       "        17350, 20678,  1969, 36037, 14585]])"
      ]
     },
     "execution_count": 40,
     "metadata": {},
     "output_type": "execute_result"
    }
   ],
   "source": [
    "X_train_anchor_padded_doc[:1]"
   ]
  },
  {
   "cell_type": "code",
   "execution_count": 41,
   "id": "ecdadd1d-666e-4320-8055-cb2ddd8b10d2",
   "metadata": {},
   "outputs": [
    {
     "data": {
      "text/plain": [
       "array([[    0,     0,     0,     0,     0,     0,     0,     0,     0,\n",
       "            0,     0,     0,     0,     0,     0,     0,     0,     0,\n",
       "            0,     0,     0,     0,     0,     0,     0,     0,     0,\n",
       "            0,     0,     0,     0,     0, 35018, 16876, 26112, 11053,\n",
       "        29960, 36037, 14585, 17612, 17350,  6273, 45468, 39440, 20678,\n",
       "        39440, 23209, 44512, 41563, 32823]])"
      ]
     },
     "execution_count": 41,
     "metadata": {},
     "output_type": "execute_result"
    }
   ],
   "source": [
    "X_train_comparison_padded_doc[:1]"
   ]
  },
  {
   "cell_type": "code",
   "execution_count": 42,
   "id": "2c41ab3a-e268-4e16-9f79-31eeddef89a9",
   "metadata": {},
   "outputs": [
    {
     "data": {
      "text/plain": [
       "id                                                           24603.0\n",
       "q1_preprocessed       what does it mean when a girl says why you ask\n",
       "q2_preprocessed    what does it mean when you ask a girl out and ...\n",
       "Name: 0, dtype: object"
      ]
     },
     "execution_count": 42,
     "metadata": {},
     "output_type": "execute_result"
    }
   ],
   "source": [
    "X_train.iloc[0,:]"
   ]
  },
  {
   "cell_type": "code",
   "execution_count": 43,
   "id": "d8b8374c-28c2-4fd9-b7f2-b4a740f807e0",
   "metadata": {},
   "outputs": [
    {
     "data": {
      "text/plain": [
       "'what does it mean when a girl says why you ask'"
      ]
     },
     "execution_count": 43,
     "metadata": {},
     "output_type": "execute_result"
    }
   ],
   "source": [
    "X_train.iloc[0,:]['q1_preprocessed']"
   ]
  },
  {
   "cell_type": "code",
   "execution_count": 44,
   "id": "8b2ebe85-6afd-4a94-859b-6f77f7647e5e",
   "metadata": {},
   "outputs": [
    {
     "data": {
      "text/plain": [
       "'what does it mean when you ask a girl out and she says she is talking to someone'"
      ]
     },
     "execution_count": 44,
     "metadata": {},
     "output_type": "execute_result"
    }
   ],
   "source": [
    "X_train.iloc[0,:]['q2_preprocessed']"
   ]
  },
  {
   "cell_type": "code",
   "execution_count": 45,
   "id": "1562bfce-d5cd-41da-b1f8-1d867f873b99",
   "metadata": {},
   "outputs": [],
   "source": [
    "a = tokenizer_padding([X_train.iloc[0,:]['q1_preprocessed']], max_len=max_length, vocabulary=X_train_vocab)\n",
    "b = tokenizer_padding([X_train.iloc[0,:]['q2_preprocessed']], max_len=max_length, vocabulary=X_train_vocab)"
   ]
  },
  {
   "cell_type": "code",
   "execution_count": 46,
   "id": "e4343024-3b56-4e30-8964-53c82d5da111",
   "metadata": {},
   "outputs": [
    {
     "data": {
      "text/plain": [
       "array([[    0,     0,     0,     0,     0,     0,     0,     0,     0,\n",
       "            0,     0,     0,     0,     0,     0,     0,     0,     0,\n",
       "            0,     0,     0,     0,     0,     0,     0,     0,     0,\n",
       "            0,     0,     0,     0,     0,     0,     0,     0,     0,\n",
       "            0,     0,     0, 35018, 16876, 26112, 11053, 29960, 17612,\n",
       "        17350, 20678,  1969, 36037, 14585]])"
      ]
     },
     "execution_count": 46,
     "metadata": {},
     "output_type": "execute_result"
    }
   ],
   "source": [
    "a"
   ]
  },
  {
   "cell_type": "code",
   "execution_count": 47,
   "id": "d2a82d43-0749-4b61-8b35-f864f2dd5905",
   "metadata": {},
   "outputs": [
    {
     "data": {
      "text/plain": [
       "array([[    0,     0,     0,     0,     0,     0,     0,     0,     0,\n",
       "            0,     0,     0,     0,     0,     0,     0,     0,     0,\n",
       "            0,     0,     0,     0,     0,     0,     0,     0,     0,\n",
       "            0,     0,     0,     0,     0, 35018, 16876, 26112, 11053,\n",
       "        29960, 36037, 14585, 17612, 17350,  6273, 45468, 39440, 20678,\n",
       "        39440, 23209, 44512, 41563, 32823]])"
      ]
     },
     "execution_count": 47,
     "metadata": {},
     "output_type": "execute_result"
    }
   ],
   "source": [
    "b"
   ]
  },
  {
   "cell_type": "code",
   "execution_count": 48,
   "id": "f661d8b2-9c28-436a-bdff-f476c6c743f0",
   "metadata": {},
   "outputs": [
    {
     "data": {
      "text/plain": [
       "-1.0"
      ]
     },
     "execution_count": 48,
     "metadata": {},
     "output_type": "execute_result"
    }
   ],
   "source": [
    "y_train[0]"
   ]
  },
  {
   "cell_type": "code",
   "execution_count": 49,
   "id": "56c647d6-a9fb-4756-917f-8273f07758c5",
   "metadata": {},
   "outputs": [
    {
     "data": {
      "text/html": [
       "<div>\n",
       "<style scoped>\n",
       "    .dataframe tbody tr th:only-of-type {\n",
       "        vertical-align: middle;\n",
       "    }\n",
       "\n",
       "    .dataframe tbody tr th {\n",
       "        vertical-align: top;\n",
       "    }\n",
       "\n",
       "    .dataframe thead th {\n",
       "        text-align: right;\n",
       "    }\n",
       "</style>\n",
       "<table border=\"1\" class=\"dataframe\">\n",
       "  <thead>\n",
       "    <tr style=\"text-align: right;\">\n",
       "      <th></th>\n",
       "      <th>id</th>\n",
       "      <th>qid1</th>\n",
       "      <th>qid2</th>\n",
       "      <th>question1</th>\n",
       "      <th>question2</th>\n",
       "      <th>is_duplicate</th>\n",
       "    </tr>\n",
       "  </thead>\n",
       "  <tbody>\n",
       "  </tbody>\n",
       "</table>\n",
       "</div>"
      ],
      "text/plain": [
       "Empty DataFrame\n",
       "Columns: [id, qid1, qid2, question1, question2, is_duplicate]\n",
       "Index: []"
      ]
     },
     "execution_count": 49,
     "metadata": {},
     "output_type": "execute_result"
    }
   ],
   "source": [
    "df[df.id==386274]"
   ]
  },
  {
   "cell_type": "markdown",
   "id": "206e7598-9dbf-4125-afc0-ff423af880fd",
   "metadata": {},
   "source": [
    "## Preparing data for training"
   ]
  },
  {
   "cell_type": "code",
   "execution_count": 50,
   "id": "89e901cc-4ec9-4713-b97c-3666318c5031",
   "metadata": {},
   "outputs": [],
   "source": [
    "# Convert list to tensors\n",
    "train_X_anchor = torch.tensor(X_train_anchor_padded_doc)\n",
    "train_X_comparison = torch.tensor(X_train_comparison_padded_doc)\n",
    "train_y = torch.tensor(y_train.astype(float))\n",
    "\n",
    "test_X_anchor = torch.tensor(X_test_anchor_padded_doc)\n",
    "test_X_comparison = torch.tensor(X_test_comparison_padded_doc)\n",
    "test_y = torch.tensor(y_test.astype(float))\n",
    "\n",
    "val_X_anchor = torch.tensor(X_val_anchor_padded_doc)\n",
    "val_X_comparison = torch.tensor(X_val_comparison_padded_doc)\n",
    "val_y = torch.tensor(y_val.astype(float))"
   ]
  },
  {
   "cell_type": "code",
   "execution_count": 51,
   "id": "5f702a50-5879-4023-b80d-1a6a04006ab8",
   "metadata": {},
   "outputs": [],
   "source": [
    "# Define batch size\n",
    "batch_size = 64\n",
    "\n",
    "# FOR TRAINING\n",
    "# Wrap tensors\n",
    "train_data = TensorDataset(train_X_anchor, train_X_comparison, train_y)\n",
    "\n",
    "# Sampler for sampling the data during training\n",
    "train_sampler = RandomSampler(train_data)\n",
    "\n",
    "# Dataloader for train set\n",
    "train_dataloader = DataLoader(train_data, sampler=train_sampler, batch_size=batch_size)\n",
    "\n",
    "\n",
    "\n",
    "# FOR VALIDATING\n",
    "# Wrap tensors\n",
    "val_data = TensorDataset(val_X_anchor, val_X_comparison, val_y)\n",
    "\n",
    "# Sampler for sampling the data during validation for training\n",
    "val_sampler = SequentialSampler(val_data)\n",
    "\n",
    "# Dataloader for val set\n",
    "val_dataloader = DataLoader(val_data, sampler=val_sampler, batch_size=batch_size)"
   ]
  },
  {
   "cell_type": "markdown",
   "id": "8e7b1cb6-c9f8-4b08-a0f7-dfd89b21d529",
   "metadata": {},
   "source": [
    "## Modeling without class balancing?"
   ]
  },
  {
   "cell_type": "code",
   "execution_count": 52,
   "id": "44809e9d-8b45-4335-ba38-9728abce95f4",
   "metadata": {},
   "outputs": [],
   "source": [
    "w2v_model = gensim.models.KeyedVectors.load_word2vec_format('..\\..\\..\\Pre-Trained Models\\word2vec\\GoogleNews-vectors-negative300.bin.gz', binary=True)"
   ]
  },
  {
   "cell_type": "code",
   "execution_count": 53,
   "id": "9b8ad58c-7abc-4243-bc4e-ce6cc609ae55",
   "metadata": {},
   "outputs": [
    {
     "data": {
      "text/plain": [
       "(46752, 300)"
      ]
     },
     "execution_count": 53,
     "metadata": {},
     "output_type": "execute_result"
    }
   ],
   "source": [
    "# Getting embedding matrix for pre-trained Word2Vec model\n",
    "embeddings_index = dict()\n",
    "\n",
    "# We will populate the embeddings_index dictionary with all the key<->vector pairs in the Word2Vec model\n",
    "for line in range(len(w2v_model.index_to_key)):\n",
    "    embeddings_index[w2v_model.index_to_key[line]] = w2v_model.get_vector(w2v_model.index_to_key[line])\n",
    "    \n",
    "# Create a weight matrix for words in training docs\n",
    "embedding_matrix = np.zeros((X_train_vocab_size, 300)) # Change X_train_vocab_size\n",
    "for word, i in X_train_vocab.items():\n",
    "    embedding_vector = embeddings_index.get(word)\n",
    "    if embedding_vector is not None:\n",
    "        embedding_matrix[i] = embedding_vector\n",
    "        \n",
    "embedding_matrix.shape"
   ]
  },
  {
   "cell_type": "code",
   "execution_count": 54,
   "id": "94e12c2f-a438-4000-9d75-64aa93f574ad",
   "metadata": {},
   "outputs": [
    {
     "data": {
      "text/plain": [
       "46752"
      ]
     },
     "execution_count": 54,
     "metadata": {},
     "output_type": "execute_result"
    }
   ],
   "source": [
    "X_train_vocab_size"
   ]
  },
  {
   "cell_type": "markdown",
   "id": "11f340e3-7d7f-49bc-abda-131f19872c9d",
   "metadata": {},
   "source": [
    "## Defining model"
   ]
  },
  {
   "cell_type": "code",
   "execution_count": 55,
   "id": "8b7edc8a-1c68-47d1-b2d1-4a34a4aa6d06",
   "metadata": {},
   "outputs": [],
   "source": [
    "# Defining parameters for modeling\n",
    "max_length = seq_len = n_units = 50"
   ]
  },
  {
   "cell_type": "code",
   "execution_count": 56,
   "id": "a697ae1c-9fc0-483a-b4cc-b3a61b907db9",
   "metadata": {},
   "outputs": [
    {
     "data": {
      "text/plain": [
       "(46752, 300)"
      ]
     },
     "execution_count": 56,
     "metadata": {},
     "output_type": "execute_result"
    }
   ],
   "source": [
    "embedding_matrix.shape"
   ]
  },
  {
   "cell_type": "code",
   "execution_count": 57,
   "id": "71e10d6b-279d-44ce-a49e-4efb9af173f2",
   "metadata": {},
   "outputs": [
    {
     "name": "stderr",
     "output_type": "stream",
     "text": [
      "C:\\Users\\solom\\.conda\\envs\\nlp\\lib\\site-packages\\torch\\nn\\modules\\rnn.py:67: UserWarning: dropout option adds dropout after all but last recurrent layer, so non-zero dropout expects num_layers greater than 1, but got dropout=0.3 and num_layers=1\n",
      "  warnings.warn(\"dropout option adds dropout after all but last \"\n"
     ]
    }
   ],
   "source": [
    "encoder = Encoder(input_size=X_train_vocab_size,\n",
    "                  embedding_size=embedding_matrix.shape[1], \n",
    "                  embedding_matrix=embedding_matrix, \n",
    "                  hidden_size=300, \n",
    "                  num_layers=1, \n",
    "                  dropout=0.3,\n",
    "                  batch_size=batch_size)"
   ]
  },
  {
   "cell_type": "code",
   "execution_count": 58,
   "id": "14458d9e-6d28-40e9-8164-e1c08647d7fd",
   "metadata": {},
   "outputs": [],
   "source": [
    "model = SiameseNetwork(encoder=encoder)"
   ]
  },
  {
   "cell_type": "code",
   "execution_count": 59,
   "id": "5df455a4-2aa1-4a11-976f-f62889ccb5e4",
   "metadata": {},
   "outputs": [
    {
     "name": "stdout",
     "output_type": "stream",
     "text": [
      "SiameseNetwork(\n",
      "  (encoder): Encoder(\n",
      "    (dropout): Dropout(p=0.3, inplace=False)\n",
      "    (embedding): Embedding(46752, 300, padding_idx=0)\n",
      "    (lstm): LSTM(300, 300, batch_first=True, dropout=0.3, bidirectional=True)\n",
      "  )\n",
      ")\n"
     ]
    }
   ],
   "source": [
    "print (model)"
   ]
  },
  {
   "cell_type": "code",
   "execution_count": 60,
   "id": "6de51966-f3e0-4d26-a491-92a50ac01d59",
   "metadata": {},
   "outputs": [],
   "source": [
    "model = model.to(device)"
   ]
  },
  {
   "cell_type": "code",
   "execution_count": 61,
   "id": "7755502c-5bb1-4324-847a-12e22a422474",
   "metadata": {},
   "outputs": [],
   "source": [
    "from torch.optim import AdamW\n",
    "\n",
    "# Define optimiser\n",
    "optimizer = AdamW(model.parameters(), lr=1e-3)"
   ]
  },
  {
   "cell_type": "code",
   "execution_count": 62,
   "id": "3f5996bc-6e69-4553-978b-254b880946a0",
   "metadata": {},
   "outputs": [
    {
     "data": {
      "text/plain": [
       "-1.0    50197\n",
       " 1.0    29803\n",
       "Name: is_duplicate, dtype: int64"
      ]
     },
     "execution_count": 62,
     "metadata": {},
     "output_type": "execute_result"
    }
   ],
   "source": [
    "y_train.value_counts()"
   ]
  },
  {
   "cell_type": "code",
   "execution_count": 63,
   "id": "21b856e2-6e96-4881-9b9f-e4ebccb516a3",
   "metadata": {},
   "outputs": [],
   "source": [
    "# Define loss function\n",
    "cross_entropy = nn.CosineEmbeddingLoss()\n",
    "\n",
    "# No of training epochs\n",
    "epochs = 20"
   ]
  },
  {
   "cell_type": "markdown",
   "id": "120f86bc-0865-405d-b731-c0bd97bfda4c",
   "metadata": {},
   "source": [
    "## Define Training & Evaluation Functions"
   ]
  },
  {
   "cell_type": "code",
   "execution_count": 64,
   "id": "5335f967-58f1-4c7c-b6cb-6006a810d536",
   "metadata": {},
   "outputs": [],
   "source": [
    "def train():\n",
    "    model.train()\n",
    "    \n",
    "    total_loss, total_accuracy = 0, 0\n",
    "    \n",
    "    # Empty list to save model predictions\n",
    "    total_preds = []\n",
    "    \n",
    "    # Iterate over batches\n",
    "    for step, batch in enumerate(train_dataloader):\n",
    "        # Progress update for every 50 batches\n",
    "        if step%50==0 and not step==0:\n",
    "            print ('Batch {:>5,} of {:>5,}.'.format(step, len(train_dataloader)))\n",
    "\n",
    "        # Push batch to GPU\n",
    "        batch = [r.to(device) for r in batch]\n",
    "        anchor_sent, comparison_sent, labels = batch\n",
    "\n",
    "        # Clear previously calculated gradients\n",
    "        model.zero_grad()\n",
    "\n",
    "        # Get model predictions for the current batch\n",
    "        anchor, comparison = model(anchor_sent, comparison_sent)\n",
    "\n",
    "        # Compute loss between actual and predicted values\n",
    "        loss = cross_entropy(anchor, comparison, labels)\n",
    "\n",
    "        # Add on to the total loss\n",
    "        total_loss = total_loss + loss.item()\n",
    "\n",
    "        # Backward pass to calculate gradients\n",
    "        loss.backward()\n",
    "\n",
    "        # Clip gradients to 1.0. It helps in preventing exploding gradient problem\n",
    "        torch.nn.utils.clip_grad_norm(model.parameters(), 1.0)\n",
    "\n",
    "        # Update parameters\n",
    "        optimizer.step()\n",
    "\n",
    "    # Compute training loss of the epoch\n",
    "    avg_loss = total_loss / len(train_dataloader)\n",
    "\n",
    "    return avg_loss"
   ]
  },
  {
   "cell_type": "code",
   "execution_count": 65,
   "id": "e427105c-c0d4-453a-afb5-a216a290789f",
   "metadata": {},
   "outputs": [],
   "source": [
    "def evaluate():\n",
    "    print ('\\nEvaluating...')\n",
    "    \n",
    "    # Deactivate dropout layers\n",
    "    model.eval()\n",
    "    \n",
    "    total_loss, total_accuracy = 0, 0\n",
    "    \n",
    "    # Empty list to save model predictions\n",
    "    total_preds = []\n",
    "    \n",
    "    # Iterate over batches\n",
    "    for step, batch in enumerate(val_dataloader):\n",
    "        # Progress update for every 50 batches\n",
    "        if step%50==0 and not step==0:\n",
    "            print ('Batch {:>5,} of {:>5,}.'.format(step, len(val_dataloader)))\n",
    "\n",
    "        # Push batch to GPU\n",
    "        batch = [t.to(device) for t in batch]\n",
    "        anchor_sent, comparison_sent, labels = batch\n",
    "\n",
    "        # Deactivate autograd()\n",
    "        with torch.no_grad():\n",
    "\n",
    "            # Model predictions\n",
    "            anchor, comparison = model(anchor_sent, comparison_sent)\n",
    "\n",
    "            # Compute the validation loss between actual and predicted values\n",
    "            loss = cross_entropy(anchor, comparison, labels)\n",
    "\n",
    "            total_loss = total_loss + loss.item()\n",
    "\n",
    "    # Compute the validation loss of the epoch\n",
    "    avg_loss = total_loss / len(val_dataloader)\n",
    "\n",
    "    return avg_loss"
   ]
  },
  {
   "cell_type": "markdown",
   "id": "39c32aba-e27d-4e1e-bf44-c5c84b631779",
   "metadata": {},
   "source": [
    "## Iterate through training loop"
   ]
  },
  {
   "cell_type": "code",
   "execution_count": null,
   "id": "f416d8ca-97f6-4ce9-865a-5fcd8af8c9d4",
   "metadata": {
    "scrolled": true,
    "tags": []
   },
   "outputs": [],
   "source": [
    "# Set initial loss to infinite\n",
    "best_valid_loss = float('inf')\n",
    "\n",
    "# Empty lists to store training and validation loss of each epoch\n",
    "train_losses = []\n",
    "valid_losses = []\n",
    "\n",
    "# For each epoch\n",
    "for epoch in range(epochs):\n",
    "    print ('\\nEpoch {:}/ {:}'.format(epoch+1, epochs))\n",
    "    \n",
    "    # Train model\n",
    "    train_loss = train()\n",
    "    \n",
    "    # Evaluate model\n",
    "    valid_loss = evaluate()\n",
    "    \n",
    "    # Save the best model\n",
    "    if valid_loss<best_valid_loss:\n",
    "        best_valid_loss = valid_loss\n",
    "        torch.save(model.state_dict(), 'saved_model_weights/pytorch_siamese_network.pt')\n",
    "        \n",
    "    train_losses.append(train_loss)\n",
    "    valid_losses.append(valid_loss)\n",
    "    \n",
    "    print (f\"\\nTraining Loss: {train_loss:.5f}\")\n",
    "    print (f\"Validation Loss: {valid_loss:.5f}\")"
   ]
  },
  {
   "cell_type": "markdown",
   "id": "6b496953-263f-49c8-8d0a-9cfd8751b8a5",
   "metadata": {},
   "source": [
    "## Visualise training and validation loss"
   ]
  },
  {
   "cell_type": "code",
   "execution_count": 67,
   "id": "dba1a685-bfe1-49ca-9d8f-30ffef744a92",
   "metadata": {},
   "outputs": [
    {
     "data": {
      "text/plain": [
       "[<matplotlib.lines.Line2D at 0x194e6e01780>,\n",
       " <matplotlib.lines.Line2D at 0x194e6e017b0>]"
      ]
     },
     "execution_count": 67,
     "metadata": {},
     "output_type": "execute_result"
    },
    {
     "data": {
      "image/png": "[encoded data removed]",
      "text/plain": [
       "<Figure size 640x480 with 1 Axes>"
      ]
     },
     "metadata": {},
     "output_type": "display_data"
    }
   ],
   "source": [
    "import matplotlib.pyplot as plt\n",
    "plt.plot(train_losses, 'g', valid_losses, 'r')"
   ]
  },
  {
   "cell_type": "markdown",
   "id": "e618a484-e3b9-4c6a-aad1-8ef9f2c0457a",
   "metadata": {},
   "source": [
    "## Model evaluation"
   ]
  },
  {
   "cell_type": "code",
   "execution_count": 68,
   "id": "2897c2ca-d76a-46f2-b38c-cc51344eca5e",
   "metadata": {},
   "outputs": [],
   "source": [
    "from sklearn.metrics import classification_report, roc_auc_score, accuracy_score"
   ]
  },
  {
   "cell_type": "code",
   "execution_count": 69,
   "id": "99351955-13d5-4ee7-ab6a-f4fc1950d935",
   "metadata": {},
   "outputs": [
    {
     "data": {
      "text/plain": [
       "<All keys matched successfully>"
      ]
     },
     "execution_count": 69,
     "metadata": {},
     "output_type": "execute_result"
    }
   ],
   "source": [
    "model_path = 'saved_model_weights/pytorch_siamese_network.pt'\n",
    "\n",
    "model.load_state_dict(torch.load(model_path))"
   ]
  },
  {
   "cell_type": "code",
   "execution_count": 70,
   "id": "92d0895f-c9d0-48ea-b764-4f04c4fc03dc",
   "metadata": {},
   "outputs": [],
   "source": [
    "final_encoder = model.encoder"
   ]
  },
  {
   "cell_type": "code",
   "execution_count": 71,
   "id": "96661063-7f94-4f6e-844b-b6bd5f004329",
   "metadata": {},
   "outputs": [
    {
     "name": "stdout",
     "output_type": "stream",
     "text": [
      "Encoder(\n",
      "  (dropout): Dropout(p=0.3, inplace=False)\n",
      "  (embedding): Embedding(46752, 300, padding_idx=0)\n",
      "  (lstm): LSTM(300, 300, batch_first=True, dropout=0.3, bidirectional=True)\n",
      ")\n"
     ]
    }
   ],
   "source": [
    "print (final_encoder)"
   ]
  },
  {
   "cell_type": "code",
   "execution_count": 72,
   "id": "9aceb87b-83dd-4d64-a74c-395fc2b1a3ea",
   "metadata": {},
   "outputs": [
    {
     "data": {
      "text/plain": [
       "0    1.0\n",
       "1   -1.0\n",
       "2   -1.0\n",
       "3    1.0\n",
       "4   -1.0\n",
       "Name: is_duplicate, dtype: float64"
      ]
     },
     "execution_count": 72,
     "metadata": {},
     "output_type": "execute_result"
    }
   ],
   "source": [
    "y_test.head()"
   ]
  },
  {
   "cell_type": "code",
   "execution_count": 73,
   "id": "3eeef7bc-295a-4149-8555-0cda0a8849c8",
   "metadata": {},
   "outputs": [
    {
     "data": {
      "text/html": [
       "<div>\n",
       "<style scoped>\n",
       "    .dataframe tbody tr th:only-of-type {\n",
       "        vertical-align: middle;\n",
       "    }\n",
       "\n",
       "    .dataframe tbody tr th {\n",
       "        vertical-align: top;\n",
       "    }\n",
       "\n",
       "    .dataframe thead th {\n",
       "        text-align: right;\n",
       "    }\n",
       "</style>\n",
       "<table border=\"1\" class=\"dataframe\">\n",
       "  <thead>\n",
       "    <tr style=\"text-align: right;\">\n",
       "      <th></th>\n",
       "      <th>id</th>\n",
       "      <th>q1_preprocessed</th>\n",
       "      <th>q2_preprocessed</th>\n",
       "    </tr>\n",
       "  </thead>\n",
       "  <tbody>\n",
       "    <tr>\n",
       "      <th>0</th>\n",
       "      <td>46109.0</td>\n",
       "      <td>how do i learn how to do kickboxing</td>\n",
       "      <td>how can i learn to do kickboxing</td>\n",
       "    </tr>\n",
       "    <tr>\n",
       "      <th>1</th>\n",
       "      <td>44931.0</td>\n",
       "      <td>why do helium gas balloons rise up in the air</td>\n",
       "      <td>why does a balloon rise and burst</td>\n",
       "    </tr>\n",
       "    <tr>\n",
       "      <th>2</th>\n",
       "      <td>14852.0</td>\n",
       "      <td>how do i transfer a pf account using uan</td>\n",
       "      <td>is there any way to use my old pf account</td>\n",
       "    </tr>\n",
       "    <tr>\n",
       "      <th>3</th>\n",
       "      <td>20409.0</td>\n",
       "      <td>what is the best beginner coding language</td>\n",
       "      <td>which coding language is best to start with</td>\n",
       "    </tr>\n",
       "    <tr>\n",
       "      <th>4</th>\n",
       "      <td>71814.0</td>\n",
       "      <td>people dont feel tipped sideways when they tra...</td>\n",
       "      <td>what is the best way to prove the things right...</td>\n",
       "    </tr>\n",
       "  </tbody>\n",
       "</table>\n",
       "</div>"
      ],
      "text/plain": [
       "        id                                    q1_preprocessed  \\\n",
       "0  46109.0                how do i learn how to do kickboxing   \n",
       "1  44931.0      why do helium gas balloons rise up in the air   \n",
       "2  14852.0           how do i transfer a pf account using uan   \n",
       "3  20409.0          what is the best beginner coding language   \n",
       "4  71814.0  people dont feel tipped sideways when they tra...   \n",
       "\n",
       "                                     q2_preprocessed  \n",
       "0                   how can i learn to do kickboxing  \n",
       "1                  why does a balloon rise and burst  \n",
       "2          is there any way to use my old pf account  \n",
       "3        which coding language is best to start with  \n",
       "4  what is the best way to prove the things right...  "
      ]
     },
     "execution_count": 73,
     "metadata": {},
     "output_type": "execute_result"
    }
   ],
   "source": [
    "X_test.head()"
   ]
  },
  {
   "cell_type": "code",
   "execution_count": 74,
   "id": "87c64313-44c2-4b90-88c1-9f56f77f7f4d",
   "metadata": {
    "scrolled": true,
    "tags": []
   },
   "outputs": [
    {
     "data": {
      "text/plain": [
       "tensor([[    0,     0,     0,     0,     0,     0,     0,     0,     0,     0,\n",
       "             0,     0,     0,     0,     0,     0,     0,     0,     0,     0,\n",
       "             0,     0,     0,     0,     0,     0,     0,     0,     0,     0,\n",
       "             0,     0,     0,     0,     0,     0,     0,     0,     0,     0,\n",
       "             0,     0, 42117, 13335,  4418, 22621, 42117, 41563, 13335, 27896],\n",
       "        [    0,     0,     0,     0,     0,     0,     0,     0,     0,     0,\n",
       "             0,     0,     0,     0,     0,     0,     0,     0,     0,     0,\n",
       "             0,     0,     0,     0,     0,     0,     0,     0,     0,     0,\n",
       "             0,     0,     0,     0,     0,     0,     0,     0,     0,     0,\n",
       "          1969, 13335, 43278, 45326, 25394, 13764, 21665, 39710, 14130, 33781],\n",
       "        [    0,     0,     0,     0,     0,     0,     0,     0,     0,     0,\n",
       "             0,     0,     0,     0,     0,     0,     0,     0,     0,     0,\n",
       "             0,     0,     0,     0,     0,     0,     0,     0,     0,     0,\n",
       "             0,     0,     0,     0,     0,     0,     0,     0,     0,     0,\n",
       "             0, 42117, 13335,  4418, 23367, 17612,  6951,  6769,   912, 22939],\n",
       "        [    0,     0,     0,     0,     0,     0,     0,     0,     0,     0,\n",
       "             0,     0,     0,     0,     0,     0,     0,     0,     0,     0,\n",
       "             0,     0,     0,     0,     0,     0,     0,     0,     0,     0,\n",
       "             0,     0,     0,     0,     0,     0,     0,     0,     0,     0,\n",
       "             0,     0,     0, 35018, 23209, 14130,  4166, 37190,  4324, 26505],\n",
       "        [    0,     0,     0,     0,     0,     0,     0,     0,     0,     0,\n",
       "             0,     0,     0,     0,     0,     0,     0,     0,     0,     0,\n",
       "             0,     0,     0,     0, 12724, 27548, 13496, 15219, 41497, 29960,\n",
       "          9886, 23635, 41563, 33913, 14130, 45622, 45468, 16901, 13335,  2355,\n",
       "         13496, 24757, 29000, 16876, 14851, 19794, 14130, 31428, 23209, 23869]],\n",
       "       dtype=torch.int32)"
      ]
     },
     "execution_count": 74,
     "metadata": {},
     "output_type": "execute_result"
    }
   ],
   "source": [
    "test_X_anchor[:5]"
   ]
  },
  {
   "cell_type": "code",
   "execution_count": 75,
   "id": "210887a4-4b45-40ff-a11e-b0d5ba76907f",
   "metadata": {
    "scrolled": true,
    "tags": []
   },
   "outputs": [
    {
     "data": {
      "text/plain": [
       "tensor([[    0,     0,     0,     0,     0,     0,     0,     0,     0,     0,\n",
       "             0,     0,     0,     0,     0,     0,     0,     0,     0,     0,\n",
       "             0,     0,     0,     0,     0,     0,     0,     0,     0,     0,\n",
       "             0,     0,     0,     0,     0,     0,     0,     0,     0,     0,\n",
       "             0,     0,     0, 42117,  9770,  4418, 22621, 41563, 13335, 27896],\n",
       "        [    0,     0,     0,     0,     0,     0,     0,     0,     0,     0,\n",
       "             0,     0,     0,     0,     0,     0,     0,     0,     0,     0,\n",
       "             0,     0,     0,     0,     0,     0,     0,     0,     0,     0,\n",
       "             0,     0,     0,     0,     0,     0,     0,     0,     0,     0,\n",
       "             0,     0,     0,  1969, 16876, 17612, 19471, 13764, 45468, 12596],\n",
       "        [    0,     0,     0,     0,     0,     0,     0,     0,     0,     0,\n",
       "             0,     0,     0,     0,     0,     0,     0,     0,     0,     0,\n",
       "             0,     0,     0,     0,     0,     0,     0,     0,     0,     0,\n",
       "             0,     0,     0,     0,     0,     0,     0,     0,     0,     0,\n",
       "         23209,  6779, 16613, 27592, 41563, 35341, 40805,  8461,  6951,  6769],\n",
       "        [    0,     0,     0,     0,     0,     0,     0,     0,     0,     0,\n",
       "             0,     0,     0,     0,     0,     0,     0,     0,     0,     0,\n",
       "             0,     0,     0,     0,     0,     0,     0,     0,     0,     0,\n",
       "             0,     0,     0,     0,     0,     0,     0,     0,     0,     0,\n",
       "             0,     0,  2232,  4324, 26505, 23209,  4166, 41563, 39198, 44749],\n",
       "        [    0,     0,     0,     0,     0,     0,     0,     0,     0,     0,\n",
       "             0,     0,     0,     0,     0,     0,     0,     0,     0,     0,\n",
       "             0,     0,     0, 35018, 23209, 14130,  4166, 27592, 41563, 19794,\n",
       "         14130, 40756,  9306, 29960, 36037, 26595, 14130, 37329, 37214, 29960,\n",
       "         36037, 27548, 38809, 46658, 38423, 41563, 16666, 14130, 14514, 12724]],\n",
       "       dtype=torch.int32)"
      ]
     },
     "execution_count": 75,
     "metadata": {},
     "output_type": "execute_result"
    }
   ],
   "source": [
    "test_X_comparison[:5]"
   ]
  },
  {
   "cell_type": "code",
   "execution_count": 76,
   "id": "ce4e02fd-72af-4333-931e-00ac3d36f3c6",
   "metadata": {},
   "outputs": [],
   "source": [
    "out_anchor = final_encoder(test_X_anchor[:2000].to(device))\n",
    "out_comparison = final_encoder(test_X_comparison[:2000].to(device))"
   ]
  },
  {
   "cell_type": "code",
   "execution_count": 77,
   "id": "1ade4788-24a6-4d37-bb7a-222c418366b1",
   "metadata": {},
   "outputs": [],
   "source": [
    "cos = nn.CosineSimilarity(dim=1)"
   ]
  },
  {
   "cell_type": "code",
   "execution_count": 78,
   "id": "8c69ae3f-c7ad-44f0-9378-2b7f3e458c7c",
   "metadata": {
    "scrolled": true,
    "tags": []
   },
   "outputs": [],
   "source": [
    "out = cos(out_anchor, out_comparison).detach().cpu().numpy()"
   ]
  },
  {
   "cell_type": "code",
   "execution_count": 79,
   "id": "9bbe5fa9-dc6c-4edc-b1a4-f8e2f271cdd5",
   "metadata": {
    "scrolled": true,
    "tags": []
   },
   "outputs": [
    {
     "data": {
      "text/plain": [
       "array([0.991859  , 0.11260891, 0.01252758, ..., 0.01186071, 0.01177577,\n",
       "       0.7641764 ], dtype=float32)"
      ]
     },
     "execution_count": 79,
     "metadata": {},
     "output_type": "execute_result"
    }
   ],
   "source": [
    "out"
   ]
  },
  {
   "cell_type": "code",
   "execution_count": 80,
   "id": "6cb65730-1946-4614-98f2-c0526abe3def",
   "metadata": {},
   "outputs": [],
   "source": [
    "out = (out>0.5).astype(int)"
   ]
  },
  {
   "cell_type": "code",
   "execution_count": 81,
   "id": "c6cb8ae9-829d-4141-921e-d10d99dadc0f",
   "metadata": {},
   "outputs": [],
   "source": [
    "check = np.array(y_test[:2000])"
   ]
  },
  {
   "cell_type": "code",
   "execution_count": 82,
   "id": "bed98bb8-6d25-4bb3-92f5-84555133f541",
   "metadata": {},
   "outputs": [],
   "source": [
    "check = (check==1).astype(int)"
   ]
  },
  {
   "cell_type": "code",
   "execution_count": 83,
   "id": "52a1a5fc-a513-4891-82b4-22bc39b1a049",
   "metadata": {
    "scrolled": true,
    "tags": []
   },
   "outputs": [
    {
     "data": {
      "text/plain": [
       "array([1, 0, 0, ..., 0, 0, 1])"
      ]
     },
     "execution_count": 83,
     "metadata": {},
     "output_type": "execute_result"
    }
   ],
   "source": [
    "out"
   ]
  },
  {
   "cell_type": "code",
   "execution_count": 84,
   "id": "820cb87d-b23e-4f41-8016-238a1cd16c94",
   "metadata": {
    "scrolled": true,
    "tags": []
   },
   "outputs": [
    {
     "data": {
      "text/plain": [
       "array([1, 0, 0, ..., 0, 0, 1])"
      ]
     },
     "execution_count": 84,
     "metadata": {},
     "output_type": "execute_result"
    }
   ],
   "source": [
    "check"
   ]
  },
  {
   "cell_type": "code",
   "execution_count": 85,
   "id": "2ef40cdd-6995-48d4-a13f-895e529a5aab",
   "metadata": {},
   "outputs": [
    {
     "data": {
      "text/plain": [
       "0.753"
      ]
     },
     "execution_count": 85,
     "metadata": {},
     "output_type": "execute_result"
    }
   ],
   "source": [
    "(out==check).sum()/len(check)"
   ]
  }
 ],
 "metadata": {
  "kernelspec": {
   "display_name": "nlp",
   "language": "python",
   "name": "nlp"
  },
  "language_info": {
   "codemirror_mode": {
    "name": "ipython",
    "version": 3
   },
   "file_extension": ".py",
   "mimetype": "text/x-python",
   "name": "python",
   "nbconvert_exporter": "python",
   "pygments_lexer": "ipython3",
   "version": "3.10.9"
  }
 },
 "nbformat": 4,
 "nbformat_minor": 5
}
