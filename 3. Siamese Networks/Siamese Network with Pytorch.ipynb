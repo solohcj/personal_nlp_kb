{
 "cells": [
  {
   "cell_type": "code",
   "execution_count": 1,
   "id": "b51af78c-2dbc-4d4d-8901-9547cf4fed50",
   "metadata": {},
   "outputs": [
    {
     "name": "stderr",
     "output_type": "stream",
     "text": [
      "C:\\Users\\solom\\.conda\\envs\\nlp\\lib\\site-packages\\tqdm\\auto.py:22: TqdmWarning: IProgress not found. Please update jupyter and ipywidgets. See https://ipywidgets.readthedocs.io/en/stable/user_install.html\n",
      "  from .autonotebook import tqdm as notebook_tqdm\n"
     ]
    }
   ],
   "source": [
    "import re\n",
    "import nltk\n",
    "import spacy\n",
    "import gensim\n",
    "import itertools\n",
    "\n",
    "from nltk import ngrams\n",
    "import pandas as pd\n",
    "import numpy as np\n",
    "from sklearn.model_selection import train_test_split\n",
    "from sklearn.preprocessing import LabelBinarizer\n",
    "\n",
    "import torch\n",
    "import torch.nn as nn\n",
    "from torch.utils.data import TensorDataset, DataLoader, RandomSampler, SequentialSampler\n",
    "\n",
    "# Importing model architecture\n",
    "from siamese_network_model_architecture import Encoder, SiameseNetwork"
   ]
  },
  {
   "cell_type": "code",
   "execution_count": 2,
   "id": "57f2198d-668a-4669-b753-161b09db0f11",
   "metadata": {},
   "outputs": [
    {
     "data": {
      "text/plain": [
       "True"
      ]
     },
     "execution_count": 2,
     "metadata": {},
     "output_type": "execute_result"
    }
   ],
   "source": [
    "torch.cuda.is_available()"
   ]
  },
  {
   "cell_type": "code",
   "execution_count": 3,
   "id": "59e0af33-74d5-4c5a-abd2-6376bc59ace8",
   "metadata": {},
   "outputs": [],
   "source": [
    "# Cast to GPU if not it will be processed with CPU\n",
    "device = torch.device('cuda')"
   ]
  },
  {
   "cell_type": "code",
   "execution_count": 4,
   "id": "5a6ef912-e64e-4e29-932a-c37896d11fe6",
   "metadata": {},
   "outputs": [
    {
     "name": "stderr",
     "output_type": "stream",
     "text": [
      "C:\\Users\\solom\\AppData\\Local\\Temp\\ipykernel_19128\\858636.py:1: DtypeWarning: Columns (3,4) have mixed types. Specify dtype option on import or set low_memory=False.\n",
      "  df = pd.read_csv('../0. Sample Datasets/quora_question_pair_sample.csv')\n"
     ]
    }
   ],
   "source": [
    "df = pd.read_csv('../0. Sample Datasets/quora_question_pair_sample.csv')"
   ]
  },
  {
   "cell_type": "code",
   "execution_count": 5,
   "id": "ca0f32eb-b127-41dd-a6e4-848423917ae3",
   "metadata": {},
   "outputs": [
    {
     "data": {
      "text/html": [
       "<div>\n",
       "<style scoped>\n",
       "    .dataframe tbody tr th:only-of-type {\n",
       "        vertical-align: middle;\n",
       "    }\n",
       "\n",
       "    .dataframe tbody tr th {\n",
       "        vertical-align: top;\n",
       "    }\n",
       "\n",
       "    .dataframe thead th {\n",
       "        text-align: right;\n",
       "    }\n",
       "</style>\n",
       "<table border=\"1\" class=\"dataframe\">\n",
       "  <thead>\n",
       "    <tr style=\"text-align: right;\">\n",
       "      <th></th>\n",
       "      <th>id</th>\n",
       "      <th>qid1</th>\n",
       "      <th>qid2</th>\n",
       "      <th>question1</th>\n",
       "      <th>question2</th>\n",
       "      <th>is_duplicate</th>\n",
       "    </tr>\n",
       "  </thead>\n",
       "  <tbody>\n",
       "    <tr>\n",
       "      <th>0</th>\n",
       "      <td>0.0</td>\n",
       "      <td>1.0</td>\n",
       "      <td>2.0</td>\n",
       "      <td>What is the step by step guide to invest in sh...</td>\n",
       "      <td>What is the step by step guide to invest in sh...</td>\n",
       "      <td>0.0</td>\n",
       "    </tr>\n",
       "    <tr>\n",
       "      <th>1</th>\n",
       "      <td>1.0</td>\n",
       "      <td>3.0</td>\n",
       "      <td>4.0</td>\n",
       "      <td>What is the story of Kohinoor (Koh-i-Noor) Dia...</td>\n",
       "      <td>What would happen if the Indian government sto...</td>\n",
       "      <td>0.0</td>\n",
       "    </tr>\n",
       "    <tr>\n",
       "      <th>2</th>\n",
       "      <td>2.0</td>\n",
       "      <td>5.0</td>\n",
       "      <td>6.0</td>\n",
       "      <td>How can I increase the speed of my internet co...</td>\n",
       "      <td>How can Internet speed be increased by hacking...</td>\n",
       "      <td>0.0</td>\n",
       "    </tr>\n",
       "    <tr>\n",
       "      <th>3</th>\n",
       "      <td>3.0</td>\n",
       "      <td>7.0</td>\n",
       "      <td>8.0</td>\n",
       "      <td>Why am I mentally very lonely? How can I solve...</td>\n",
       "      <td>Find the remainder when [math]23^{24}[/math] i...</td>\n",
       "      <td>0.0</td>\n",
       "    </tr>\n",
       "    <tr>\n",
       "      <th>4</th>\n",
       "      <td>4.0</td>\n",
       "      <td>9.0</td>\n",
       "      <td>10.0</td>\n",
       "      <td>Which one dissolve in water quikly sugar, salt...</td>\n",
       "      <td>Which fish would survive in salt water?</td>\n",
       "      <td>0.0</td>\n",
       "    </tr>\n",
       "  </tbody>\n",
       "</table>\n",
       "</div>"
      ],
      "text/plain": [
       "    id  qid1  qid2                                          question1  \\\n",
       "0  0.0   1.0   2.0  What is the step by step guide to invest in sh...   \n",
       "1  1.0   3.0   4.0  What is the story of Kohinoor (Koh-i-Noor) Dia...   \n",
       "2  2.0   5.0   6.0  How can I increase the speed of my internet co...   \n",
       "3  3.0   7.0   8.0  Why am I mentally very lonely? How can I solve...   \n",
       "4  4.0   9.0  10.0  Which one dissolve in water quikly sugar, salt...   \n",
       "\n",
       "                                           question2  is_duplicate  \n",
       "0  What is the step by step guide to invest in sh...           0.0  \n",
       "1  What would happen if the Indian government sto...           0.0  \n",
       "2  How can Internet speed be increased by hacking...           0.0  \n",
       "3  Find the remainder when [math]23^{24}[/math] i...           0.0  \n",
       "4            Which fish would survive in salt water?           0.0  "
      ]
     },
     "execution_count": 5,
     "metadata": {},
     "output_type": "execute_result"
    }
   ],
   "source": [
    "pd.set_option('display.max_column', None) \n",
    "df.head()"
   ]
  },
  {
   "cell_type": "markdown",
   "id": "5654540b-a710-4d53-866e-9b03cc3a2197",
   "metadata": {},
   "source": [
    "---\n",
    "For CosineSimilarity in Pytorch, similar tensors are closer to 1 while dissimilar tensors are closer to -1. See \"Pytorch CosineSimilarity Score Range.ipnyb\" for demonstration.\n",
    "\n",
    "As such, we need to change the target y from 0 to -1 for dissimilar _(i.e. not(is_duplicate))_ labels.\n",
    "\n",
    "---"
   ]
  },
  {
   "cell_type": "code",
   "execution_count": 6,
   "id": "8962130f-f4f9-4ad0-8c54-3947971717d6",
   "metadata": {},
   "outputs": [],
   "source": [
    "df.is_duplicate = [-1 if i==0 else i for i in df.is_duplicate]"
   ]
  },
  {
   "cell_type": "code",
   "execution_count": 7,
   "id": "b623e051-dbaf-4dae-b43b-79575a8f2597",
   "metadata": {},
   "outputs": [
    {
     "name": "stdout",
     "output_type": "stream",
     "text": [
      "<class 'pandas.core.frame.DataFrame'>\n",
      "RangeIndex: 364932 entries, 0 to 364931\n",
      "Data columns (total 6 columns):\n",
      " #   Column        Non-Null Count   Dtype  \n",
      "---  ------        --------------   -----  \n",
      " 0   id            100001 non-null  float64\n",
      " 1   qid1          100001 non-null  float64\n",
      " 2   qid2          100001 non-null  float64\n",
      " 3   question1     100001 non-null  object \n",
      " 4   question2     100001 non-null  object \n",
      " 5   is_duplicate  100001 non-null  float64\n",
      "dtypes: float64(4), object(2)\n",
      "memory usage: 16.7+ MB\n"
     ]
    }
   ],
   "source": [
    "df.info()"
   ]
  },
  {
   "cell_type": "code",
   "execution_count": 8,
   "id": "9e17fedc-be20-49f2-9e49-891a18061674",
   "metadata": {},
   "outputs": [
    {
     "data": {
      "text/html": [
       "<div>\n",
       "<style scoped>\n",
       "    .dataframe tbody tr th:only-of-type {\n",
       "        vertical-align: middle;\n",
       "    }\n",
       "\n",
       "    .dataframe tbody tr th {\n",
       "        vertical-align: top;\n",
       "    }\n",
       "\n",
       "    .dataframe thead th {\n",
       "        text-align: right;\n",
       "    }\n",
       "</style>\n",
       "<table border=\"1\" class=\"dataframe\">\n",
       "  <thead>\n",
       "    <tr style=\"text-align: right;\">\n",
       "      <th></th>\n",
       "      <th>id</th>\n",
       "      <th>qid1</th>\n",
       "      <th>qid2</th>\n",
       "      <th>question1</th>\n",
       "      <th>question2</th>\n",
       "      <th>is_duplicate</th>\n",
       "    </tr>\n",
       "  </thead>\n",
       "  <tbody>\n",
       "    <tr>\n",
       "      <th>100001</th>\n",
       "      <td>NaN</td>\n",
       "      <td>NaN</td>\n",
       "      <td>NaN</td>\n",
       "      <td>NaN</td>\n",
       "      <td>NaN</td>\n",
       "      <td>NaN</td>\n",
       "    </tr>\n",
       "    <tr>\n",
       "      <th>100002</th>\n",
       "      <td>NaN</td>\n",
       "      <td>NaN</td>\n",
       "      <td>NaN</td>\n",
       "      <td>NaN</td>\n",
       "      <td>NaN</td>\n",
       "      <td>NaN</td>\n",
       "    </tr>\n",
       "    <tr>\n",
       "      <th>100003</th>\n",
       "      <td>NaN</td>\n",
       "      <td>NaN</td>\n",
       "      <td>NaN</td>\n",
       "      <td>NaN</td>\n",
       "      <td>NaN</td>\n",
       "      <td>NaN</td>\n",
       "    </tr>\n",
       "    <tr>\n",
       "      <th>100004</th>\n",
       "      <td>NaN</td>\n",
       "      <td>NaN</td>\n",
       "      <td>NaN</td>\n",
       "      <td>NaN</td>\n",
       "      <td>NaN</td>\n",
       "      <td>NaN</td>\n",
       "    </tr>\n",
       "    <tr>\n",
       "      <th>100005</th>\n",
       "      <td>NaN</td>\n",
       "      <td>NaN</td>\n",
       "      <td>NaN</td>\n",
       "      <td>NaN</td>\n",
       "      <td>NaN</td>\n",
       "      <td>NaN</td>\n",
       "    </tr>\n",
       "  </tbody>\n",
       "</table>\n",
       "</div>"
      ],
      "text/plain": [
       "        id  qid1  qid2 question1 question2  is_duplicate\n",
       "100001 NaN   NaN   NaN       NaN       NaN           NaN\n",
       "100002 NaN   NaN   NaN       NaN       NaN           NaN\n",
       "100003 NaN   NaN   NaN       NaN       NaN           NaN\n",
       "100004 NaN   NaN   NaN       NaN       NaN           NaN\n",
       "100005 NaN   NaN   NaN       NaN       NaN           NaN"
      ]
     },
     "execution_count": 8,
     "metadata": {},
     "output_type": "execute_result"
    }
   ],
   "source": [
    "df[df.question1.isnull()].head()"
   ]
  },
  {
   "cell_type": "code",
   "execution_count": 9,
   "id": "64277f18-b8fd-4256-bc37-6a35292cbcca",
   "metadata": {},
   "outputs": [
    {
     "data": {
      "text/html": [
       "<div>\n",
       "<style scoped>\n",
       "    .dataframe tbody tr th:only-of-type {\n",
       "        vertical-align: middle;\n",
       "    }\n",
       "\n",
       "    .dataframe tbody tr th {\n",
       "        vertical-align: top;\n",
       "    }\n",
       "\n",
       "    .dataframe thead th {\n",
       "        text-align: right;\n",
       "    }\n",
       "</style>\n",
       "<table border=\"1\" class=\"dataframe\">\n",
       "  <thead>\n",
       "    <tr style=\"text-align: right;\">\n",
       "      <th></th>\n",
       "      <th>id</th>\n",
       "      <th>qid1</th>\n",
       "      <th>qid2</th>\n",
       "      <th>question1</th>\n",
       "      <th>question2</th>\n",
       "      <th>is_duplicate</th>\n",
       "    </tr>\n",
       "  </thead>\n",
       "  <tbody>\n",
       "    <tr>\n",
       "      <th>100001</th>\n",
       "      <td>NaN</td>\n",
       "      <td>NaN</td>\n",
       "      <td>NaN</td>\n",
       "      <td>NaN</td>\n",
       "      <td>NaN</td>\n",
       "      <td>NaN</td>\n",
       "    </tr>\n",
       "    <tr>\n",
       "      <th>100002</th>\n",
       "      <td>NaN</td>\n",
       "      <td>NaN</td>\n",
       "      <td>NaN</td>\n",
       "      <td>NaN</td>\n",
       "      <td>NaN</td>\n",
       "      <td>NaN</td>\n",
       "    </tr>\n",
       "    <tr>\n",
       "      <th>100003</th>\n",
       "      <td>NaN</td>\n",
       "      <td>NaN</td>\n",
       "      <td>NaN</td>\n",
       "      <td>NaN</td>\n",
       "      <td>NaN</td>\n",
       "      <td>NaN</td>\n",
       "    </tr>\n",
       "    <tr>\n",
       "      <th>100004</th>\n",
       "      <td>NaN</td>\n",
       "      <td>NaN</td>\n",
       "      <td>NaN</td>\n",
       "      <td>NaN</td>\n",
       "      <td>NaN</td>\n",
       "      <td>NaN</td>\n",
       "    </tr>\n",
       "    <tr>\n",
       "      <th>100005</th>\n",
       "      <td>NaN</td>\n",
       "      <td>NaN</td>\n",
       "      <td>NaN</td>\n",
       "      <td>NaN</td>\n",
       "      <td>NaN</td>\n",
       "      <td>NaN</td>\n",
       "    </tr>\n",
       "  </tbody>\n",
       "</table>\n",
       "</div>"
      ],
      "text/plain": [
       "        id  qid1  qid2 question1 question2  is_duplicate\n",
       "100001 NaN   NaN   NaN       NaN       NaN           NaN\n",
       "100002 NaN   NaN   NaN       NaN       NaN           NaN\n",
       "100003 NaN   NaN   NaN       NaN       NaN           NaN\n",
       "100004 NaN   NaN   NaN       NaN       NaN           NaN\n",
       "100005 NaN   NaN   NaN       NaN       NaN           NaN"
      ]
     },
     "execution_count": 9,
     "metadata": {},
     "output_type": "execute_result"
    }
   ],
   "source": [
    "df[df.question2.isnull()].head()"
   ]
  },
  {
   "cell_type": "code",
   "execution_count": 10,
   "id": "899863c9-2014-4f82-8c39-ff8bfdf16056",
   "metadata": {},
   "outputs": [],
   "source": [
    "df.dropna(axis=0, how='any', inplace=True)"
   ]
  },
  {
   "cell_type": "code",
   "execution_count": 11,
   "id": "6c66941a-f58d-4201-8610-1108d1576782",
   "metadata": {},
   "outputs": [
    {
     "name": "stdout",
     "output_type": "stream",
     "text": [
      "<class 'pandas.core.frame.DataFrame'>\n",
      "Int64Index: 100001 entries, 0 to 100000\n",
      "Data columns (total 6 columns):\n",
      " #   Column        Non-Null Count   Dtype  \n",
      "---  ------        --------------   -----  \n",
      " 0   id            100001 non-null  float64\n",
      " 1   qid1          100001 non-null  float64\n",
      " 2   qid2          100001 non-null  float64\n",
      " 3   question1     100001 non-null  object \n",
      " 4   question2     100001 non-null  object \n",
      " 5   is_duplicate  100001 non-null  float64\n",
      "dtypes: float64(4), object(2)\n",
      "memory usage: 5.3+ MB\n"
     ]
    }
   ],
   "source": [
    "df.info()"
   ]
  },
  {
   "cell_type": "code",
   "execution_count": 12,
   "id": "ba8c1cbe-708b-4e80-b74b-32276b4e29f6",
   "metadata": {},
   "outputs": [
    {
     "data": {
      "text/plain": [
       "-1.0    62747\n",
       " 1.0    37254\n",
       "Name: is_duplicate, dtype: int64"
      ]
     },
     "execution_count": 12,
     "metadata": {},
     "output_type": "execute_result"
    }
   ],
   "source": [
    "df.is_duplicate.value_counts()"
   ]
  },
  {
   "cell_type": "markdown",
   "id": "f7f3f1ec-39df-4a75-b61b-4d9b18b0aa72",
   "metadata": {},
   "source": [
    "## We will clean all data (regardless of test/val/train) with the same process before proceeding\n",
    "\n",
    "**_Will not be removing stopwords as stop words like \"how\"/\"what\", etc is important in differentiating the nature of the question_**"
   ]
  },
  {
   "cell_type": "code",
   "execution_count": 13,
   "id": "f5296eac-1f16-45a3-88d2-f1783c45c259",
   "metadata": {
    "scrolled": true,
    "tags": []
   },
   "outputs": [],
   "source": [
    "lem = nltk.WordNetLemmatizer()\n",
    "\n",
    "def preprocessing(sentence):\n",
    "    sent = sentence.lower()\n",
    "    \n",
    "    # Removing selected symbols, keeping numbers\n",
    "    sent = re.sub(\"\\(|\\)|\\/|\\-|\\#|\\!|\\?|\\.|\\,|\\\"|\\'|\\*|\\[|\\]|\\{|\\}|\\$\", \"\", sent)\n",
    "    \n",
    "    # Removing emails\n",
    "    sent = re.sub(\"\\S*@\\S*\\s?\", \"\", sent)\n",
    "    \n",
    "    # Removing numbers\n",
    "    sent = re.sub(\"\\d+\", \"\", sent)\n",
    "    \n",
    "    return sent"
   ]
  },
  {
   "cell_type": "code",
   "execution_count": 14,
   "id": "c8d3c921-30aa-4ce2-ae33-eda0afff6c35",
   "metadata": {},
   "outputs": [
    {
     "name": "stdout",
     "output_type": "stream",
     "text": [
      "What is the step by step guide to invest in share market in india?\n"
     ]
    }
   ],
   "source": [
    "print('What is the step by step guide to invest in share market in india?')"
   ]
  },
  {
   "cell_type": "code",
   "execution_count": 15,
   "id": "762e1359-eebe-45d8-a665-2114e48ce36c",
   "metadata": {},
   "outputs": [
    {
     "data": {
      "text/plain": [
       "'what is the step by step guide to invest in share market in india'"
      ]
     },
     "execution_count": 15,
     "metadata": {},
     "output_type": "execute_result"
    }
   ],
   "source": [
    "preprocessing('What is the step by step guide to invest in share market in india?')"
   ]
  },
  {
   "cell_type": "code",
   "execution_count": 16,
   "id": "db30bed9-074d-4c49-9117-873c2e79bf56",
   "metadata": {},
   "outputs": [
    {
     "data": {
      "text/plain": [
       "'how can i know who logged in to my gmail account by telling his ip address or device name'"
      ]
     },
     "execution_count": 16,
     "metadata": {},
     "output_type": "execute_result"
    }
   ],
   "source": [
    "preprocessing('How can I know who logged in to my Gmail account? (by telling his IP address or device name)?')"
   ]
  },
  {
   "cell_type": "code",
   "execution_count": 17,
   "id": "77bd56ac-77be-44e4-af84-5c3f4173ff61",
   "metadata": {},
   "outputs": [
    {
     "data": {
      "text/plain": [
       "'how do i log out of my gmail account on my friends phone'"
      ]
     },
     "execution_count": 17,
     "metadata": {},
     "output_type": "execute_result"
    }
   ],
   "source": [
    "preprocessing(\"How do I log out of my Gmail account on my friend's phone?\")"
   ]
  },
  {
   "cell_type": "markdown",
   "id": "464f61e8-303b-43f3-9a56-8ec18797f98c",
   "metadata": {},
   "source": [
    "## Split data"
   ]
  },
  {
   "cell_type": "code",
   "execution_count": 18,
   "id": "6ec6a530-8795-4b78-a1dc-2afc731e7ed0",
   "metadata": {},
   "outputs": [],
   "source": [
    "X = df.drop('is_duplicate', axis=1)\n",
    "y = df.is_duplicate"
   ]
  },
  {
   "cell_type": "code",
   "execution_count": 19,
   "id": "7d59141e-9f7f-4e28-84fd-544521312bb9",
   "metadata": {},
   "outputs": [
    {
     "data": {
      "text/html": [
       "<div>\n",
       "<style scoped>\n",
       "    .dataframe tbody tr th:only-of-type {\n",
       "        vertical-align: middle;\n",
       "    }\n",
       "\n",
       "    .dataframe tbody tr th {\n",
       "        vertical-align: top;\n",
       "    }\n",
       "\n",
       "    .dataframe thead th {\n",
       "        text-align: right;\n",
       "    }\n",
       "</style>\n",
       "<table border=\"1\" class=\"dataframe\">\n",
       "  <thead>\n",
       "    <tr style=\"text-align: right;\">\n",
       "      <th></th>\n",
       "      <th>id</th>\n",
       "      <th>qid1</th>\n",
       "      <th>qid2</th>\n",
       "      <th>question1</th>\n",
       "      <th>question2</th>\n",
       "    </tr>\n",
       "  </thead>\n",
       "  <tbody>\n",
       "    <tr>\n",
       "      <th>0</th>\n",
       "      <td>0.0</td>\n",
       "      <td>1.0</td>\n",
       "      <td>2.0</td>\n",
       "      <td>What is the step by step guide to invest in sh...</td>\n",
       "      <td>What is the step by step guide to invest in sh...</td>\n",
       "    </tr>\n",
       "    <tr>\n",
       "      <th>1</th>\n",
       "      <td>1.0</td>\n",
       "      <td>3.0</td>\n",
       "      <td>4.0</td>\n",
       "      <td>What is the story of Kohinoor (Koh-i-Noor) Dia...</td>\n",
       "      <td>What would happen if the Indian government sto...</td>\n",
       "    </tr>\n",
       "    <tr>\n",
       "      <th>2</th>\n",
       "      <td>2.0</td>\n",
       "      <td>5.0</td>\n",
       "      <td>6.0</td>\n",
       "      <td>How can I increase the speed of my internet co...</td>\n",
       "      <td>How can Internet speed be increased by hacking...</td>\n",
       "    </tr>\n",
       "    <tr>\n",
       "      <th>3</th>\n",
       "      <td>3.0</td>\n",
       "      <td>7.0</td>\n",
       "      <td>8.0</td>\n",
       "      <td>Why am I mentally very lonely? How can I solve...</td>\n",
       "      <td>Find the remainder when [math]23^{24}[/math] i...</td>\n",
       "    </tr>\n",
       "    <tr>\n",
       "      <th>4</th>\n",
       "      <td>4.0</td>\n",
       "      <td>9.0</td>\n",
       "      <td>10.0</td>\n",
       "      <td>Which one dissolve in water quikly sugar, salt...</td>\n",
       "      <td>Which fish would survive in salt water?</td>\n",
       "    </tr>\n",
       "  </tbody>\n",
       "</table>\n",
       "</div>"
      ],
      "text/plain": [
       "    id  qid1  qid2                                          question1  \\\n",
       "0  0.0   1.0   2.0  What is the step by step guide to invest in sh...   \n",
       "1  1.0   3.0   4.0  What is the story of Kohinoor (Koh-i-Noor) Dia...   \n",
       "2  2.0   5.0   6.0  How can I increase the speed of my internet co...   \n",
       "3  3.0   7.0   8.0  Why am I mentally very lonely? How can I solve...   \n",
       "4  4.0   9.0  10.0  Which one dissolve in water quikly sugar, salt...   \n",
       "\n",
       "                                           question2  \n",
       "0  What is the step by step guide to invest in sh...  \n",
       "1  What would happen if the Indian government sto...  \n",
       "2  How can Internet speed be increased by hacking...  \n",
       "3  Find the remainder when [math]23^{24}[/math] i...  \n",
       "4            Which fish would survive in salt water?  "
      ]
     },
     "execution_count": 19,
     "metadata": {},
     "output_type": "execute_result"
    }
   ],
   "source": [
    "X.head()"
   ]
  },
  {
   "cell_type": "code",
   "execution_count": 20,
   "id": "638a246f-26cd-4c13-9d5b-41aae361b22f",
   "metadata": {},
   "outputs": [
    {
     "data": {
      "text/plain": [
       "0   -1.0\n",
       "1   -1.0\n",
       "2   -1.0\n",
       "3   -1.0\n",
       "4   -1.0\n",
       "Name: is_duplicate, dtype: float64"
      ]
     },
     "execution_count": 20,
     "metadata": {},
     "output_type": "execute_result"
    }
   ],
   "source": [
    "y.head()"
   ]
  },
  {
   "cell_type": "code",
   "execution_count": 21,
   "id": "7437de69-2ec0-4ffc-9d08-544d1a07bcd4",
   "metadata": {},
   "outputs": [],
   "source": [
    "X_train, X_test, y_train, y_test = train_test_split(X, y, test_size=0.2, stratify=y)\n",
    "X_val, X_test, y_val, y_test = train_test_split(X_test, y_test, test_size=0.5, stratify=y_test)"
   ]
  },
  {
   "cell_type": "code",
   "execution_count": 22,
   "id": "1be7805e-d8f5-4514-bb28-13866dde7733",
   "metadata": {},
   "outputs": [
    {
     "data": {
      "text/plain": [
       "-1.0    50197\n",
       " 1.0    29803\n",
       "Name: is_duplicate, dtype: int64"
      ]
     },
     "execution_count": 22,
     "metadata": {},
     "output_type": "execute_result"
    }
   ],
   "source": [
    "y_train.value_counts()"
   ]
  },
  {
   "cell_type": "code",
   "execution_count": 23,
   "id": "c14fa149-ac87-41b3-ba32-6efbef7a3ff6",
   "metadata": {},
   "outputs": [
    {
     "data": {
      "text/plain": [
       "-1.0    6275\n",
       " 1.0    3725\n",
       "Name: is_duplicate, dtype: int64"
      ]
     },
     "execution_count": 23,
     "metadata": {},
     "output_type": "execute_result"
    }
   ],
   "source": [
    "y_val.value_counts()"
   ]
  },
  {
   "cell_type": "code",
   "execution_count": 24,
   "id": "4dbb2bec-b2e3-4934-b07a-91afd250da73",
   "metadata": {},
   "outputs": [
    {
     "data": {
      "text/plain": [
       "-1.0    6275\n",
       " 1.0    3726\n",
       "Name: is_duplicate, dtype: int64"
      ]
     },
     "execution_count": 24,
     "metadata": {},
     "output_type": "execute_result"
    }
   ],
   "source": [
    "y_test.value_counts()"
   ]
  },
  {
   "cell_type": "code",
   "execution_count": 25,
   "id": "792c79b2-0841-435d-b524-ae2c3bd6dd87",
   "metadata": {},
   "outputs": [
    {
     "data": {
      "text/html": [
       "<div>\n",
       "<style scoped>\n",
       "    .dataframe tbody tr th:only-of-type {\n",
       "        vertical-align: middle;\n",
       "    }\n",
       "\n",
       "    .dataframe tbody tr th {\n",
       "        vertical-align: top;\n",
       "    }\n",
       "\n",
       "    .dataframe thead th {\n",
       "        text-align: right;\n",
       "    }\n",
       "</style>\n",
       "<table border=\"1\" class=\"dataframe\">\n",
       "  <thead>\n",
       "    <tr style=\"text-align: right;\">\n",
       "      <th></th>\n",
       "      <th>id</th>\n",
       "      <th>qid1</th>\n",
       "      <th>qid2</th>\n",
       "      <th>question1</th>\n",
       "      <th>question2</th>\n",
       "    </tr>\n",
       "  </thead>\n",
       "  <tbody>\n",
       "    <tr>\n",
       "      <th>13341</th>\n",
       "      <td>13341.0</td>\n",
       "      <td>25633.0</td>\n",
       "      <td>18926.0</td>\n",
       "      <td>Can people see I watched their videos while st...</td>\n",
       "      <td>How can I see who views my Instagram?</td>\n",
       "    </tr>\n",
       "    <tr>\n",
       "      <th>1534</th>\n",
       "      <td>1534.0</td>\n",
       "      <td>3055.0</td>\n",
       "      <td>3056.0</td>\n",
       "      <td>What are some of the most misheard song lyrics...</td>\n",
       "      <td>What are some of your favorite misheard song l...</td>\n",
       "    </tr>\n",
       "    <tr>\n",
       "      <th>7111</th>\n",
       "      <td>7111.0</td>\n",
       "      <td>13903.0</td>\n",
       "      <td>13904.0</td>\n",
       "      <td>How can I stop getting scared?</td>\n",
       "      <td>What is the best way to stop being scared?</td>\n",
       "    </tr>\n",
       "    <tr>\n",
       "      <th>7444</th>\n",
       "      <td>7444.0</td>\n",
       "      <td>14543.0</td>\n",
       "      <td>14544.0</td>\n",
       "      <td>Can we kill herpes virus once it is out of ner...</td>\n",
       "      <td>Can we kill herpes virus once it is out of ner...</td>\n",
       "    </tr>\n",
       "    <tr>\n",
       "      <th>17564</th>\n",
       "      <td>17564.0</td>\n",
       "      <td>33353.0</td>\n",
       "      <td>33354.0</td>\n",
       "      <td>What are some tips for cleaning eye glasses?</td>\n",
       "      <td>What is the best way to clean a pair of eye gl...</td>\n",
       "    </tr>\n",
       "  </tbody>\n",
       "</table>\n",
       "</div>"
      ],
      "text/plain": [
       "            id     qid1     qid2  \\\n",
       "13341  13341.0  25633.0  18926.0   \n",
       "1534    1534.0   3055.0   3056.0   \n",
       "7111    7111.0  13903.0  13904.0   \n",
       "7444    7444.0  14543.0  14544.0   \n",
       "17564  17564.0  33353.0  33354.0   \n",
       "\n",
       "                                               question1  \\\n",
       "13341  Can people see I watched their videos while st...   \n",
       "1534   What are some of the most misheard song lyrics...   \n",
       "7111                      How can I stop getting scared?   \n",
       "7444   Can we kill herpes virus once it is out of ner...   \n",
       "17564       What are some tips for cleaning eye glasses?   \n",
       "\n",
       "                                               question2  \n",
       "13341              How can I see who views my Instagram?  \n",
       "1534   What are some of your favorite misheard song l...  \n",
       "7111          What is the best way to stop being scared?  \n",
       "7444   Can we kill herpes virus once it is out of ner...  \n",
       "17564  What is the best way to clean a pair of eye gl...  "
      ]
     },
     "execution_count": 25,
     "metadata": {},
     "output_type": "execute_result"
    }
   ],
   "source": [
    "X_train.head()"
   ]
  },
  {
   "cell_type": "code",
   "execution_count": 26,
   "id": "99770347-68ca-4b19-9398-8aefcef36754",
   "metadata": {},
   "outputs": [
    {
     "data": {
      "text/plain": [
       "13341    1.0\n",
       "1534     1.0\n",
       "7111     1.0\n",
       "7444     1.0\n",
       "17564    1.0\n",
       "Name: is_duplicate, dtype: float64"
      ]
     },
     "execution_count": 26,
     "metadata": {},
     "output_type": "execute_result"
    }
   ],
   "source": [
    "y_train.head()"
   ]
  },
  {
   "cell_type": "code",
   "execution_count": 27,
   "id": "96e2e94d-15a5-496c-b50a-2b5e95df1e95",
   "metadata": {},
   "outputs": [],
   "source": [
    "# Resetting indexes for subsequent processing (less confusing to tally)\n",
    "X_train.reset_index(drop=True, inplace=True)\n",
    "X_val.reset_index(drop=True, inplace=True)\n",
    "X_test.reset_index(drop=True, inplace=True)\n",
    "\n",
    "y_train.reset_index(drop=True, inplace=True)\n",
    "y_val.reset_index(drop=True, inplace=True)\n",
    "y_test.reset_index(drop=True, inplace=True)"
   ]
  },
  {
   "cell_type": "code",
   "execution_count": 28,
   "id": "6f47b584-b9f8-4b2c-806e-9317d0ff5780",
   "metadata": {},
   "outputs": [
    {
     "data": {
      "text/html": [
       "<div>\n",
       "<style scoped>\n",
       "    .dataframe tbody tr th:only-of-type {\n",
       "        vertical-align: middle;\n",
       "    }\n",
       "\n",
       "    .dataframe tbody tr th {\n",
       "        vertical-align: top;\n",
       "    }\n",
       "\n",
       "    .dataframe thead th {\n",
       "        text-align: right;\n",
       "    }\n",
       "</style>\n",
       "<table border=\"1\" class=\"dataframe\">\n",
       "  <thead>\n",
       "    <tr style=\"text-align: right;\">\n",
       "      <th></th>\n",
       "      <th>id</th>\n",
       "      <th>qid1</th>\n",
       "      <th>qid2</th>\n",
       "      <th>question1</th>\n",
       "      <th>question2</th>\n",
       "    </tr>\n",
       "  </thead>\n",
       "  <tbody>\n",
       "    <tr>\n",
       "      <th>0</th>\n",
       "      <td>13341.0</td>\n",
       "      <td>25633.0</td>\n",
       "      <td>18926.0</td>\n",
       "      <td>Can people see I watched their videos while st...</td>\n",
       "      <td>How can I see who views my Instagram?</td>\n",
       "    </tr>\n",
       "    <tr>\n",
       "      <th>1</th>\n",
       "      <td>1534.0</td>\n",
       "      <td>3055.0</td>\n",
       "      <td>3056.0</td>\n",
       "      <td>What are some of the most misheard song lyrics...</td>\n",
       "      <td>What are some of your favorite misheard song l...</td>\n",
       "    </tr>\n",
       "    <tr>\n",
       "      <th>2</th>\n",
       "      <td>7111.0</td>\n",
       "      <td>13903.0</td>\n",
       "      <td>13904.0</td>\n",
       "      <td>How can I stop getting scared?</td>\n",
       "      <td>What is the best way to stop being scared?</td>\n",
       "    </tr>\n",
       "    <tr>\n",
       "      <th>3</th>\n",
       "      <td>7444.0</td>\n",
       "      <td>14543.0</td>\n",
       "      <td>14544.0</td>\n",
       "      <td>Can we kill herpes virus once it is out of ner...</td>\n",
       "      <td>Can we kill herpes virus once it is out of ner...</td>\n",
       "    </tr>\n",
       "    <tr>\n",
       "      <th>4</th>\n",
       "      <td>17564.0</td>\n",
       "      <td>33353.0</td>\n",
       "      <td>33354.0</td>\n",
       "      <td>What are some tips for cleaning eye glasses?</td>\n",
       "      <td>What is the best way to clean a pair of eye gl...</td>\n",
       "    </tr>\n",
       "  </tbody>\n",
       "</table>\n",
       "</div>"
      ],
      "text/plain": [
       "        id     qid1     qid2  \\\n",
       "0  13341.0  25633.0  18926.0   \n",
       "1   1534.0   3055.0   3056.0   \n",
       "2   7111.0  13903.0  13904.0   \n",
       "3   7444.0  14543.0  14544.0   \n",
       "4  17564.0  33353.0  33354.0   \n",
       "\n",
       "                                           question1  \\\n",
       "0  Can people see I watched their videos while st...   \n",
       "1  What are some of the most misheard song lyrics...   \n",
       "2                     How can I stop getting scared?   \n",
       "3  Can we kill herpes virus once it is out of ner...   \n",
       "4       What are some tips for cleaning eye glasses?   \n",
       "\n",
       "                                           question2  \n",
       "0              How can I see who views my Instagram?  \n",
       "1  What are some of your favorite misheard song l...  \n",
       "2         What is the best way to stop being scared?  \n",
       "3  Can we kill herpes virus once it is out of ner...  \n",
       "4  What is the best way to clean a pair of eye gl...  "
      ]
     },
     "execution_count": 28,
     "metadata": {},
     "output_type": "execute_result"
    }
   ],
   "source": [
    "X_train.head()"
   ]
  },
  {
   "cell_type": "code",
   "execution_count": 29,
   "id": "21ff4132-8715-4800-8e1e-6e2ac584efdb",
   "metadata": {},
   "outputs": [
    {
     "data": {
      "text/plain": [
       "0    1.0\n",
       "1    1.0\n",
       "2    1.0\n",
       "3    1.0\n",
       "4    1.0\n",
       "Name: is_duplicate, dtype: float64"
      ]
     },
     "execution_count": 29,
     "metadata": {},
     "output_type": "execute_result"
    }
   ],
   "source": [
    "y_train.head()"
   ]
  },
  {
   "cell_type": "markdown",
   "id": "f34d0f7e-94b0-44e5-8f3a-0205b0920187",
   "metadata": {},
   "source": [
    "## Preprocessing all input text data"
   ]
  },
  {
   "cell_type": "code",
   "execution_count": 30,
   "id": "554136b2-40b2-439f-8c46-cb2e4be08219",
   "metadata": {},
   "outputs": [],
   "source": [
    "X_train['q1_preprocessed'] = [preprocessing(i) for i in X_train.question1]\n",
    "X_val['q1_preprocessed'] = [preprocessing(i) for i in X_val.question1]\n",
    "X_test['q1_preprocessed'] = [preprocessing(i) for i in X_test.question1]\n",
    "\n",
    "X_train['q2_preprocessed'] = [preprocessing(i) for i in X_train.question2]\n",
    "X_val['q2_preprocessed'] = [preprocessing(i) for i in X_val.question2]\n",
    "X_test['q2_preprocessed'] = [preprocessing(i) for i in X_test.question2]"
   ]
  },
  {
   "cell_type": "code",
   "execution_count": 31,
   "id": "6248deef-e35c-4d50-bead-9524a397de34",
   "metadata": {},
   "outputs": [
    {
     "data": {
      "text/html": [
       "<div>\n",
       "<style scoped>\n",
       "    .dataframe tbody tr th:only-of-type {\n",
       "        vertical-align: middle;\n",
       "    }\n",
       "\n",
       "    .dataframe tbody tr th {\n",
       "        vertical-align: top;\n",
       "    }\n",
       "\n",
       "    .dataframe thead th {\n",
       "        text-align: right;\n",
       "    }\n",
       "</style>\n",
       "<table border=\"1\" class=\"dataframe\">\n",
       "  <thead>\n",
       "    <tr style=\"text-align: right;\">\n",
       "      <th></th>\n",
       "      <th>id</th>\n",
       "      <th>qid1</th>\n",
       "      <th>qid2</th>\n",
       "      <th>question1</th>\n",
       "      <th>question2</th>\n",
       "      <th>q1_preprocessed</th>\n",
       "      <th>q2_preprocessed</th>\n",
       "    </tr>\n",
       "  </thead>\n",
       "  <tbody>\n",
       "    <tr>\n",
       "      <th>0</th>\n",
       "      <td>8759.0</td>\n",
       "      <td>17062.0</td>\n",
       "      <td>17063.0</td>\n",
       "      <td>How do I master coding?</td>\n",
       "      <td>What are the most efficient ways to master C++?</td>\n",
       "      <td>how do i master coding</td>\n",
       "      <td>what are the most efficient ways to master c++</td>\n",
       "    </tr>\n",
       "    <tr>\n",
       "      <th>1</th>\n",
       "      <td>97940.0</td>\n",
       "      <td>1744.0</td>\n",
       "      <td>162846.0</td>\n",
       "      <td>What do we need to have the best Halloween?</td>\n",
       "      <td>What makes the best Halloween character?</td>\n",
       "      <td>what do we need to have the best halloween</td>\n",
       "      <td>what makes the best halloween character</td>\n",
       "    </tr>\n",
       "    <tr>\n",
       "      <th>2</th>\n",
       "      <td>776.0</td>\n",
       "      <td>1547.0</td>\n",
       "      <td>1548.0</td>\n",
       "      <td>How do payroll companies make money?</td>\n",
       "      <td>How companies make money?</td>\n",
       "      <td>how do payroll companies make money</td>\n",
       "      <td>how companies make money</td>\n",
       "    </tr>\n",
       "    <tr>\n",
       "      <th>3</th>\n",
       "      <td>96780.0</td>\n",
       "      <td>46490.0</td>\n",
       "      <td>161154.0</td>\n",
       "      <td>What does the '100' emoji generally mean?</td>\n",
       "      <td>How do I encode Emojis?</td>\n",
       "      <td>what does the  emoji generally mean</td>\n",
       "      <td>how do i encode emojis</td>\n",
       "    </tr>\n",
       "    <tr>\n",
       "      <th>4</th>\n",
       "      <td>58162.0</td>\n",
       "      <td>69333.0</td>\n",
       "      <td>102087.0</td>\n",
       "      <td>What are the best books available for data str...</td>\n",
       "      <td>Books on data structures?</td>\n",
       "      <td>what are the best books available for data str...</td>\n",
       "      <td>books on data structures</td>\n",
       "    </tr>\n",
       "  </tbody>\n",
       "</table>\n",
       "</div>"
      ],
      "text/plain": [
       "        id     qid1      qid2  \\\n",
       "0   8759.0  17062.0   17063.0   \n",
       "1  97940.0   1744.0  162846.0   \n",
       "2    776.0   1547.0    1548.0   \n",
       "3  96780.0  46490.0  161154.0   \n",
       "4  58162.0  69333.0  102087.0   \n",
       "\n",
       "                                           question1  \\\n",
       "0                            How do I master coding?   \n",
       "1        What do we need to have the best Halloween?   \n",
       "2               How do payroll companies make money?   \n",
       "3          What does the '100' emoji generally mean?   \n",
       "4  What are the best books available for data str...   \n",
       "\n",
       "                                         question2  \\\n",
       "0  What are the most efficient ways to master C++?   \n",
       "1         What makes the best Halloween character?   \n",
       "2                        How companies make money?   \n",
       "3                          How do I encode Emojis?   \n",
       "4                        Books on data structures?   \n",
       "\n",
       "                                     q1_preprocessed  \\\n",
       "0                             how do i master coding   \n",
       "1         what do we need to have the best halloween   \n",
       "2                how do payroll companies make money   \n",
       "3                what does the  emoji generally mean   \n",
       "4  what are the best books available for data str...   \n",
       "\n",
       "                                  q2_preprocessed  \n",
       "0  what are the most efficient ways to master c++  \n",
       "1         what makes the best halloween character  \n",
       "2                        how companies make money  \n",
       "3                          how do i encode emojis  \n",
       "4                        books on data structures  "
      ]
     },
     "execution_count": 31,
     "metadata": {},
     "output_type": "execute_result"
    }
   ],
   "source": [
    "X_test.head()"
   ]
  },
  {
   "cell_type": "code",
   "execution_count": 32,
   "id": "e7aed506-3471-4c3f-bb00-40556dfc7e24",
   "metadata": {},
   "outputs": [],
   "source": [
    "# Dropping columns which are no longer needed\n",
    "X_train.drop(['qid1', 'qid2', 'question1', 'question2'], axis=1, inplace=True)\n",
    "X_val.drop(['qid1', 'qid2', 'question1', 'question2'], axis=1, inplace=True)\n",
    "X_test.drop(['qid1', 'qid2', 'question1', 'question2'], axis=1, inplace=True)"
   ]
  },
  {
   "cell_type": "code",
   "execution_count": 33,
   "id": "5de0f6f3-30db-45c8-b6cb-d9942a917465",
   "metadata": {},
   "outputs": [
    {
     "data": {
      "text/html": [
       "<div>\n",
       "<style scoped>\n",
       "    .dataframe tbody tr th:only-of-type {\n",
       "        vertical-align: middle;\n",
       "    }\n",
       "\n",
       "    .dataframe tbody tr th {\n",
       "        vertical-align: top;\n",
       "    }\n",
       "\n",
       "    .dataframe thead th {\n",
       "        text-align: right;\n",
       "    }\n",
       "</style>\n",
       "<table border=\"1\" class=\"dataframe\">\n",
       "  <thead>\n",
       "    <tr style=\"text-align: right;\">\n",
       "      <th></th>\n",
       "      <th>id</th>\n",
       "      <th>q1_preprocessed</th>\n",
       "      <th>q2_preprocessed</th>\n",
       "    </tr>\n",
       "  </thead>\n",
       "  <tbody>\n",
       "    <tr>\n",
       "      <th>0</th>\n",
       "      <td>13341.0</td>\n",
       "      <td>can people see i watched their videos while st...</td>\n",
       "      <td>how can i see who views my instagram</td>\n",
       "    </tr>\n",
       "    <tr>\n",
       "      <th>1</th>\n",
       "      <td>1534.0</td>\n",
       "      <td>what are some of the most misheard song lyrics...</td>\n",
       "      <td>what are some of your favorite misheard song l...</td>\n",
       "    </tr>\n",
       "    <tr>\n",
       "      <th>2</th>\n",
       "      <td>7111.0</td>\n",
       "      <td>how can i stop getting scared</td>\n",
       "      <td>what is the best way to stop being scared</td>\n",
       "    </tr>\n",
       "    <tr>\n",
       "      <th>3</th>\n",
       "      <td>7444.0</td>\n",
       "      <td>can we kill herpes virus once it is out of ner...</td>\n",
       "      <td>can we kill herpes virus once it is out of ner...</td>\n",
       "    </tr>\n",
       "    <tr>\n",
       "      <th>4</th>\n",
       "      <td>17564.0</td>\n",
       "      <td>what are some tips for cleaning eye glasses</td>\n",
       "      <td>what is the best way to clean a pair of eye gl...</td>\n",
       "    </tr>\n",
       "  </tbody>\n",
       "</table>\n",
       "</div>"
      ],
      "text/plain": [
       "        id                                    q1_preprocessed  \\\n",
       "0  13341.0  can people see i watched their videos while st...   \n",
       "1   1534.0  what are some of the most misheard song lyrics...   \n",
       "2   7111.0                      how can i stop getting scared   \n",
       "3   7444.0  can we kill herpes virus once it is out of ner...   \n",
       "4  17564.0        what are some tips for cleaning eye glasses   \n",
       "\n",
       "                                     q2_preprocessed  \n",
       "0               how can i see who views my instagram  \n",
       "1  what are some of your favorite misheard song l...  \n",
       "2          what is the best way to stop being scared  \n",
       "3  can we kill herpes virus once it is out of ner...  \n",
       "4  what is the best way to clean a pair of eye gl...  "
      ]
     },
     "execution_count": 33,
     "metadata": {},
     "output_type": "execute_result"
    }
   ],
   "source": [
    "X_train.head()"
   ]
  },
  {
   "cell_type": "markdown",
   "id": "837c6fcb-8d6a-4066-83c6-0b411c953872",
   "metadata": {},
   "source": [
    "## Tokenising input text"
   ]
  },
  {
   "cell_type": "code",
   "execution_count": 34,
   "id": "44426730-f927-4106-8b0b-4390326578c4",
   "metadata": {},
   "outputs": [],
   "source": [
    "def building_vocab(df, columns=None):\n",
    "    \n",
    "    assert columns\n",
    "    \n",
    "    input_series = []\n",
    "    \n",
    "    for column in columns:\n",
    "        input_series += df[column].tolist()\n",
    "        \n",
    "    tokenized = [i.split() for i in input_series]\n",
    "        \n",
    "    # Building vocabulary\n",
    "    unique_words = ['<PAD>', '<UNK>'] + list(set(itertools.chain.from_iterable(tokenized)))\n",
    "    vocabulary = dict(zip(unique_words, range(len(unique_words))))\n",
    "\n",
    "    return vocabulary, len(vocabulary)"
   ]
  },
  {
   "cell_type": "code",
   "execution_count": 35,
   "id": "103461c1-cdba-45cc-9cfb-53eaf8cc2c8c",
   "metadata": {},
   "outputs": [],
   "source": [
    "def tokenizer_padding(input_series, max_len, vocabulary=None):\n",
    "\n",
    "    assert vocabulary\n",
    "    \n",
    "    if type(input_series)!=list:\n",
    "        try:\n",
    "            input_series = input_series.tolist()\n",
    "        except:\n",
    "            print (\"input_series must be list or of type which can be converter to list\")\n",
    "    \n",
    "    tokenized = [i.split() for i in input_series]\n",
    "    \n",
    "    # Encoding and padding\n",
    "    document = []\n",
    "    \n",
    "    for i in tokenized:\n",
    "        tok_sent = [vocabulary[j] if j in vocabulary else 1 for j in i]\n",
    "        document.append(tok_sent)\n",
    "        \n",
    "    for i in range(len(document)):\n",
    "        if len(document[i])<=max_len:\n",
    "            document[i] = [0]*(max_len-len(document[i])) + document[i]\n",
    "        else:\n",
    "            document[i] = document[i][-max_len:]\n",
    "            \n",
    "    output = [np.array(i) for i in document]\n",
    "\n",
    "    return np.vstack(output)"
   ]
  },
  {
   "cell_type": "code",
   "execution_count": 36,
   "id": "617ffb95-0c9b-4135-867e-f86c0ae1c9ee",
   "metadata": {},
   "outputs": [],
   "source": [
    "# Defining parameters for modeling\n",
    "max_length = seq_len = n_units = 50\n",
    "d_features = 32"
   ]
  },
  {
   "cell_type": "code",
   "execution_count": 37,
   "id": "df54689e-01fd-4304-b721-b5c924eb0a49",
   "metadata": {},
   "outputs": [],
   "source": [
    "# Building vocabulary\n",
    "X_train_vocab, X_train_vocab_size = building_vocab(X_train, columns=['q1_preprocessed', 'q2_preprocessed'])"
   ]
  },
  {
   "cell_type": "code",
   "execution_count": 38,
   "id": "4b0216b9-8d60-4b90-a08c-3db225b03ca7",
   "metadata": {
    "scrolled": true,
    "tags": []
   },
   "outputs": [
    {
     "data": {
      "text/plain": [
       "{'<PAD>': 0,\n",
       " '<UNK>': 1,\n",
       " '“free”': 2,\n",
       " 'consequence': 3,\n",
       " 'lowered': 4,\n",
       " 'weighlifiting': 5,\n",
       " 'spout': 6,\n",
       " 'madonna': 7,\n",
       " 'marries': 8,\n",
       " 'affect': 9,\n",
       " 'auburn': 10,\n",
       " 'inferiors': 11,\n",
       " 'governments': 12,\n",
       " 'aviations': 13,\n",
       " 'uid': 14,\n",
       " 'banksys': 15,\n",
       " 'guile': 16,\n",
       " 'connector': 17,\n",
       " 'mere': 18,\n",
       " 'citytownstate': 19,\n",
       " 'substances': 20,\n",
       " 'ren': 21,\n",
       " 'remarkably': 22,\n",
       " 'dasavathara': 23,\n",
       " 'formsservices': 24,\n",
       " 'ibirité': 25,\n",
       " 'tombstone': 26,\n",
       " 'iirc': 27,\n",
       " 'upperbound': 28,\n",
       " 'nested': 29,\n",
       " 'recieve': 30,\n",
       " 'activia': 31,\n",
       " 'disordered': 32,\n",
       " 'conceal': 33,\n",
       " 'smallest': 34,\n",
       " 'interphase': 35,\n",
       " 'coexisted': 36,\n",
       " 'heartland': 37,\n",
       " 'paypal': 38,\n",
       " 'usps': 39,\n",
       " 'pygame': 40,\n",
       " 'directing': 41,\n",
       " 'terrierborder': 42,\n",
       " 'uzumaki': 43,\n",
       " 'landlord': 44,\n",
       " 'seaplane': 45,\n",
       " 'abroad:': 46,\n",
       " 'piano': 47,\n",
       " 'orthognathic': 48,\n",
       " 'larg': 49,\n",
       " 'evaluating': 50,\n",
       " 'humiliating': 51,\n",
       " 'rockets': 52,\n",
       " 'brosnan': 53,\n",
       " 'podcast': 54,\n",
       " 'adviser': 55,\n",
       " 'pitts': 56,\n",
       " 'work:': 57,\n",
       " 'muffled': 58,\n",
       " 'nsaid': 59,\n",
       " 'reunificaton': 60,\n",
       " 'strawberries': 61,\n",
       " 'mariadb': 62,\n",
       " 'iitsiims': 63,\n",
       " 'untold': 64,\n",
       " 'polygamous': 65,\n",
       " 'regulation': 66,\n",
       " 'thermoflask': 67,\n",
       " 'seperatiat': 68,\n",
       " 'backdate': 69,\n",
       " 'waited': 70,\n",
       " 'jha': 71,\n",
       " 'costing': 72,\n",
       " 'describing': 73,\n",
       " 'hdfc': 74,\n",
       " 'adelson': 75,\n",
       " 'forany': 76,\n",
       " 'ablution': 77,\n",
       " 'math\\\\displaystyle': 78,\n",
       " 'd': 79,\n",
       " 'cocho': 80,\n",
       " 'restriction': 81,\n",
       " 'empresses': 82,\n",
       " 'antibacterical': 83,\n",
       " 'vipassna': 84,\n",
       " 'nonacademic': 85,\n",
       " 'shayari': 86,\n",
       " 'foundations': 87,\n",
       " 'discharge': 88,\n",
       " 'cadillac': 89,\n",
       " 'allenbradley': 90,\n",
       " 'craze': 91,\n",
       " 'skit': 92,\n",
       " 'losed': 93,\n",
       " 'spect': 94,\n",
       " 'hadoopmapreduce': 95,\n",
       " 'remained': 96,\n",
       " 'flipping': 97,\n",
       " 'ppo': 98,\n",
       " 'एक': 99,\n",
       " 'reply…': 100,\n",
       " 'transvestite': 101,\n",
       " 'anyway': 102,\n",
       " 'certain': 103,\n",
       " 'ph=': 104,\n",
       " 'mim': 105,\n",
       " 'sociologists': 106,\n",
       " 'do': 107,\n",
       " 'sulfate': 108,\n",
       " 'bhms': 109,\n",
       " 'case:': 110,\n",
       " 'reevaluate': 111,\n",
       " 'retention': 112,\n",
       " 'responsability': 113,\n",
       " 'intersed': 114,\n",
       " 'got': 115,\n",
       " 'touchscreens': 116,\n",
       " 'shiamajority': 117,\n",
       " 'inputs': 118,\n",
       " 'does': 119,\n",
       " 'disappeared': 120,\n",
       " 'n': 121,\n",
       " 'proportions': 122,\n",
       " 'tetraphosphorus': 123,\n",
       " 'ajay': 124,\n",
       " 'eyebrow': 125,\n",
       " 'cheap': 126,\n",
       " 'cat': 127,\n",
       " 'vertically': 128,\n",
       " 'anchoring': 129,\n",
       " 'romans': 130,\n",
       " 'tashkentuzbekistanussr': 131,\n",
       " 'collie': 132,\n",
       " 'proprietorship': 133,\n",
       " 'maidsama': 134,\n",
       " 'engalnd': 135,\n",
       " 'qed:': 136,\n",
       " 'sugars': 137,\n",
       " 'portrayed': 138,\n",
       " 'spartan': 139,\n",
       " 'charts': 140,\n",
       " 'sangheli': 141,\n",
       " 'autumn': 142,\n",
       " 'ira': 143,\n",
       " 'what´s': 144,\n",
       " 'deductive': 145,\n",
       " '‘psychologist’': 146,\n",
       " 'havard': 147,\n",
       " 'workmanship': 148,\n",
       " 'autocorrelation': 149,\n",
       " 'sects': 150,\n",
       " 'anagrow': 151,\n",
       " 'graduation': 152,\n",
       " 'codeine': 153,\n",
       " 'haalathu': 154,\n",
       " 'celebritys': 155,\n",
       " 'disgrace': 156,\n",
       " 'ri': 157,\n",
       " 'arpdau': 158,\n",
       " 'shivering': 159,\n",
       " 'gold': 160,\n",
       " 'deposited': 161,\n",
       " 'carlo:': 162,\n",
       " 'engineer': 163,\n",
       " 'vashikaran': 164,\n",
       " 'yearsconsulted': 165,\n",
       " 'inhalers': 166,\n",
       " 'electrically': 167,\n",
       " 'caltech': 168,\n",
       " 'iodine': 169,\n",
       " 'cofounder': 170,\n",
       " 'gymnast': 171,\n",
       " 'worn': 172,\n",
       " 'lesleyleslielydiacheryl': 173,\n",
       " 'bulgakov': 174,\n",
       " 'bending': 175,\n",
       " 'definite': 176,\n",
       " 'ask': 177,\n",
       " 'gridconnected': 178,\n",
       " 'icoas': 179,\n",
       " 'mercilessly': 180,\n",
       " 'needle': 181,\n",
       " 'swayamsevak': 182,\n",
       " 'laymens': 183,\n",
       " 'waless': 184,\n",
       " 'amygdala': 185,\n",
       " 'meizu': 186,\n",
       " 'albany': 187,\n",
       " 'refuel': 188,\n",
       " 'eca': 189,\n",
       " 'pqr': 190,\n",
       " 'shops': 191,\n",
       " 'mastiffpitbull': 192,\n",
       " 'alabama': 193,\n",
       " 'mavis': 194,\n",
       " 'piperlongumine': 195,\n",
       " 'studenti': 196,\n",
       " 'lingam': 197,\n",
       " 'ebooks:': 198,\n",
       " 'antutu': 199,\n",
       " 'fennec': 200,\n",
       " 'annualcreditreportcom': 201,\n",
       " 'stdoletlb': 202,\n",
       " 'artemis': 203,\n",
       " 'couple': 204,\n",
       " 'mexicos': 205,\n",
       " 'personanimals': 206,\n",
       " 'edrum': 207,\n",
       " 'for': 208,\n",
       " 'defied': 209,\n",
       " 'humidity': 210,\n",
       " 'ê': 211,\n",
       " 'improvment': 212,\n",
       " 'pattanaik': 213,\n",
       " 'tossed': 214,\n",
       " 'irreducible': 215,\n",
       " 'biotechnologycan': 216,\n",
       " 'idyllic': 217,\n",
       " 'vellore': 218,\n",
       " 'emptiest': 219,\n",
       " 'phychology': 220,\n",
       " 'circumstance': 221,\n",
       " 'alloys': 222,\n",
       " 'pipettes': 223,\n",
       " 'gripen': 224,\n",
       " 'earphone': 225,\n",
       " 'belongs': 226,\n",
       " 'cocosdx': 227,\n",
       " 'guts': 228,\n",
       " 'subsidiary': 229,\n",
       " 'morose': 230,\n",
       " 'nissan': 231,\n",
       " 'conversion': 232,\n",
       " 'grades': 233,\n",
       " 'reduces': 234,\n",
       " 'tanksspgs': 235,\n",
       " 'excercises': 236,\n",
       " 'computer': 237,\n",
       " 'hv': 238,\n",
       " 'safesearch': 239,\n",
       " 'diagrams:': 240,\n",
       " 'controlled': 241,\n",
       " 'orbits': 242,\n",
       " 'invaded': 243,\n",
       " 'idealized': 244,\n",
       " 'freepostcodelotterycom': 245,\n",
       " 'lame': 246,\n",
       " 'katcr': 247,\n",
       " 'webmd': 248,\n",
       " 'jo': 249,\n",
       " 'noncreamy': 250,\n",
       " 'basemen': 251,\n",
       " 'bpt': 252,\n",
       " 'patented': 253,\n",
       " 'rubeus': 254,\n",
       " 'energies': 255,\n",
       " 'austen': 256,\n",
       " 'malta': 257,\n",
       " 'preliminary': 258,\n",
       " 'panama': 259,\n",
       " 'cyan': 260,\n",
       " 'seebeck': 261,\n",
       " 'throughput': 262,\n",
       " 'tlatelolco': 263,\n",
       " 'tildenotation': 264,\n",
       " 'browneyed': 265,\n",
       " 'flagged': 266,\n",
       " 'iteration': 267,\n",
       " 'anonfilescom': 268,\n",
       " 'april': 269,\n",
       " 'sachs': 270,\n",
       " 'lerman': 271,\n",
       " 'nfs:': 272,\n",
       " 'stripe': 273,\n",
       " 'wu': 274,\n",
       " 'unsung': 275,\n",
       " 'latvian': 276,\n",
       " 'danepit': 277,\n",
       " 'bluecollar': 278,\n",
       " 'glu': 279,\n",
       " 'nonelectric': 280,\n",
       " 'successors': 281,\n",
       " 'distribution': 282,\n",
       " 'rebar': 283,\n",
       " 'davis': 284,\n",
       " 'knobs': 285,\n",
       " 'intercoms': 286,\n",
       " 'ramayana': 287,\n",
       " 'diehard': 288,\n",
       " 'ऐहंकार': 289,\n",
       " 'mains': 290,\n",
       " 'bfgf': 291,\n",
       " 'juliet': 292,\n",
       " 'listenonrepeatcom': 293,\n",
       " 'hazmat': 294,\n",
       " 'whiting': 295,\n",
       " 'panroma': 296,\n",
       " 'refundable': 297,\n",
       " 'x:': 298,\n",
       " 'gandhiji': 299,\n",
       " 'mathuvmath': 300,\n",
       " 'rightclick': 301,\n",
       " 'patronus': 302,\n",
       " 'worry': 303,\n",
       " 'divorce': 304,\n",
       " 'stills': 305,\n",
       " '+\\\\beta': 306,\n",
       " 'niche': 307,\n",
       " 'animating': 308,\n",
       " 'daisy': 309,\n",
       " 'horniest': 310,\n",
       " 'plays': 311,\n",
       " 'christian’s': 312,\n",
       " 'incoming': 313,\n",
       " 'fitted': 314,\n",
       " 'bhim': 315,\n",
       " 'cracked': 316,\n",
       " 'mba:': 317,\n",
       " 'biography': 318,\n",
       " 'injury:': 319,\n",
       " 'rtf': 320,\n",
       " 'wildest': 321,\n",
       " 'complaining': 322,\n",
       " '精神': 323,\n",
       " 'asean': 324,\n",
       " 'commemorate': 325,\n",
       " 'angularjs': 326,\n",
       " 'kern': 327,\n",
       " 'thunderbird': 328,\n",
       " 'tomoe': 329,\n",
       " 'preys': 330,\n",
       " 'substitution': 331,\n",
       " '打关系': 332,\n",
       " 'slips': 333,\n",
       " 'reconciliation': 334,\n",
       " 'patnitop': 335,\n",
       " 'allocator': 336,\n",
       " 'lendlease': 337,\n",
       " 'mcm': 338,\n",
       " 'highlighted': 339,\n",
       " 'occult': 340,\n",
       " 'contributing': 341,\n",
       " 'selfdiscipline': 342,\n",
       " 'deneuve:': 343,\n",
       " 'tungsten': 344,\n",
       " 'resarchgate': 345,\n",
       " 'accessories': 346,\n",
       " 'scenarios': 347,\n",
       " 'bai': 348,\n",
       " 'changer': 349,\n",
       " 'audiobooks': 350,\n",
       " 'denominations': 351,\n",
       " 'mutualism': 352,\n",
       " 'wronging': 353,\n",
       " 'firstever': 354,\n",
       " 'yellowstone': 355,\n",
       " 'oba': 356,\n",
       " 'salvador': 357,\n",
       " 'paresthesia': 358,\n",
       " 'ty': 359,\n",
       " 'americanbritish': 360,\n",
       " 'mortage': 361,\n",
       " 'competitive': 362,\n",
       " 'amphibians': 363,\n",
       " 'qualified': 364,\n",
       " 'rexnord': 365,\n",
       " 'misappropriation': 366,\n",
       " 'evil': 367,\n",
       " 'doms': 368,\n",
       " 'ayman': 369,\n",
       " 'huddle': 370,\n",
       " 'comparing': 371,\n",
       " 'raison': 372,\n",
       " 'indirect': 373,\n",
       " 'olivera': 374,\n",
       " 'grandchildren': 375,\n",
       " 'halcon': 376,\n",
       " 'chromosomes': 377,\n",
       " 'upbihar': 378,\n",
       " 'truecrditcom': 379,\n",
       " 'abitur': 380,\n",
       " 'malignant': 381,\n",
       " 'responding”': 382,\n",
       " 'citytownvillageany': 383,\n",
       " 'calibration': 384,\n",
       " 'coders': 385,\n",
       " '\\u200e': 386,\n",
       " 'clearcast': 387,\n",
       " 'sauron': 388,\n",
       " 'multiplechoice': 389,\n",
       " 'never': 390,\n",
       " 'kosher': 391,\n",
       " 'subscribed': 392,\n",
       " '±': 393,\n",
       " 'weren’t': 394,\n",
       " 'quizzing': 395,\n",
       " 'kohlis': 396,\n",
       " 'reaserchs': 397,\n",
       " 'math:': 398,\n",
       " 'ssl': 399,\n",
       " 'of”': 400,\n",
       " 'nazgul': 401,\n",
       " 'spectator': 402,\n",
       " 'filtered': 403,\n",
       " 'admittance': 404,\n",
       " 'grid': 405,\n",
       " 'augmentin': 406,\n",
       " 'esteem': 407,\n",
       " 'kitchener': 408,\n",
       " 'sukhoi': 409,\n",
       " 'equilateral': 410,\n",
       " 'airtime': 411,\n",
       " 'vocal': 412,\n",
       " 'accusations': 413,\n",
       " 'sunrises': 414,\n",
       " 'hold': 415,\n",
       " 'folks': 416,\n",
       " 'berkuliahcom': 417,\n",
       " 'gawking': 418,\n",
       " 'launching': 419,\n",
       " 'harivamsa': 420,\n",
       " 'coming': 421,\n",
       " 'completition': 422,\n",
       " 'pets': 423,\n",
       " 'panentheism': 424,\n",
       " 'hind': 425,\n",
       " 'chloe': 426,\n",
       " 'fest': 427,\n",
       " 'colonised': 428,\n",
       " 'rewriting': 429,\n",
       " 'math\\\\alpha=\\\\frac\\\\lambda_c\\\\lambda_\\\\inftymath': 430,\n",
       " 'charisma': 431,\n",
       " 'tribromoacetic': 432,\n",
       " 'perpetual': 433,\n",
       " 'hangover': 434,\n",
       " 'africaasiaeurope': 435,\n",
       " 'goods': 436,\n",
       " 'lansdowne': 437,\n",
       " 'adjustment': 438,\n",
       " 'worshipping': 439,\n",
       " 'zidane': 440,\n",
       " 'graces': 441,\n",
       " 'commentsanswers': 442,\n",
       " 'translations': 443,\n",
       " 'candidate’s': 444,\n",
       " 'pakistaneast': 445,\n",
       " 'bename': 446,\n",
       " 'amur': 447,\n",
       " 'nominee': 448,\n",
       " 'neglect': 449,\n",
       " 'crossdresser': 450,\n",
       " 'mills': 451,\n",
       " 'wasp': 452,\n",
       " 'rummy': 453,\n",
       " 'pokemón': 454,\n",
       " 'torrance': 455,\n",
       " 'compiler': 456,\n",
       " 'prosecute': 457,\n",
       " 'job': 458,\n",
       " 'ideologically': 459,\n",
       " 'rpg': 460,\n",
       " 'smalltalk': 461,\n",
       " 'government:': 462,\n",
       " 'nanjing': 463,\n",
       " 'baler': 464,\n",
       " 'ankles': 465,\n",
       " 'beast': 466,\n",
       " 'substantial': 467,\n",
       " 'flatsigned': 468,\n",
       " 'loco': 469,\n",
       " 'rogaine': 470,\n",
       " 'anger': 471,\n",
       " 'polyethylene': 472,\n",
       " 'gain': 473,\n",
       " 'divert': 474,\n",
       " 'ohms': 475,\n",
       " 'winland': 476,\n",
       " 'hypoxia': 477,\n",
       " 'showrooms': 478,\n",
       " 'ignition': 479,\n",
       " 'marketeer': 480,\n",
       " 'crypts': 481,\n",
       " 'contend': 482,\n",
       " 'photographygraphic': 483,\n",
       " 'blackbird': 484,\n",
       " 'consciously': 485,\n",
       " 'verizon': 486,\n",
       " 'vacuoles': 487,\n",
       " 'textbooks': 488,\n",
       " 'acsm': 489,\n",
       " 'swallowed': 490,\n",
       " 'culturefoodcountry': 491,\n",
       " 'adfree': 492,\n",
       " 'tableau': 493,\n",
       " 'overused': 494,\n",
       " 'virtualbox': 495,\n",
       " 'andor': 496,\n",
       " 'baháí': 497,\n",
       " 'pomades': 498,\n",
       " 'laryngopharyngeal': 499,\n",
       " 'chingam': 500,\n",
       " 'twt': 501,\n",
       " 'tum': 502,\n",
       " 'ancestor': 503,\n",
       " 'slept': 504,\n",
       " 'minors': 505,\n",
       " 'nôm': 506,\n",
       " 'avergers:': 507,\n",
       " 'devi': 508,\n",
       " 'nonhindi': 509,\n",
       " 'rentpurchase': 510,\n",
       " 'spatial': 511,\n",
       " 'sjf': 512,\n",
       " 'noneurope': 513,\n",
       " 'taut': 514,\n",
       " 'pancakeio': 515,\n",
       " 'annex': 516,\n",
       " 'tested': 517,\n",
       " 'biteshow': 518,\n",
       " 'kiev': 519,\n",
       " 'behavior': 520,\n",
       " 'swasthya': 521,\n",
       " 'dependant': 522,\n",
       " 'tutorialarticle': 523,\n",
       " 'etc:': 524,\n",
       " 'ouzo': 525,\n",
       " 'kindergarten': 526,\n",
       " 'reader': 527,\n",
       " 'rudraksha': 528,\n",
       " 'inspite': 529,\n",
       " 'cohort': 530,\n",
       " 'kamov': 531,\n",
       " 'jared': 532,\n",
       " 'secondhand': 533,\n",
       " 'xmen': 534,\n",
       " 'facilities': 535,\n",
       " 'toxins': 536,\n",
       " 'tetherball': 537,\n",
       " 'gutterroof': 538,\n",
       " 'soyuz': 539,\n",
       " 'plain': 540,\n",
       " 'odorwhat': 541,\n",
       " 'auxiliary': 542,\n",
       " 'drummers': 543,\n",
       " 'cr': 544,\n",
       " 'omgilicom': 545,\n",
       " 'amperes': 546,\n",
       " 'to:': 547,\n",
       " 'iskandar': 548,\n",
       " '“flipkart': 549,\n",
       " 'silencer': 550,\n",
       " 'blush': 551,\n",
       " 'please:': 552,\n",
       " 'hangul': 553,\n",
       " 'triggering': 554,\n",
       " 'funiculitis': 555,\n",
       " 'iclouds': 556,\n",
       " 'abandoned': 557,\n",
       " 'hydrophobic': 558,\n",
       " 'thames': 559,\n",
       " 'faction': 560,\n",
       " 'vibrate': 561,\n",
       " 'shounen': 562,\n",
       " 'dodon’t': 563,\n",
       " 'freckled': 564,\n",
       " 'dirt': 565,\n",
       " 'prcard': 566,\n",
       " 'ex': 567,\n",
       " 'probationary': 568,\n",
       " 'girlfriends': 569,\n",
       " 'rapes': 570,\n",
       " 'showering': 571,\n",
       " 'buenos': 572,\n",
       " 'hireds': 573,\n",
       " 'tangent': 574,\n",
       " 'cgi': 575,\n",
       " 'leopold': 576,\n",
       " 'mathy=e^x^math': 577,\n",
       " 'tcmgp': 578,\n",
       " 'stationery': 579,\n",
       " 'chapati': 580,\n",
       " 'cuts': 581,\n",
       " 'monopolistic': 582,\n",
       " 'supernova': 583,\n",
       " 'painting': 584,\n",
       " 'django': 585,\n",
       " 'untechnical': 586,\n",
       " 'knows': 587,\n",
       " 'macvim': 588,\n",
       " 'exin': 589,\n",
       " 'whoesale': 590,\n",
       " 'rookiefriendly': 591,\n",
       " 'traveler': 592,\n",
       " 'finale': 593,\n",
       " 'interventions': 594,\n",
       " 'superfood': 595,\n",
       " 'reemerging': 596,\n",
       " 'sdl': 597,\n",
       " 'dreams”': 598,\n",
       " '^y': 599,\n",
       " 'parsons': 600,\n",
       " 'threadsafe': 601,\n",
       " 'meepo': 602,\n",
       " 'klan': 603,\n",
       " 'certainly': 604,\n",
       " 'nest': 605,\n",
       " 'unicef': 606,\n",
       " 'hungama': 607,\n",
       " 'rom': 608,\n",
       " 'movement': 609,\n",
       " 'seventy': 610,\n",
       " 'fitters': 611,\n",
       " 'postmark': 612,\n",
       " 'orfield': 613,\n",
       " 'superconductor': 614,\n",
       " 'peoplesociety': 615,\n",
       " 'dilbert': 616,\n",
       " 'outwork': 617,\n",
       " 'ligation': 618,\n",
       " 'geils': 619,\n",
       " 'oils': 620,\n",
       " '…please': 621,\n",
       " 'haul': 622,\n",
       " 'marsdentrombas': 623,\n",
       " 'を': 624,\n",
       " 'wordnet': 625,\n",
       " 'isles': 626,\n",
       " 'hospice': 627,\n",
       " 'headscarf': 628,\n",
       " 'resistivity': 629,\n",
       " 'rock': 630,\n",
       " 'absence': 631,\n",
       " 'hoping': 632,\n",
       " 'coke': 633,\n",
       " 'quietly': 634,\n",
       " 'seeds': 635,\n",
       " 'sodium': 636,\n",
       " 'montanans': 637,\n",
       " 'packet': 638,\n",
       " 'business': 639,\n",
       " 'lovable': 640,\n",
       " 'perfection': 641,\n",
       " 'wahan': 642,\n",
       " 'thunderstorm': 643,\n",
       " 'planet': 644,\n",
       " 'krispy': 645,\n",
       " 'exs': 646,\n",
       " 'xignite': 647,\n",
       " 'agricultural': 648,\n",
       " 'shri': 649,\n",
       " '‘traditional': 650,\n",
       " 'sumter': 651,\n",
       " 'hw': 652,\n",
       " 'nodules': 653,\n",
       " 'center': 654,\n",
       " 'clearinghouse': 655,\n",
       " 'mathuv': 656,\n",
       " 'comedk': 657,\n",
       " 'jharkhand': 658,\n",
       " 'porcini': 659,\n",
       " 'bml': 660,\n",
       " 'memory': 661,\n",
       " 'sensations': 662,\n",
       " 'muffin': 663,\n",
       " 'thankzzz': 664,\n",
       " 'weibo': 665,\n",
       " 'anomaly': 666,\n",
       " 'repel': 667,\n",
       " 'monavie': 668,\n",
       " 'testimony': 669,\n",
       " 'liang': 670,\n",
       " 'hotlist': 671,\n",
       " 'musthaves': 672,\n",
       " 'nintex': 673,\n",
       " 'oxenfords': 674,\n",
       " 'kai': 675,\n",
       " 'prostatomegaly': 676,\n",
       " 'publicize': 677,\n",
       " 'midwives': 678,\n",
       " 'messager': 679,\n",
       " 'features': 680,\n",
       " 'bullgreat': 681,\n",
       " 'justices': 682,\n",
       " 'zits': 683,\n",
       " 'acronyms:': 684,\n",
       " 'strangestfunniest': 685,\n",
       " 'chevy': 686,\n",
       " 'corresonding': 687,\n",
       " 'unorganized': 688,\n",
       " 'crossbreed': 689,\n",
       " 'requests': 690,\n",
       " 'hermes': 691,\n",
       " 'unsuited': 692,\n",
       " 'frontend': 693,\n",
       " 'healthcaregov': 694,\n",
       " 'amazinggirl': 695,\n",
       " 'highway': 696,\n",
       " 'delivering': 697,\n",
       " 'exeter': 698,\n",
       " 'perceiving': 699,\n",
       " 'screws': 700,\n",
       " '“in': 701,\n",
       " 'mirror': 702,\n",
       " 'parboil': 703,\n",
       " 'nonrenewable': 704,\n",
       " 'mechanics': 705,\n",
       " 'uxwise': 706,\n",
       " 'deathlyhallows': 707,\n",
       " 'celebrate': 708,\n",
       " 'treated': 709,\n",
       " 'gainers': 710,\n",
       " 'discovering': 711,\n",
       " 'peripheral': 712,\n",
       " 'chakra': 713,\n",
       " 'recourse': 714,\n",
       " 'commite': 715,\n",
       " 'album': 716,\n",
       " 'arjun': 717,\n",
       " 'customised': 718,\n",
       " 'applicationproduction': 719,\n",
       " 'kakkabe': 720,\n",
       " 'tracy': 721,\n",
       " 'rapture': 722,\n",
       " 'referendum': 723,\n",
       " 'rmm': 724,\n",
       " 'worrying': 725,\n",
       " 'graph': 726,\n",
       " 'nostrils': 727,\n",
       " 'hanson': 728,\n",
       " 'flop': 729,\n",
       " 'simps': 730,\n",
       " 'recycling': 731,\n",
       " 'rudra': 732,\n",
       " 'soles': 733,\n",
       " 'glória': 734,\n",
       " 'tampico': 735,\n",
       " 'computerit': 736,\n",
       " 'mined': 737,\n",
       " 'donation': 738,\n",
       " 'bale': 739,\n",
       " 'goalie': 740,\n",
       " 'malaysia': 741,\n",
       " 'preserve': 742,\n",
       " 'between:': 743,\n",
       " 'ending': 744,\n",
       " 'supervisor': 745,\n",
       " 'rasoi': 746,\n",
       " 'clones': 747,\n",
       " 'provocation': 748,\n",
       " 'tymk': 749,\n",
       " '“li': 750,\n",
       " 'camels': 751,\n",
       " 'petersburg': 752,\n",
       " 'graduates': 753,\n",
       " 'karkare': 754,\n",
       " 'admissionplease': 755,\n",
       " 'hopper': 756,\n",
       " 'compliant': 757,\n",
       " 'torched': 758,\n",
       " 'kinect': 759,\n",
       " 'siskiyou': 760,\n",
       " 'webmaster': 761,\n",
       " 'non': 762,\n",
       " 'pathankot': 763,\n",
       " 'philadelphia': 764,\n",
       " 'meteor': 765,\n",
       " 'jagga': 766,\n",
       " 'edcuation': 767,\n",
       " '隐忍': 768,\n",
       " 'dominated': 769,\n",
       " 'sandcastles': 770,\n",
       " 'beteween': 771,\n",
       " 'omegle': 772,\n",
       " 'cameron': 773,\n",
       " 'icup': 774,\n",
       " 'gravest': 775,\n",
       " 'readability': 776,\n",
       " 'thereal': 777,\n",
       " 'honors:': 778,\n",
       " 'aurangabad': 779,\n",
       " 'utilitarianism': 780,\n",
       " 'skyrim:': 781,\n",
       " 'hybridisation': 782,\n",
       " 'shot': 783,\n",
       " 'shinchan': 784,\n",
       " 'onwards': 785,\n",
       " 'inequality': 786,\n",
       " 'kvpy': 787,\n",
       " 'derive': 788,\n",
       " 'internetworking': 789,\n",
       " 'telliesmovies': 790,\n",
       " 'usbc': 791,\n",
       " 'secondly': 792,\n",
       " 'defined': 793,\n",
       " 'methode': 794,\n",
       " 'igf': 795,\n",
       " 'cribs': 796,\n",
       " 't^': 797,\n",
       " 'beirut': 798,\n",
       " 'rai': 799,\n",
       " 'authentic': 800,\n",
       " 'bless': 801,\n",
       " 'leste': 802,\n",
       " 'itselfwhat': 803,\n",
       " 'originals': 804,\n",
       " 'trip': 805,\n",
       " 'y=x': 806,\n",
       " 'uav': 807,\n",
       " 'prussia': 808,\n",
       " 'toughness': 809,\n",
       " 'darkdeep': 810,\n",
       " 'androgynous': 811,\n",
       " 'otranto': 812,\n",
       " 'hearts': 813,\n",
       " 'inspiron': 814,\n",
       " 'granting': 815,\n",
       " 'forgets': 816,\n",
       " 'speedmaster': 817,\n",
       " 'haisha': 818,\n",
       " 'intention': 819,\n",
       " 'filament': 820,\n",
       " 'flowers:': 821,\n",
       " 'trusty': 822,\n",
       " 'earbuds': 823,\n",
       " 'labradorshetland': 824,\n",
       " 'homepage': 825,\n",
       " 'fatwa': 826,\n",
       " 'sixthsense': 827,\n",
       " 'morphines': 828,\n",
       " 'remembrance': 829,\n",
       " 'scalar': 830,\n",
       " 'uae': 831,\n",
       " 'bidguruin': 832,\n",
       " 'sights': 833,\n",
       " 'stardom': 834,\n",
       " 'sublimation': 835,\n",
       " 'donning': 836,\n",
       " 'officier': 837,\n",
       " 'tinders': 838,\n",
       " 'clothings': 839,\n",
       " 'epsiode': 840,\n",
       " 'pluralistic': 841,\n",
       " 'offbalancesheet': 842,\n",
       " 'cancer': 843,\n",
       " 'karger': 844,\n",
       " 'corning': 845,\n",
       " 'highlands': 846,\n",
       " 'creamon': 847,\n",
       " 'colorado': 848,\n",
       " 'tvlcds': 849,\n",
       " 'grub': 850,\n",
       " 'francium': 851,\n",
       " 'safest': 852,\n",
       " 'iiscian': 853,\n",
       " 'lemoa': 854,\n",
       " 'benito': 855,\n",
       " 'rubik’s': 856,\n",
       " 'mesra': 857,\n",
       " 'nothing': 858,\n",
       " 'mentalist': 859,\n",
       " 'coursetraining': 860,\n",
       " 'stern': 861,\n",
       " 'kakigardencom': 862,\n",
       " 'hectometers': 863,\n",
       " 'loading': 864,\n",
       " 'infection': 865,\n",
       " 'waxes': 866,\n",
       " 'netural': 867,\n",
       " 'genesis': 868,\n",
       " 'viscosity': 869,\n",
       " 'ayaz': 870,\n",
       " 'flight': 871,\n",
       " 'tusks': 872,\n",
       " 'itraconazole': 873,\n",
       " 'fictions': 874,\n",
       " 'chanell': 875,\n",
       " 'archipelago': 876,\n",
       " 'mdh': 877,\n",
       " 'breather': 878,\n",
       " 'serie': 879,\n",
       " 'ahmedabad': 880,\n",
       " 'interactive:': 881,\n",
       " 'evans': 882,\n",
       " 'so': 883,\n",
       " 'na': 884,\n",
       " 'residual': 885,\n",
       " 'precure': 886,\n",
       " 'tuning': 887,\n",
       " 'acetylation': 888,\n",
       " 'uma': 889,\n",
       " 'snan': 890,\n",
       " 'sixties': 891,\n",
       " 'support': 892,\n",
       " 'ida': 893,\n",
       " 'griffiths': 894,\n",
       " 'inelasticity': 895,\n",
       " 'shanxi': 896,\n",
       " 'selfishness': 897,\n",
       " 'nonbelievers': 898,\n",
       " 'anthropogenic': 899,\n",
       " 'malay': 900,\n",
       " 'sata': 901,\n",
       " 'panchatantra': 902,\n",
       " 'luxuriously': 903,\n",
       " 'voyagers': 904,\n",
       " 'sodas': 905,\n",
       " 'quarterly': 906,\n",
       " 'thrash': 907,\n",
       " 'monroe': 908,\n",
       " 'leeenfield': 909,\n",
       " 'clicks': 910,\n",
       " 'bubble': 911,\n",
       " 'solidworks': 912,\n",
       " 'storylines': 913,\n",
       " 'fluffer': 914,\n",
       " 'yep': 915,\n",
       " 'apps': 916,\n",
       " 'sync': 917,\n",
       " 'masood': 918,\n",
       " 'malleable': 919,\n",
       " 'content': 920,\n",
       " 'ulcers': 921,\n",
       " 'sjw': 922,\n",
       " 'cognizant': 923,\n",
       " 'mediterraneans': 924,\n",
       " 'managercoach': 925,\n",
       " 'targetingtypes': 926,\n",
       " 'meat': 927,\n",
       " 'lucas': 928,\n",
       " 'cappexcom': 929,\n",
       " 'enigmatic': 930,\n",
       " 'revie': 931,\n",
       " 'esn': 932,\n",
       " 'bao': 933,\n",
       " 'diss': 934,\n",
       " 'pullups': 935,\n",
       " 'pythons': 936,\n",
       " 'attitudepersonality': 937,\n",
       " 'travellingtripscom': 938,\n",
       " 'pimplesacne': 939,\n",
       " 'abdominal': 940,\n",
       " '“tell': 941,\n",
       " 'wrecking': 942,\n",
       " 'naval': 943,\n",
       " 'bedi': 944,\n",
       " 'ghoswami': 945,\n",
       " 'ibrahim': 946,\n",
       " 'chow’s': 947,\n",
       " 'gixxer': 948,\n",
       " 'recommender': 949,\n",
       " 'persepolis': 950,\n",
       " 'heater': 951,\n",
       " 'sixth': 952,\n",
       " 'fond': 953,\n",
       " 'constantinople': 954,\n",
       " 'cigaratte': 955,\n",
       " 'puzzling': 956,\n",
       " 'bucketfill': 957,\n",
       " 'name:': 958,\n",
       " 'centuries': 959,\n",
       " 'wozniak': 960,\n",
       " 'localbanyacom': 961,\n",
       " 'outlineletter': 962,\n",
       " 'recruiting': 963,\n",
       " 'casting': 964,\n",
       " 'b+k': 965,\n",
       " 'issue': 966,\n",
       " 'bulgarians': 967,\n",
       " 'coffee': 968,\n",
       " 'evaluation': 969,\n",
       " 'lyx': 970,\n",
       " 'ocjp': 971,\n",
       " 'merced': 972,\n",
       " 'firstworld': 973,\n",
       " 'gamesjobsdirect': 974,\n",
       " 'indian': 975,\n",
       " 'eunuch': 976,\n",
       " 'novelmovie': 977,\n",
       " 'unhide': 978,\n",
       " 'fiddling': 979,\n",
       " 'nhai': 980,\n",
       " '“rfe': 981,\n",
       " 'cbi': 982,\n",
       " 'eliminate': 983,\n",
       " 'baregama': 984,\n",
       " 'jokes': 985,\n",
       " 'nomaj': 986,\n",
       " 'greed': 987,\n",
       " 'hearsay': 988,\n",
       " 'simulated': 989,\n",
       " 'cheques': 990,\n",
       " 'commune': 991,\n",
       " 'machiavellis': 992,\n",
       " 'hostesses': 993,\n",
       " 'twist': 994,\n",
       " 'cello': 995,\n",
       " '+=_____': 996,\n",
       " 'accessexcel': 997,\n",
       " 'coolie': 998,\n",
       " 'symphony': 999,\n",
       " ...}"
      ]
     },
     "execution_count": 38,
     "metadata": {},
     "output_type": "execute_result"
    }
   ],
   "source": [
    "X_train_vocab"
   ]
  },
  {
   "cell_type": "code",
   "execution_count": 39,
   "id": "bb8e5723-ac24-4c58-858d-d166a29fdae4",
   "metadata": {},
   "outputs": [],
   "source": [
    "X_train_anchor_padded_doc= tokenizer_padding(X_train.q1_preprocessed, max_len=max_length, vocabulary=X_train_vocab)\n",
    "X_val_anchor_padded_doc = tokenizer_padding(X_val.q1_preprocessed, max_len=max_length, vocabulary=X_train_vocab)\n",
    "X_test_anchor_padded_doc = tokenizer_padding(X_test.q1_preprocessed, max_len=max_length, vocabulary=X_train_vocab)\n",
    "\n",
    "X_train_comparison_padded_doc= tokenizer_padding(X_train.q2_preprocessed, max_len=max_length, vocabulary=X_train_vocab)\n",
    "X_val_comparison_padded_doc = tokenizer_padding(X_val.q2_preprocessed, max_len=max_length, vocabulary=X_train_vocab)\n",
    "X_test_comparison_padded_doc = tokenizer_padding(X_test.q2_preprocessed, max_len=max_length, vocabulary=X_train_vocab)"
   ]
  },
  {
   "cell_type": "markdown",
   "id": "d6e73bd8-dcf8-425d-9c4d-d8dc56f98ca6",
   "metadata": {},
   "source": [
    "### Validating data sequence and pairs"
   ]
  },
  {
   "cell_type": "code",
   "execution_count": 40,
   "id": "e0f5cee5-3891-42d6-a165-e6a6e5192259",
   "metadata": {},
   "outputs": [
    {
     "data": {
      "text/plain": [
       "array([[    0,     0,     0,     0,     0,     0,     0,     0,     0,\n",
       "            0,     0,     0,     0,     0,     0,     0,     0,     0,\n",
       "            0,     0,     0,     0,     0,     0,     0,     0,     0,\n",
       "            0,     0,     0,     0,     0,     0,     0,     0,     0,\n",
       "            0,     0,  3464, 28409, 13598,  3241, 37736, 18760,  6044,\n",
       "        31171, 33172,  6953, 45036,  7328]])"
      ]
     },
     "execution_count": 40,
     "metadata": {},
     "output_type": "execute_result"
    }
   ],
   "source": [
    "X_train_anchor_padded_doc[:1]"
   ]
  },
  {
   "cell_type": "code",
   "execution_count": 41,
   "id": "ecdadd1d-666e-4320-8055-cb2ddd8b10d2",
   "metadata": {},
   "outputs": [
    {
     "data": {
      "text/plain": [
       "array([[    0,     0,     0,     0,     0,     0,     0,     0,     0,\n",
       "            0,     0,     0,     0,     0,     0,     0,     0,     0,\n",
       "            0,     0,     0,     0,     0,     0,     0,     0,     0,\n",
       "            0,     0,     0,     0,     0,     0,     0,     0,     0,\n",
       "            0,     0,     0,     0,     0,     0,  2928,  3464,  3241,\n",
       "        13598, 17921,  3325, 40930,  7328]])"
      ]
     },
     "execution_count": 41,
     "metadata": {},
     "output_type": "execute_result"
    }
   ],
   "source": [
    "X_train_comparison_padded_doc[:1]"
   ]
  },
  {
   "cell_type": "code",
   "execution_count": 42,
   "id": "2c41ab3a-e268-4e16-9f79-31eeddef89a9",
   "metadata": {},
   "outputs": [
    {
     "data": {
      "text/plain": [
       "id                                                           13341.0\n",
       "q1_preprocessed    can people see i watched their videos while st...\n",
       "q2_preprocessed                 how can i see who views my instagram\n",
       "Name: 0, dtype: object"
      ]
     },
     "execution_count": 42,
     "metadata": {},
     "output_type": "execute_result"
    }
   ],
   "source": [
    "X_train.iloc[0,:]"
   ]
  },
  {
   "cell_type": "code",
   "execution_count": 43,
   "id": "d8b8374c-28c2-4fd9-b7f2-b4a740f807e0",
   "metadata": {},
   "outputs": [
    {
     "data": {
      "text/plain": [
       "'can people see i watched their videos while stalking them on instagram'"
      ]
     },
     "execution_count": 43,
     "metadata": {},
     "output_type": "execute_result"
    }
   ],
   "source": [
    "X_train.iloc[0,:]['q1_preprocessed']"
   ]
  },
  {
   "cell_type": "code",
   "execution_count": 44,
   "id": "8b2ebe85-6afd-4a94-859b-6f77f7647e5e",
   "metadata": {},
   "outputs": [
    {
     "data": {
      "text/plain": [
       "'how can i see who views my instagram'"
      ]
     },
     "execution_count": 44,
     "metadata": {},
     "output_type": "execute_result"
    }
   ],
   "source": [
    "X_train.iloc[0,:]['q2_preprocessed']"
   ]
  },
  {
   "cell_type": "code",
   "execution_count": 45,
   "id": "1562bfce-d5cd-41da-b1f8-1d867f873b99",
   "metadata": {},
   "outputs": [],
   "source": [
    "a = tokenizer_padding([X_train.iloc[0,:]['q1_preprocessed']], max_len=max_length, vocabulary=X_train_vocab)\n",
    "b = tokenizer_padding([X_train.iloc[0,:]['q2_preprocessed']], max_len=max_length, vocabulary=X_train_vocab)"
   ]
  },
  {
   "cell_type": "code",
   "execution_count": 46,
   "id": "e4343024-3b56-4e30-8964-53c82d5da111",
   "metadata": {},
   "outputs": [
    {
     "data": {
      "text/plain": [
       "array([[    0,     0,     0,     0,     0,     0,     0,     0,     0,\n",
       "            0,     0,     0,     0,     0,     0,     0,     0,     0,\n",
       "            0,     0,     0,     0,     0,     0,     0,     0,     0,\n",
       "            0,     0,     0,     0,     0,     0,     0,     0,     0,\n",
       "            0,     0,  3464, 28409, 13598,  3241, 37736, 18760,  6044,\n",
       "        31171, 33172,  6953, 45036,  7328]])"
      ]
     },
     "execution_count": 46,
     "metadata": {},
     "output_type": "execute_result"
    }
   ],
   "source": [
    "a"
   ]
  },
  {
   "cell_type": "code",
   "execution_count": 47,
   "id": "d2a82d43-0749-4b61-8b35-f864f2dd5905",
   "metadata": {},
   "outputs": [
    {
     "data": {
      "text/plain": [
       "array([[    0,     0,     0,     0,     0,     0,     0,     0,     0,\n",
       "            0,     0,     0,     0,     0,     0,     0,     0,     0,\n",
       "            0,     0,     0,     0,     0,     0,     0,     0,     0,\n",
       "            0,     0,     0,     0,     0,     0,     0,     0,     0,\n",
       "            0,     0,     0,     0,     0,     0,  2928,  3464,  3241,\n",
       "        13598, 17921,  3325, 40930,  7328]])"
      ]
     },
     "execution_count": 47,
     "metadata": {},
     "output_type": "execute_result"
    }
   ],
   "source": [
    "b"
   ]
  },
  {
   "cell_type": "code",
   "execution_count": 48,
   "id": "f661d8b2-9c28-436a-bdff-f476c6c743f0",
   "metadata": {},
   "outputs": [
    {
     "data": {
      "text/plain": [
       "1.0"
      ]
     },
     "execution_count": 48,
     "metadata": {},
     "output_type": "execute_result"
    }
   ],
   "source": [
    "y_train[0]"
   ]
  },
  {
   "cell_type": "code",
   "execution_count": 49,
   "id": "56c647d6-a9fb-4756-917f-8273f07758c5",
   "metadata": {},
   "outputs": [
    {
     "data": {
      "text/html": [
       "<div>\n",
       "<style scoped>\n",
       "    .dataframe tbody tr th:only-of-type {\n",
       "        vertical-align: middle;\n",
       "    }\n",
       "\n",
       "    .dataframe tbody tr th {\n",
       "        vertical-align: top;\n",
       "    }\n",
       "\n",
       "    .dataframe thead th {\n",
       "        text-align: right;\n",
       "    }\n",
       "</style>\n",
       "<table border=\"1\" class=\"dataframe\">\n",
       "  <thead>\n",
       "    <tr style=\"text-align: right;\">\n",
       "      <th></th>\n",
       "      <th>id</th>\n",
       "      <th>qid1</th>\n",
       "      <th>qid2</th>\n",
       "      <th>question1</th>\n",
       "      <th>question2</th>\n",
       "      <th>is_duplicate</th>\n",
       "    </tr>\n",
       "  </thead>\n",
       "  <tbody>\n",
       "  </tbody>\n",
       "</table>\n",
       "</div>"
      ],
      "text/plain": [
       "Empty DataFrame\n",
       "Columns: [id, qid1, qid2, question1, question2, is_duplicate]\n",
       "Index: []"
      ]
     },
     "execution_count": 49,
     "metadata": {},
     "output_type": "execute_result"
    }
   ],
   "source": [
    "df[df.id==386274]"
   ]
  },
  {
   "cell_type": "markdown",
   "id": "206e7598-9dbf-4125-afc0-ff423af880fd",
   "metadata": {},
   "source": [
    "## Preparing data for training"
   ]
  },
  {
   "cell_type": "code",
   "execution_count": 50,
   "id": "89e901cc-4ec9-4713-b97c-3666318c5031",
   "metadata": {},
   "outputs": [],
   "source": [
    "# Convert list to tensors\n",
    "train_X_anchor = torch.tensor(X_train_anchor_padded_doc)\n",
    "train_X_comparison = torch.tensor(X_train_comparison_padded_doc)\n",
    "train_y = torch.tensor(y_train.astype(float))\n",
    "\n",
    "test_X_anchor = torch.tensor(X_test_anchor_padded_doc)\n",
    "test_X_comparison = torch.tensor(X_test_comparison_padded_doc)\n",
    "test_y = torch.tensor(y_test.astype(float))\n",
    "\n",
    "val_X_anchor = torch.tensor(X_val_anchor_padded_doc)\n",
    "val_X_comparison = torch.tensor(X_val_comparison_padded_doc)\n",
    "val_y = torch.tensor(y_val.astype(float))"
   ]
  },
  {
   "cell_type": "code",
   "execution_count": 51,
   "id": "5f702a50-5879-4023-b80d-1a6a04006ab8",
   "metadata": {},
   "outputs": [],
   "source": [
    "# Define batch size\n",
    "batch_size = 64\n",
    "\n",
    "# FOR TRAINING\n",
    "# Wrap tensors\n",
    "train_data = TensorDataset(train_X_anchor, train_X_comparison, train_y)\n",
    "\n",
    "# Sampler for sampling the data during training\n",
    "train_sampler = RandomSampler(train_data)\n",
    "\n",
    "# Dataloader for train set\n",
    "train_dataloader = DataLoader(train_data, sampler=train_sampler, batch_size=batch_size)\n",
    "\n",
    "\n",
    "\n",
    "# FOR VALIDATING\n",
    "# Wrap tensors\n",
    "val_data = TensorDataset(val_X_anchor, val_X_comparison, val_y)\n",
    "\n",
    "# Sampler for sampling the data during validation for training\n",
    "val_sampler = SequentialSampler(val_data)\n",
    "\n",
    "# Dataloader for val set\n",
    "val_dataloader = DataLoader(val_data, sampler=val_sampler, batch_size=batch_size)"
   ]
  },
  {
   "cell_type": "markdown",
   "id": "8e7b1cb6-c9f8-4b08-a0f7-dfd89b21d529",
   "metadata": {},
   "source": [
    "## Modeling without class balancing?"
   ]
  },
  {
   "cell_type": "code",
   "execution_count": 52,
   "id": "44809e9d-8b45-4335-ba38-9728abce95f4",
   "metadata": {},
   "outputs": [],
   "source": [
    "w2v_model = gensim.models.KeyedVectors.load_word2vec_format('D:\\DSAI\\Pre-Trained Models\\word2vec\\GoogleNews-vectors-negative300.bin.gz', binary=True)"
   ]
  },
  {
   "cell_type": "code",
   "execution_count": 53,
   "id": "9b8ad58c-7abc-4243-bc4e-ce6cc609ae55",
   "metadata": {},
   "outputs": [
    {
     "data": {
      "text/plain": [
       "(47074, 300)"
      ]
     },
     "execution_count": 53,
     "metadata": {},
     "output_type": "execute_result"
    }
   ],
   "source": [
    "# Getting embedding matrix for pre-trained Word2Vec model\n",
    "embeddings_index = dict()\n",
    "\n",
    "# We will populate the embeddings_index dictionary with all the key<->vector pairs in the Word2Vec model\n",
    "for line in range(len(w2v_model.index_to_key)):\n",
    "    embeddings_index[w2v_model.index_to_key[line]] = w2v_model.get_vector(w2v_model.index_to_key[line])\n",
    "    \n",
    "# Create a weight matrix for words in training docs\n",
    "embedding_matrix = np.zeros((X_train_vocab_size, 300)) # Change X_train_vocab_size\n",
    "for word, i in X_train_vocab.items():\n",
    "    embedding_vector = embeddings_index.get(word)\n",
    "    if embedding_vector is not None:\n",
    "        embedding_matrix[i] = embedding_vector\n",
    "        \n",
    "embedding_matrix.shape"
   ]
  },
  {
   "cell_type": "code",
   "execution_count": 54,
   "id": "94e12c2f-a438-4000-9d75-64aa93f574ad",
   "metadata": {},
   "outputs": [
    {
     "data": {
      "text/plain": [
       "47074"
      ]
     },
     "execution_count": 54,
     "metadata": {},
     "output_type": "execute_result"
    }
   ],
   "source": [
    "X_train_vocab_size"
   ]
  },
  {
   "cell_type": "markdown",
   "id": "11f340e3-7d7f-49bc-abda-131f19872c9d",
   "metadata": {},
   "source": [
    "## Defining model"
   ]
  },
  {
   "cell_type": "code",
   "execution_count": 55,
   "id": "8b7edc8a-1c68-47d1-b2d1-4a34a4aa6d06",
   "metadata": {},
   "outputs": [],
   "source": [
    "# Defining parameters for modeling\n",
    "max_length = seq_len = n_units = 50\n",
    "d_features = 32"
   ]
  },
  {
   "cell_type": "code",
   "execution_count": 56,
   "id": "a697ae1c-9fc0-483a-b4cc-b3a61b907db9",
   "metadata": {},
   "outputs": [
    {
     "data": {
      "text/plain": [
       "(47074, 300)"
      ]
     },
     "execution_count": 56,
     "metadata": {},
     "output_type": "execute_result"
    }
   ],
   "source": [
    "embedding_matrix.shape"
   ]
  },
  {
   "cell_type": "code",
   "execution_count": 57,
   "id": "71e10d6b-279d-44ce-a49e-4efb9af173f2",
   "metadata": {},
   "outputs": [
    {
     "name": "stderr",
     "output_type": "stream",
     "text": [
      "C:\\Users\\solom\\.conda\\envs\\nlp\\lib\\site-packages\\torch\\nn\\modules\\rnn.py:67: UserWarning: dropout option adds dropout after all but last recurrent layer, so non-zero dropout expects num_layers greater than 1, but got dropout=0.2 and num_layers=1\n",
      "  warnings.warn(\"dropout option adds dropout after all but last \"\n"
     ]
    }
   ],
   "source": [
    "encoder = Encoder(input_size=X_train_vocab_size,\n",
    "                  embedding_size=embedding_matrix.shape[1], \n",
    "                  embedding_matrix=embedding_matrix, \n",
    "                  hidden_size=20, \n",
    "                  num_layers=1, \n",
    "                  dropout=0.2)"
   ]
  },
  {
   "cell_type": "code",
   "execution_count": 58,
   "id": "147f9dcb-0157-4ebc-842a-968dc8de28b3",
   "metadata": {},
   "outputs": [],
   "source": [
    "# encoder = Encoder(input_size=X_train_vocab_size,\n",
    "#                   embedding_size=5, \n",
    "#                   embedding_matrix=None, \n",
    "#                   hidden_size=5, \n",
    "#                   num_layers=1, \n",
    "#                   dropout=0.5)"
   ]
  },
  {
   "cell_type": "code",
   "execution_count": 59,
   "id": "14458d9e-6d28-40e9-8164-e1c08647d7fd",
   "metadata": {},
   "outputs": [],
   "source": [
    "model = SiameseNetwork(encoder=encoder)"
   ]
  },
  {
   "cell_type": "code",
   "execution_count": 60,
   "id": "5df455a4-2aa1-4a11-976f-f62889ccb5e4",
   "metadata": {},
   "outputs": [
    {
     "name": "stdout",
     "output_type": "stream",
     "text": [
      "SiameseNetwork(\n",
      "  (encoder): Encoder(\n",
      "    (dropout): Dropout(p=0.2, inplace=False)\n",
      "    (embedding): Embedding(47074, 300, padding_idx=0)\n",
      "    (lstm): LSTM(300, 20, batch_first=True, dropout=0.2, bidirectional=True)\n",
      "  )\n",
      "  (cosinesimilarity): CosineSimilarity()\n",
      ")\n"
     ]
    }
   ],
   "source": [
    "print (model)"
   ]
  },
  {
   "cell_type": "code",
   "execution_count": 61,
   "id": "6de51966-f3e0-4d26-a491-92a50ac01d59",
   "metadata": {},
   "outputs": [],
   "source": [
    "model = model.to(device)"
   ]
  },
  {
   "cell_type": "code",
   "execution_count": 62,
   "id": "7755502c-5bb1-4324-847a-12e22a422474",
   "metadata": {},
   "outputs": [],
   "source": [
    "from torch.optim import AdamW\n",
    "\n",
    "# Define optimiser\n",
    "optimizer = AdamW(model.parameters(), lr=2e-3)"
   ]
  },
  {
   "cell_type": "code",
   "execution_count": 63,
   "id": "3f5996bc-6e69-4553-978b-254b880946a0",
   "metadata": {},
   "outputs": [
    {
     "data": {
      "text/plain": [
       "-1.0    50197\n",
       " 1.0    29803\n",
       "Name: is_duplicate, dtype: int64"
      ]
     },
     "execution_count": 63,
     "metadata": {},
     "output_type": "execute_result"
    }
   ],
   "source": [
    "y_train.value_counts()"
   ]
  },
  {
   "cell_type": "code",
   "execution_count": 64,
   "id": "4e990af1-d90f-4924-8c76-d149bd14a405",
   "metadata": {
    "scrolled": true,
    "tags": []
   },
   "outputs": [],
   "source": [
    "weight = np.array(y_train.value_counts()[-1]/y_train.value_counts()[1])"
   ]
  },
  {
   "cell_type": "code",
   "execution_count": 65,
   "id": "90370690-f103-4397-b396-48a3a157f3dc",
   "metadata": {},
   "outputs": [
    {
     "data": {
      "text/plain": [
       "array(1.68429353)"
      ]
     },
     "execution_count": 65,
     "metadata": {},
     "output_type": "execute_result"
    }
   ],
   "source": [
    "weight"
   ]
  },
  {
   "cell_type": "code",
   "execution_count": 66,
   "id": "21b856e2-6e96-4881-9b9f-e4ebccb516a3",
   "metadata": {},
   "outputs": [],
   "source": [
    "# Converting list of class weights to a tensor\n",
    "weights = torch.tensor(weight, dtype=torch.float)\n",
    "\n",
    "# Push weights to GPU\n",
    "weights = weights.to(device)\n",
    "\n",
    "# Define loss function\n",
    "cross_entropy = nn.BCEWithLogitsLoss(pos_weight=weights)\n",
    "\n",
    "# No of training epochs\n",
    "epochs = 10"
   ]
  },
  {
   "cell_type": "markdown",
   "id": "120f86bc-0865-405d-b731-c0bd97bfda4c",
   "metadata": {},
   "source": [
    "## Define Training & Evaluation Functions"
   ]
  },
  {
   "cell_type": "code",
   "execution_count": 67,
   "id": "5335f967-58f1-4c7c-b6cb-6006a810d536",
   "metadata": {},
   "outputs": [],
   "source": [
    "def train():\n",
    "    model.train()\n",
    "    \n",
    "    total_loss, total_accuracy = 0, 0\n",
    "    \n",
    "    # Empty list to save model predictions\n",
    "    total_preds = []\n",
    "    \n",
    "    # Iterate over batches\n",
    "    for step, batch in enumerate(train_dataloader):\n",
    "        # Progress update for every 50 batches\n",
    "        if step%50==0 and not step==0:\n",
    "            print ('Batch {:>5,} of {:>5,}.'.format(step, len(train_dataloader)))\n",
    "            \n",
    "        # Push batch to GPU\n",
    "        batch = [r.to(device) for r in batch]\n",
    "        \n",
    "        anchor_sent, comparison_sent, labels = batch\n",
    "\n",
    "        # Clear previously calculated gradients\n",
    "        model.zero_grad()\n",
    "        \n",
    "        # Get model predictions for the current batch\n",
    "        preds = model(anchor_sent, comparison_sent)\n",
    "        \n",
    "        # Compute loss between actual and predicted values\n",
    "        loss = cross_entropy(preds, labels)\n",
    "        \n",
    "        # Add on to the total loss\n",
    "        total_loss = total_loss + loss.item()\n",
    "        \n",
    "        # Backward pass to calculate gradients\n",
    "        loss.backward()\n",
    "        \n",
    "        # Clip gradients to 1.0. It helps in preventing exploding gradient problem\n",
    "        torch.nn.utils.clip_grad_norm(model.parameters(), 1.0)\n",
    "        \n",
    "        # Update parameters\n",
    "        optimizer.step()\n",
    "        \n",
    "        # Model predictions are stored on GPU, so push it to CPU\n",
    "        preds = preds.detach().cpu().numpy()\n",
    "        \n",
    "        # Append model predictions\n",
    "        total_preds.append(preds)\n",
    "        \n",
    "    # Compute training loss of the epoch\n",
    "    avg_loss = total_loss / len(train_dataloader)\n",
    "    \n",
    "    # Predictions are in the form of (no. of batches, size of batch, no of classes)\n",
    "    # Reshape the prediction in form of (no of samples, no of classes)\n",
    "    total_preds = np.concatenate(total_preds, axis=0)\n",
    "    \n",
    "    return avg_loss, total_preds"
   ]
  },
  {
   "cell_type": "code",
   "execution_count": 68,
   "id": "e427105c-c0d4-453a-afb5-a216a290789f",
   "metadata": {},
   "outputs": [],
   "source": [
    "def evaluate():\n",
    "    print ('\\nEvaluating...')\n",
    "    \n",
    "    # Deactivate dropout layers\n",
    "    model.eval()\n",
    "    \n",
    "    total_loss, total_accuracy = 0, 0\n",
    "    \n",
    "    # Empty list to save model predictions\n",
    "    total_preds = []\n",
    "    \n",
    "    # Iterate over batches\n",
    "    for step, batch in enumerate(val_dataloader):\n",
    "        # Progress update for every 50 batches\n",
    "        if step%50==0 and not step==0:\n",
    "            print ('Batch {:>5,} of {:>5,}.'.format(step, len(val_dataloader)))\n",
    "            \n",
    "        # Push batch to GPU\n",
    "        batch = [t.to(device) for t in batch]\n",
    "        \n",
    "        anchor_sent, comparison_sent, labels = batch\n",
    "        \n",
    "        # Deactivate autograd()\n",
    "        with torch.no_grad():\n",
    "            \n",
    "            # Model predictions\n",
    "            preds = model(anchor_sent, comparison_sent)\n",
    "            \n",
    "            # Compute the validation loss between actual and predicted values\n",
    "            loss = cross_entropy(preds, labels)\n",
    "            \n",
    "            total_loss = total_loss + loss.item()\n",
    "            \n",
    "            preds = preds.detach().cpu().numpy()\n",
    "            \n",
    "            total_preds.append(preds)\n",
    "            \n",
    "    # Compute the validation loss of the epoch\n",
    "    avg_loss = total_loss / len(val_dataloader)\n",
    "    \n",
    "    # Reshape the predictions in form of (no of samples, no of classes)\n",
    "    total_preds = np.concatenate(total_preds, axis=0)\n",
    "    \n",
    "    return avg_loss, total_preds"
   ]
  },
  {
   "cell_type": "markdown",
   "id": "39c32aba-e27d-4e1e-bf44-c5c84b631779",
   "metadata": {},
   "source": [
    "## Iterate through training loop"
   ]
  },
  {
   "cell_type": "code",
   "execution_count": 69,
   "id": "f416d8ca-97f6-4ce9-865a-5fcd8af8c9d4",
   "metadata": {
    "scrolled": true,
    "tags": []
   },
   "outputs": [
    {
     "name": "stdout",
     "output_type": "stream",
     "text": [
      "\n",
      "Epoch 1/ 10\n"
     ]
    },
    {
     "name": "stderr",
     "output_type": "stream",
     "text": [
      "C:\\Users\\solom\\AppData\\Local\\Temp\\ipykernel_19128\\3622700757.py:36: UserWarning: torch.nn.utils.clip_grad_norm is now deprecated in favor of torch.nn.utils.clip_grad_norm_.\n",
      "  torch.nn.utils.clip_grad_norm(model.parameters(), 1.0)\n"
     ]
    },
    {
     "name": "stdout",
     "output_type": "stream",
     "text": [
      "Batch    50 of 1,250.\n",
      "Batch   100 of 1,250.\n",
      "Batch   150 of 1,250.\n",
      "Batch   200 of 1,250.\n",
      "Batch   250 of 1,250.\n",
      "Batch   300 of 1,250.\n",
      "Batch   350 of 1,250.\n",
      "Batch   400 of 1,250.\n",
      "Batch   450 of 1,250.\n",
      "Batch   500 of 1,250.\n",
      "Batch   550 of 1,250.\n",
      "Batch   600 of 1,250.\n",
      "Batch   650 of 1,250.\n",
      "Batch   700 of 1,250.\n",
      "Batch   750 of 1,250.\n",
      "Batch   800 of 1,250.\n",
      "Batch   850 of 1,250.\n",
      "Batch   900 of 1,250.\n",
      "Batch   950 of 1,250.\n",
      "Batch 1,000 of 1,250.\n",
      "Batch 1,050 of 1,250.\n",
      "Batch 1,100 of 1,250.\n",
      "Batch 1,150 of 1,250.\n",
      "Batch 1,200 of 1,250.\n",
      "\n",
      "Evaluating...\n",
      "Batch    50 of   157.\n",
      "Batch   100 of   157.\n",
      "Batch   150 of   157.\n",
      "\n",
      "Training Loss: 0.68217\n",
      "Validation Loss: 0.70877\n",
      "\n",
      "Epoch 2/ 10\n",
      "Batch    50 of 1,250.\n",
      "Batch   100 of 1,250.\n",
      "Batch   150 of 1,250.\n",
      "Batch   200 of 1,250.\n",
      "Batch   250 of 1,250.\n",
      "Batch   300 of 1,250.\n",
      "Batch   350 of 1,250.\n",
      "Batch   400 of 1,250.\n",
      "Batch   450 of 1,250.\n",
      "Batch   500 of 1,250.\n",
      "Batch   550 of 1,250.\n",
      "Batch   600 of 1,250.\n",
      "Batch   650 of 1,250.\n",
      "Batch   700 of 1,250.\n",
      "Batch   750 of 1,250.\n",
      "Batch   800 of 1,250.\n",
      "Batch   850 of 1,250.\n",
      "Batch   900 of 1,250.\n",
      "Batch   950 of 1,250.\n",
      "Batch 1,000 of 1,250.\n",
      "Batch 1,050 of 1,250.\n",
      "Batch 1,100 of 1,250.\n",
      "Batch 1,150 of 1,250.\n",
      "Batch 1,200 of 1,250.\n",
      "\n",
      "Evaluating...\n",
      "Batch    50 of   157.\n",
      "Batch   100 of   157.\n",
      "Batch   150 of   157.\n",
      "\n",
      "Training Loss: 0.62845\n",
      "Validation Loss: 0.68168\n",
      "\n",
      "Epoch 3/ 10\n",
      "Batch    50 of 1,250.\n",
      "Batch   100 of 1,250.\n",
      "Batch   150 of 1,250.\n",
      "Batch   200 of 1,250.\n",
      "Batch   250 of 1,250.\n",
      "Batch   300 of 1,250.\n",
      "Batch   350 of 1,250.\n",
      "Batch   400 of 1,250.\n",
      "Batch   450 of 1,250.\n",
      "Batch   500 of 1,250.\n",
      "Batch   550 of 1,250.\n",
      "Batch   600 of 1,250.\n",
      "Batch   650 of 1,250.\n",
      "Batch   700 of 1,250.\n",
      "Batch   750 of 1,250.\n",
      "Batch   800 of 1,250.\n",
      "Batch   850 of 1,250.\n",
      "Batch   900 of 1,250.\n",
      "Batch   950 of 1,250.\n",
      "Batch 1,000 of 1,250.\n",
      "Batch 1,050 of 1,250.\n",
      "Batch 1,100 of 1,250.\n",
      "Batch 1,150 of 1,250.\n",
      "Batch 1,200 of 1,250.\n",
      "\n",
      "Evaluating...\n",
      "Batch    50 of   157.\n",
      "Batch   100 of   157.\n",
      "Batch   150 of   157.\n",
      "\n",
      "Training Loss: 0.60893\n",
      "Validation Loss: 0.67710\n",
      "\n",
      "Epoch 4/ 10\n",
      "Batch    50 of 1,250.\n",
      "Batch   100 of 1,250.\n",
      "Batch   150 of 1,250.\n",
      "Batch   200 of 1,250.\n",
      "Batch   250 of 1,250.\n",
      "Batch   300 of 1,250.\n",
      "Batch   350 of 1,250.\n",
      "Batch   400 of 1,250.\n",
      "Batch   450 of 1,250.\n",
      "Batch   500 of 1,250.\n",
      "Batch   550 of 1,250.\n",
      "Batch   600 of 1,250.\n",
      "Batch   650 of 1,250.\n",
      "Batch   700 of 1,250.\n",
      "Batch   750 of 1,250.\n",
      "Batch   800 of 1,250.\n",
      "Batch   850 of 1,250.\n",
      "Batch   900 of 1,250.\n",
      "Batch   950 of 1,250.\n",
      "Batch 1,000 of 1,250.\n",
      "Batch 1,050 of 1,250.\n",
      "Batch 1,100 of 1,250.\n",
      "Batch 1,150 of 1,250.\n",
      "Batch 1,200 of 1,250.\n",
      "\n",
      "Evaluating...\n",
      "Batch    50 of   157.\n",
      "Batch   100 of   157.\n",
      "Batch   150 of   157.\n",
      "\n",
      "Training Loss: 0.59312\n",
      "Validation Loss: 0.65994\n",
      "\n",
      "Epoch 5/ 10\n",
      "Batch    50 of 1,250.\n",
      "Batch   100 of 1,250.\n",
      "Batch   150 of 1,250.\n",
      "Batch   200 of 1,250.\n",
      "Batch   250 of 1,250.\n",
      "Batch   300 of 1,250.\n",
      "Batch   350 of 1,250.\n",
      "Batch   400 of 1,250.\n",
      "Batch   450 of 1,250.\n",
      "Batch   500 of 1,250.\n",
      "Batch   550 of 1,250.\n",
      "Batch   600 of 1,250.\n",
      "Batch   650 of 1,250.\n",
      "Batch   700 of 1,250.\n",
      "Batch   750 of 1,250.\n",
      "Batch   800 of 1,250.\n",
      "Batch   850 of 1,250.\n",
      "Batch   900 of 1,250.\n",
      "Batch   950 of 1,250.\n",
      "Batch 1,000 of 1,250.\n",
      "Batch 1,050 of 1,250.\n",
      "Batch 1,100 of 1,250.\n",
      "Batch 1,150 of 1,250.\n",
      "Batch 1,200 of 1,250.\n",
      "\n",
      "Evaluating...\n",
      "Batch    50 of   157.\n",
      "Batch   100 of   157.\n",
      "Batch   150 of   157.\n",
      "\n",
      "Training Loss: 0.58440\n",
      "Validation Loss: 0.66186\n",
      "\n",
      "Epoch 6/ 10\n",
      "Batch    50 of 1,250.\n",
      "Batch   100 of 1,250.\n",
      "Batch   150 of 1,250.\n",
      "Batch   200 of 1,250.\n",
      "Batch   250 of 1,250.\n",
      "Batch   300 of 1,250.\n",
      "Batch   350 of 1,250.\n",
      "Batch   400 of 1,250.\n",
      "Batch   450 of 1,250.\n",
      "Batch   500 of 1,250.\n",
      "Batch   550 of 1,250.\n",
      "Batch   600 of 1,250.\n",
      "Batch   650 of 1,250.\n",
      "Batch   700 of 1,250.\n",
      "Batch   750 of 1,250.\n",
      "Batch   800 of 1,250.\n",
      "Batch   850 of 1,250.\n",
      "Batch   900 of 1,250.\n",
      "Batch   950 of 1,250.\n",
      "Batch 1,000 of 1,250.\n",
      "Batch 1,050 of 1,250.\n",
      "Batch 1,100 of 1,250.\n",
      "Batch 1,150 of 1,250.\n",
      "Batch 1,200 of 1,250.\n",
      "\n",
      "Evaluating...\n",
      "Batch    50 of   157.\n",
      "Batch   100 of   157.\n",
      "Batch   150 of   157.\n",
      "\n",
      "Training Loss: 0.57478\n",
      "Validation Loss: 0.65727\n",
      "\n",
      "Epoch 7/ 10\n",
      "Batch    50 of 1,250.\n",
      "Batch   100 of 1,250.\n",
      "Batch   150 of 1,250.\n",
      "Batch   200 of 1,250.\n",
      "Batch   250 of 1,250.\n",
      "Batch   300 of 1,250.\n",
      "Batch   350 of 1,250.\n",
      "Batch   400 of 1,250.\n",
      "Batch   450 of 1,250.\n",
      "Batch   500 of 1,250.\n",
      "Batch   550 of 1,250.\n",
      "Batch   600 of 1,250.\n",
      "Batch   650 of 1,250.\n",
      "Batch   700 of 1,250.\n",
      "Batch   750 of 1,250.\n",
      "Batch   800 of 1,250.\n",
      "Batch   850 of 1,250.\n",
      "Batch   900 of 1,250.\n",
      "Batch   950 of 1,250.\n",
      "Batch 1,000 of 1,250.\n",
      "Batch 1,050 of 1,250.\n",
      "Batch 1,100 of 1,250.\n",
      "Batch 1,150 of 1,250.\n",
      "Batch 1,200 of 1,250.\n",
      "\n",
      "Evaluating...\n",
      "Batch    50 of   157.\n",
      "Batch   100 of   157.\n",
      "Batch   150 of   157.\n",
      "\n",
      "Training Loss: 0.56475\n",
      "Validation Loss: 0.65813\n",
      "\n",
      "Epoch 8/ 10\n",
      "Batch    50 of 1,250.\n",
      "Batch   100 of 1,250.\n",
      "Batch   150 of 1,250.\n",
      "Batch   200 of 1,250.\n",
      "Batch   250 of 1,250.\n",
      "Batch   300 of 1,250.\n",
      "Batch   350 of 1,250.\n",
      "Batch   400 of 1,250.\n",
      "Batch   450 of 1,250.\n",
      "Batch   500 of 1,250.\n",
      "Batch   550 of 1,250.\n",
      "Batch   600 of 1,250.\n",
      "Batch   650 of 1,250.\n",
      "Batch   700 of 1,250.\n",
      "Batch   750 of 1,250.\n",
      "Batch   800 of 1,250.\n",
      "Batch   850 of 1,250.\n",
      "Batch   900 of 1,250.\n",
      "Batch   950 of 1,250.\n",
      "Batch 1,000 of 1,250.\n",
      "Batch 1,050 of 1,250.\n",
      "Batch 1,100 of 1,250.\n",
      "Batch 1,150 of 1,250.\n",
      "Batch 1,200 of 1,250.\n",
      "\n",
      "Evaluating...\n",
      "Batch    50 of   157.\n",
      "Batch   100 of   157.\n",
      "Batch   150 of   157.\n",
      "\n",
      "Training Loss: 0.56530\n",
      "Validation Loss: 0.64181\n",
      "\n",
      "Epoch 9/ 10\n",
      "Batch    50 of 1,250.\n",
      "Batch   100 of 1,250.\n",
      "Batch   150 of 1,250.\n",
      "Batch   200 of 1,250.\n",
      "Batch   250 of 1,250.\n",
      "Batch   300 of 1,250.\n",
      "Batch   350 of 1,250.\n",
      "Batch   400 of 1,250.\n",
      "Batch   450 of 1,250.\n",
      "Batch   500 of 1,250.\n",
      "Batch   550 of 1,250.\n",
      "Batch   600 of 1,250.\n",
      "Batch   650 of 1,250.\n",
      "Batch   700 of 1,250.\n",
      "Batch   750 of 1,250.\n",
      "Batch   800 of 1,250.\n",
      "Batch   850 of 1,250.\n",
      "Batch   900 of 1,250.\n",
      "Batch   950 of 1,250.\n",
      "Batch 1,000 of 1,250.\n",
      "Batch 1,050 of 1,250.\n",
      "Batch 1,100 of 1,250.\n",
      "Batch 1,150 of 1,250.\n",
      "Batch 1,200 of 1,250.\n",
      "\n",
      "Evaluating...\n",
      "Batch    50 of   157.\n",
      "Batch   100 of   157.\n",
      "Batch   150 of   157.\n",
      "\n",
      "Training Loss: 0.55974\n",
      "Validation Loss: 0.64396\n",
      "\n",
      "Epoch 10/ 10\n",
      "Batch    50 of 1,250.\n",
      "Batch   100 of 1,250.\n",
      "Batch   150 of 1,250.\n",
      "Batch   200 of 1,250.\n",
      "Batch   250 of 1,250.\n",
      "Batch   300 of 1,250.\n",
      "Batch   350 of 1,250.\n",
      "Batch   400 of 1,250.\n",
      "Batch   450 of 1,250.\n",
      "Batch   500 of 1,250.\n",
      "Batch   550 of 1,250.\n",
      "Batch   600 of 1,250.\n",
      "Batch   650 of 1,250.\n",
      "Batch   700 of 1,250.\n",
      "Batch   750 of 1,250.\n",
      "Batch   800 of 1,250.\n",
      "Batch   850 of 1,250.\n",
      "Batch   900 of 1,250.\n",
      "Batch   950 of 1,250.\n",
      "Batch 1,000 of 1,250.\n",
      "Batch 1,050 of 1,250.\n",
      "Batch 1,100 of 1,250.\n",
      "Batch 1,150 of 1,250.\n",
      "Batch 1,200 of 1,250.\n",
      "\n",
      "Evaluating...\n",
      "Batch    50 of   157.\n",
      "Batch   100 of   157.\n",
      "Batch   150 of   157.\n",
      "\n",
      "Training Loss: 0.55037\n",
      "Validation Loss: 0.64317\n"
     ]
    }
   ],
   "source": [
    "# Set initial loss to infinite\n",
    "best_valid_loss = float('inf')\n",
    "\n",
    "# Empty lists to store training and validation loss of each epoch\n",
    "train_losses = []\n",
    "valid_losses = []\n",
    "\n",
    "# For each epoch\n",
    "for epoch in range(epochs):\n",
    "    print ('\\nEpoch {:}/ {:}'.format(epoch+1, epochs))\n",
    "    \n",
    "    # Train model\n",
    "    train_loss, _ = train()\n",
    "    \n",
    "    # Evaluate model\n",
    "    valid_loss, _ = evaluate()\n",
    "    \n",
    "    # Save the best model\n",
    "    if valid_loss<best_valid_loss:\n",
    "        best_valid_loss = valid_loss\n",
    "        torch.save(model.state_dict(), 'saved_model_weights/pytorch_siamese_network.pt')\n",
    "        \n",
    "    train_losses.append(train_loss)\n",
    "    valid_losses.append(valid_loss)\n",
    "    \n",
    "    print (f\"\\nTraining Loss: {train_loss:.5f}\")\n",
    "    print (f\"Validation Loss: {valid_loss:.5f}\")"
   ]
  },
  {
   "cell_type": "markdown",
   "id": "6b496953-263f-49c8-8d0a-9cfd8751b8a5",
   "metadata": {},
   "source": [
    "## Visualise training and validation loss"
   ]
  },
  {
   "cell_type": "code",
   "execution_count": 70,
   "id": "dba1a685-bfe1-49ca-9d8f-30ffef744a92",
   "metadata": {},
   "outputs": [
    {
     "data": {
      "text/plain": [
       "[<matplotlib.lines.Line2D at 0x2a1db089cc0>,\n",
       " <matplotlib.lines.Line2D at 0x2a1db089cf0>]"
      ]
     },
     "execution_count": 70,
     "metadata": {},
     "output_type": "execute_result"
    },
    {
     "data": {
      "image/png": "[encoded data removed]",
      "text/plain": [
       "<Figure size 640x480 with 1 Axes>"
      ]
     },
     "metadata": {},
     "output_type": "display_data"
    }
   ],
   "source": [
    "import matplotlib.pyplot as plt\n",
    "plt.plot(train_losses, 'g', valid_losses, 'r')"
   ]
  },
  {
   "cell_type": "markdown",
   "id": "e618a484-e3b9-4c6a-aad1-8ef9f2c0457a",
   "metadata": {},
   "source": [
    "## Model evaluation"
   ]
  },
  {
   "cell_type": "code",
   "execution_count": 71,
   "id": "2897c2ca-d76a-46f2-b38c-cc51344eca5e",
   "metadata": {},
   "outputs": [],
   "source": [
    "from sklearn.metrics import classification_report, roc_auc_score, accuracy_score"
   ]
  },
  {
   "cell_type": "code",
   "execution_count": 72,
   "id": "99351955-13d5-4ee7-ab6a-f4fc1950d935",
   "metadata": {},
   "outputs": [
    {
     "data": {
      "text/plain": [
       "<All keys matched successfully>"
      ]
     },
     "execution_count": 72,
     "metadata": {},
     "output_type": "execute_result"
    }
   ],
   "source": [
    "model_path = 'saved_model_weights/pytorch_siamese_network.pt'\n",
    "\n",
    "model.load_state_dict(torch.load(model_path))"
   ]
  },
  {
   "cell_type": "code",
   "execution_count": 73,
   "id": "92d0895f-c9d0-48ea-b764-4f04c4fc03dc",
   "metadata": {},
   "outputs": [],
   "source": [
    "final_encoder = model.encoder"
   ]
  },
  {
   "cell_type": "code",
   "execution_count": 74,
   "id": "96661063-7f94-4f6e-844b-b6bd5f004329",
   "metadata": {},
   "outputs": [
    {
     "name": "stdout",
     "output_type": "stream",
     "text": [
      "Encoder(\n",
      "  (dropout): Dropout(p=0.2, inplace=False)\n",
      "  (embedding): Embedding(47074, 300, padding_idx=0)\n",
      "  (lstm): LSTM(300, 20, batch_first=True, dropout=0.2, bidirectional=True)\n",
      ")\n"
     ]
    }
   ],
   "source": [
    "print (final_encoder)"
   ]
  },
  {
   "cell_type": "code",
   "execution_count": 75,
   "id": "9aceb87b-83dd-4d64-a74c-395fc2b1a3ea",
   "metadata": {},
   "outputs": [
    {
     "data": {
      "text/plain": [
       "0   -1.0\n",
       "1   -1.0\n",
       "2   -1.0\n",
       "3   -1.0\n",
       "4    1.0\n",
       "Name: is_duplicate, dtype: float64"
      ]
     },
     "execution_count": 75,
     "metadata": {},
     "output_type": "execute_result"
    }
   ],
   "source": [
    "y_test.head()"
   ]
  },
  {
   "cell_type": "code",
   "execution_count": 76,
   "id": "3eeef7bc-295a-4149-8555-0cda0a8849c8",
   "metadata": {},
   "outputs": [
    {
     "data": {
      "text/html": [
       "<div>\n",
       "<style scoped>\n",
       "    .dataframe tbody tr th:only-of-type {\n",
       "        vertical-align: middle;\n",
       "    }\n",
       "\n",
       "    .dataframe tbody tr th {\n",
       "        vertical-align: top;\n",
       "    }\n",
       "\n",
       "    .dataframe thead th {\n",
       "        text-align: right;\n",
       "    }\n",
       "</style>\n",
       "<table border=\"1\" class=\"dataframe\">\n",
       "  <thead>\n",
       "    <tr style=\"text-align: right;\">\n",
       "      <th></th>\n",
       "      <th>id</th>\n",
       "      <th>q1_preprocessed</th>\n",
       "      <th>q2_preprocessed</th>\n",
       "    </tr>\n",
       "  </thead>\n",
       "  <tbody>\n",
       "    <tr>\n",
       "      <th>0</th>\n",
       "      <td>8759.0</td>\n",
       "      <td>how do i master coding</td>\n",
       "      <td>what are the most efficient ways to master c++</td>\n",
       "    </tr>\n",
       "    <tr>\n",
       "      <th>1</th>\n",
       "      <td>97940.0</td>\n",
       "      <td>what do we need to have the best halloween</td>\n",
       "      <td>what makes the best halloween character</td>\n",
       "    </tr>\n",
       "    <tr>\n",
       "      <th>2</th>\n",
       "      <td>776.0</td>\n",
       "      <td>how do payroll companies make money</td>\n",
       "      <td>how companies make money</td>\n",
       "    </tr>\n",
       "    <tr>\n",
       "      <th>3</th>\n",
       "      <td>96780.0</td>\n",
       "      <td>what does the  emoji generally mean</td>\n",
       "      <td>how do i encode emojis</td>\n",
       "    </tr>\n",
       "    <tr>\n",
       "      <th>4</th>\n",
       "      <td>58162.0</td>\n",
       "      <td>what are the best books available for data str...</td>\n",
       "      <td>books on data structures</td>\n",
       "    </tr>\n",
       "  </tbody>\n",
       "</table>\n",
       "</div>"
      ],
      "text/plain": [
       "        id                                    q1_preprocessed  \\\n",
       "0   8759.0                             how do i master coding   \n",
       "1  97940.0         what do we need to have the best halloween   \n",
       "2    776.0                how do payroll companies make money   \n",
       "3  96780.0                what does the  emoji generally mean   \n",
       "4  58162.0  what are the best books available for data str...   \n",
       "\n",
       "                                  q2_preprocessed  \n",
       "0  what are the most efficient ways to master c++  \n",
       "1         what makes the best halloween character  \n",
       "2                        how companies make money  \n",
       "3                          how do i encode emojis  \n",
       "4                        books on data structures  "
      ]
     },
     "execution_count": 76,
     "metadata": {},
     "output_type": "execute_result"
    }
   ],
   "source": [
    "X_test.head()"
   ]
  },
  {
   "cell_type": "code",
   "execution_count": 77,
   "id": "87c64313-44c2-4b90-88c1-9f56f77f7f4d",
   "metadata": {
    "scrolled": true,
    "tags": []
   },
   "outputs": [
    {
     "data": {
      "text/plain": [
       "tensor([[    0,     0,     0,     0,     0,     0,     0,     0,     0,     0,\n",
       "             0,     0,     0,     0,     0,     0,     0,     0,     0,     0,\n",
       "             0,     0,     0,     0,     0,     0,     0,     0,     0,     0,\n",
       "             0,     0,     0,     0,     0,     0,     0,     0,     0,     0,\n",
       "             0,     0,     0,     0,     0,  2928,   107,  3241, 30359, 38384],\n",
       "        [    0,     0,     0,     0,     0,     0,     0,     0,     0,     0,\n",
       "             0,     0,     0,     0,     0,     0,     0,     0,     0,     0,\n",
       "             0,     0,     0,     0,     0,     0,     0,     0,     0,     0,\n",
       "             0,     0,     0,     0,     0,     0,     0,     0,     0,     0,\n",
       "             0, 35832,   107, 35436, 17033, 43912, 45335, 29489, 32936, 34402],\n",
       "        [    0,     0,     0,     0,     0,     0,     0,     0,     0,     0,\n",
       "             0,     0,     0,     0,     0,     0,     0,     0,     0,     0,\n",
       "             0,     0,     0,     0,     0,     0,     0,     0,     0,     0,\n",
       "             0,     0,     0,     0,     0,     0,     0,     0,     0,     0,\n",
       "             0,     0,     0,     0,  2928,   107, 36034, 12502, 25529,  9548],\n",
       "        [    0,     0,     0,     0,     0,     0,     0,     0,     0,     0,\n",
       "             0,     0,     0,     0,     0,     0,     0,     0,     0,     0,\n",
       "             0,     0,     0,     0,     0,     0,     0,     0,     0,     0,\n",
       "             0,     0,     0,     0,     0,     0,     0,     0,     0,     0,\n",
       "             0,     0,     0,     0, 35832,   119, 29489, 38337, 11377, 37590],\n",
       "        [    0,     0,     0,     0,     0,     0,     0,     0,     0,     0,\n",
       "             0,     0,     0,     0,     0,     0,     0,     0,     0,     0,\n",
       "             0,     0,     0,     0,     0,     0,     0,     0,     0,     0,\n",
       "             0,     0,     0,     0,     0,     0,     0,     0,     0, 35832,\n",
       "         17377, 29489, 32936, 36649, 46718,   208, 38970, 42207,  6450, 19751]],\n",
       "       dtype=torch.int32)"
      ]
     },
     "execution_count": 77,
     "metadata": {},
     "output_type": "execute_result"
    }
   ],
   "source": [
    "test_X_anchor[:5]"
   ]
  },
  {
   "cell_type": "code",
   "execution_count": 78,
   "id": "210887a4-4b45-40ff-a11e-b0d5ba76907f",
   "metadata": {
    "scrolled": true,
    "tags": []
   },
   "outputs": [
    {
     "data": {
      "text/plain": [
       "tensor([[    0,     0,     0,     0,     0,     0,     0,     0,     0,     0,\n",
       "             0,     0,     0,     0,     0,     0,     0,     0,     0,     0,\n",
       "             0,     0,     0,     0,     0,     0,     0,     0,     0,     0,\n",
       "             0,     0,     0,     0,     0,     0,     0,     0,     0,     0,\n",
       "             0, 35832, 17377, 29489,  6414, 17770, 24659, 43912, 30359, 29935],\n",
       "        [    0,     0,     0,     0,     0,     0,     0,     0,     0,     0,\n",
       "             0,     0,     0,     0,     0,     0,     0,     0,     0,     0,\n",
       "             0,     0,     0,     0,     0,     0,     0,     0,     0,     0,\n",
       "             0,     0,     0,     0,     0,     0,     0,     0,     0,     0,\n",
       "             0,     0,     0,     0, 35832, 44922, 29489, 32936, 34402, 20948],\n",
       "        [    0,     0,     0,     0,     0,     0,     0,     0,     0,     0,\n",
       "             0,     0,     0,     0,     0,     0,     0,     0,     0,     0,\n",
       "             0,     0,     0,     0,     0,     0,     0,     0,     0,     0,\n",
       "             0,     0,     0,     0,     0,     0,     0,     0,     0,     0,\n",
       "             0,     0,     0,     0,     0,     0,  2928, 12502, 25529,  9548],\n",
       "        [    0,     0,     0,     0,     0,     0,     0,     0,     0,     0,\n",
       "             0,     0,     0,     0,     0,     0,     0,     0,     0,     0,\n",
       "             0,     0,     0,     0,     0,     0,     0,     0,     0,     0,\n",
       "             0,     0,     0,     0,     0,     0,     0,     0,     0,     0,\n",
       "             0,     0,     0,     0,     0,  2928,   107,  3241,     1, 25270],\n",
       "        [    0,     0,     0,     0,     0,     0,     0,     0,     0,     0,\n",
       "             0,     0,     0,     0,     0,     0,     0,     0,     0,     0,\n",
       "             0,     0,     0,     0,     0,     0,     0,     0,     0,     0,\n",
       "             0,     0,     0,     0,     0,     0,     0,     0,     0,     0,\n",
       "             0,     0,     0,     0,     0,     0, 36649, 45036, 38970, 42207]],\n",
       "       dtype=torch.int32)"
      ]
     },
     "execution_count": 78,
     "metadata": {},
     "output_type": "execute_result"
    }
   ],
   "source": [
    "test_X_comparison[:5]"
   ]
  },
  {
   "cell_type": "code",
   "execution_count": 79,
   "id": "ce4e02fd-72af-4333-931e-00ac3d36f3c6",
   "metadata": {},
   "outputs": [],
   "source": [
    "out_anchor = final_encoder(test_X_anchor[:5].to(device))\n",
    "out_comparison = final_encoder(test_X_comparison[:5].to(device))"
   ]
  },
  {
   "cell_type": "code",
   "execution_count": 80,
   "id": "1ade4788-24a6-4d37-bb7a-222c418366b1",
   "metadata": {},
   "outputs": [],
   "source": [
    "cos = nn.CosineSimilarity(dim=0)"
   ]
  },
  {
   "cell_type": "code",
   "execution_count": 81,
   "id": "fab6fcc3-89f0-4221-983f-1bd175847a04",
   "metadata": {},
   "outputs": [
    {
     "data": {
      "text/plain": [
       "tensor(-0.0767, device='cuda:0', grad_fn=<SumBackward1>)"
      ]
     },
     "execution_count": 81,
     "metadata": {},
     "output_type": "execute_result"
    }
   ],
   "source": [
    "cos(out_anchor[0], out_comparison[0])"
   ]
  },
  {
   "cell_type": "code",
   "execution_count": 82,
   "id": "0161c668-c804-44ac-a616-4d72f13150ef",
   "metadata": {},
   "outputs": [
    {
     "data": {
      "text/plain": [
       "tensor(0.1769, device='cuda:0', grad_fn=<SumBackward1>)"
      ]
     },
     "execution_count": 82,
     "metadata": {},
     "output_type": "execute_result"
    }
   ],
   "source": [
    "cos(out_anchor[1], out_comparison[1])"
   ]
  },
  {
   "cell_type": "code",
   "execution_count": 83,
   "id": "a7b5c383-d7b3-4ffa-806f-4b950e10294c",
   "metadata": {},
   "outputs": [
    {
     "data": {
      "text/plain": [
       "tensor(-0.3286, device='cuda:0', grad_fn=<SumBackward1>)"
      ]
     },
     "execution_count": 83,
     "metadata": {},
     "output_type": "execute_result"
    }
   ],
   "source": [
    "cos(out_anchor[2], out_comparison[2])"
   ]
  },
  {
   "cell_type": "code",
   "execution_count": 84,
   "id": "a7e49d85-55b3-4575-a137-a9292244600d",
   "metadata": {},
   "outputs": [
    {
     "data": {
      "text/plain": [
       "tensor(-0.2477, device='cuda:0', grad_fn=<SumBackward1>)"
      ]
     },
     "execution_count": 84,
     "metadata": {},
     "output_type": "execute_result"
    }
   ],
   "source": [
    "cos(out_anchor[3], out_comparison[3])"
   ]
  },
  {
   "cell_type": "code",
   "execution_count": 85,
   "id": "7cb0c484-0495-41e6-ad8d-a30e17b8eace",
   "metadata": {},
   "outputs": [
    {
     "data": {
      "text/plain": [
       "tensor(0.4378, device='cuda:0', grad_fn=<SumBackward1>)"
      ]
     },
     "execution_count": 85,
     "metadata": {},
     "output_type": "execute_result"
    }
   ],
   "source": [
    "cos(out_anchor[4], out_comparison[4])"
   ]
  }
 ],
 "metadata": {
  "kernelspec": {
   "display_name": "nlp",
   "language": "python",
   "name": "nlp"
  },
  "language_info": {
   "codemirror_mode": {
    "name": "ipython",
    "version": 3
   },
   "file_extension": ".py",
   "mimetype": "text/x-python",
   "name": "python",
   "nbconvert_exporter": "python",
   "pygments_lexer": "ipython3",
   "version": "3.10.9"
  }
 },
 "nbformat": 4,
 "nbformat_minor": 5
}
